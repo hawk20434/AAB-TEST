{
 "cells": [
  {
   "cell_type": "code",
   "execution_count": 1,
   "metadata": {},
   "outputs": [],
   "source": [
    "import pandas as pd\n",
    "import numpy as np\n",
    "import seaborn as sns\n",
    "import matplotlib.pyplot as plt\n",
    "import plotly.express as px\n",
    "import datetime\n",
    "import scipy\n",
    "from scipy import stats\n",
    "from tqdm.auto import tqdm\n",
    "from scipy.stats import norm, mannwhitneyu\n",
    "\n",
    "%matplotlib inline"
   ]
  },
  {
   "cell_type": "markdown",
   "metadata": {},
   "source": [
    "# Анализ исходных данных"
   ]
  },
  {
   "cell_type": "markdown",
   "metadata": {},
   "source": [
    "Представьте, что вы работаете в крупном дейтинговом приложении. Помимо базовых функций, в приложении также имеется премиум-подписка, которая дает доступ к ряду важных дополнительных возможностей. Был проведен A/B тест, в рамках которого для новых пользователей из нескольких стран была изменена стоимость премиум-подписки* при покупке через две новые платежные системы. При этом стоимость пробного периода оставалась прежней.\n",
    "\n",
    "Проверьте:\n",
    "\n",
    "- Был ли эксперимент успешен в целом.\n",
    "- Проанализируйте, имеет ли нововведение смысл среди каких-либо конкретных групп пользователей.\n",
    "\n",
    "Деньги за подписку списываются ежемесячно до тех пор, пока пользователь её не отменит.\n",
    "\n",
    "В целях упрощения понимания всех исходных данных приведем их к общему обозначению. В качестве исходных данных были представлены три группы пользователей, которые разделены на тестовую группу и две контрольных.\n",
    "-  Пользователи тестовой группе  - B\n",
    "-  Пользователи в первой контрольной группе - А1\n",
    "-  Пользователи во второй контрольной группе - А2\n",
    "\n",
    "Для проверки данного эксперимента построим следующий план действий.\n",
    "1. Проверка исходных данных на наличие пустых значений, дубликатов.\n",
    "2. Произведем анализ групп А1 и А2, одинаковые ли выборки, есть ли расхождения по признакам в группах.\n",
    "3. Проверка эксперимента, есть ли существенные отличия между группами А1,А2 и группой Б. Был ли проведен эксперимент достоверно\n",
    "4. При успешном проведении эксперимента, определим какие группы вызывают отличия или таковых нет. В случае отрицательного проведения эксперимента выявим причину по который он не состоялся. \n",
    "\n",
    "Стоит сразу же предположить, что должно получиться на выходе. Логично предположить, что в случае успеха должны быть повышены такие метрики как: выручка, повышения числа пользователей с подпиской, ARPPU."
   ]
  },
  {
   "cell_type": "code",
   "execution_count": 2,
   "metadata": {},
   "outputs": [],
   "source": [
    "# информация о пользователях в тестовой группе. \n",
    "users_test = pd.read_csv(\"/mnt/HC_Volume_18315164/home-jupyter/jupyter-m-lygin/users_test.csv\", sep=\";\")\n",
    "# информация о пользователях в первой контрольной группе.\n",
    "users_control_1 = pd.read_csv(\"/mnt/HC_Volume_18315164/home-jupyter/jupyter-m-lygin/users_control_1.csv\", sep=\";\")\n",
    "# информация о пользователях во второй контрольной группе .\n",
    "users_control_2 = pd.read_csv(\"/mnt/HC_Volume_18315164/home-jupyter/jupyter-m-lygin/users_control_2.csv\", sep=\";\")\n",
    "# информация о платежах пользователей в тестовой группе. \n",
    "transactions_test = pd.read_csv(\"/mnt/HC_Volume_18315164/home-jupyter/jupyter-m-lygin/transactions_test.csv\", sep=\";\",\n",
    "    parse_dates=['joined_at','paid_at'])\n",
    "# информация о платежах пользователей в первой контрольной группе. \n",
    "transactions_control_1 = pd.read_csv(\"/mnt/HC_Volume_18315164/home-jupyter/jupyter-m-lygin/transactions_control_1.csv\", sep=\";\",\n",
    "    parse_dates=['joined_at','paid_at'])\n",
    "# информация о платежах пользователей во второй контрольной группе\n",
    "transactions_control_2 = pd.read_csv(\"/mnt/HC_Volume_18315164/home-jupyter/jupyter-m-lygin/transactions_control_2.csv\", sep=\";\",\n",
    "    parse_dates=['joined_at','paid_at'])"
   ]
  },
  {
   "cell_type": "code",
   "execution_count": 3,
   "metadata": {},
   "outputs": [],
   "source": [
    "# создадим копию для удобства, так как была необходимость проверки с исходными данными в дальнейшем\n",
    "Copy_transactions_control_1 = transactions_control_1.copy()\n",
    "Copy_transactions_control_2 = transactions_control_2.copy()\n",
    "Copy_transactions_test = transactions_test.copy()"
   ]
  },
  {
   "cell_type": "markdown",
   "metadata": {},
   "source": [
    "### Проведем обработку информации о группе Б"
   ]
  },
  {
   "cell_type": "code",
   "execution_count": 4,
   "metadata": {},
   "outputs": [
    {
     "data": {
      "text/html": [
       "<div>\n",
       "<style scoped>\n",
       "    .dataframe tbody tr th:only-of-type {\n",
       "        vertical-align: middle;\n",
       "    }\n",
       "\n",
       "    .dataframe tbody tr th {\n",
       "        vertical-align: top;\n",
       "    }\n",
       "\n",
       "    .dataframe thead th {\n",
       "        text-align: right;\n",
       "    }\n",
       "</style>\n",
       "<table border=\"1\" class=\"dataframe\">\n",
       "  <thead>\n",
       "    <tr style=\"text-align: right;\">\n",
       "      <th></th>\n",
       "      <th>uid</th>\n",
       "      <th>age</th>\n",
       "      <th>attraction_coeff</th>\n",
       "      <th>coins</th>\n",
       "      <th>country</th>\n",
       "      <th>visit_days</th>\n",
       "      <th>gender</th>\n",
       "      <th>age_filter_start</th>\n",
       "      <th>age_filter_end</th>\n",
       "      <th>views_count</th>\n",
       "      <th>was_premium</th>\n",
       "      <th>is_premium</th>\n",
       "      <th>total_revenue</th>\n",
       "    </tr>\n",
       "  </thead>\n",
       "  <tbody>\n",
       "    <tr>\n",
       "      <th>0</th>\n",
       "      <td>892309896</td>\n",
       "      <td>27</td>\n",
       "      <td>685</td>\n",
       "      <td>NaN</td>\n",
       "      <td>United States of America</td>\n",
       "      <td>1,2,3,4,5,6,7,8,9,10,11,12,16,17</td>\n",
       "      <td>1</td>\n",
       "      <td>24</td>\n",
       "      <td>30</td>\n",
       "      <td>89</td>\n",
       "      <td>NaN</td>\n",
       "      <td>NaN</td>\n",
       "      <td>0</td>\n",
       "    </tr>\n",
       "    <tr>\n",
       "      <th>1</th>\n",
       "      <td>892044516</td>\n",
       "      <td>27</td>\n",
       "      <td>0</td>\n",
       "      <td>NaN</td>\n",
       "      <td>Germany</td>\n",
       "      <td>NaN</td>\n",
       "      <td>1</td>\n",
       "      <td>24</td>\n",
       "      <td>30</td>\n",
       "      <td>0</td>\n",
       "      <td>NaN</td>\n",
       "      <td>NaN</td>\n",
       "      <td>0</td>\n",
       "    </tr>\n",
       "    <tr>\n",
       "      <th>2</th>\n",
       "      <td>892185708</td>\n",
       "      <td>45</td>\n",
       "      <td>44</td>\n",
       "      <td>NaN</td>\n",
       "      <td>Israel</td>\n",
       "      <td>1,3,4,6,7,8,10,11,12,13,14,15,16,17,18,19,20,2...</td>\n",
       "      <td>1</td>\n",
       "      <td>42</td>\n",
       "      <td>48</td>\n",
       "      <td>68</td>\n",
       "      <td>NaN</td>\n",
       "      <td>NaN</td>\n",
       "      <td>0</td>\n",
       "    </tr>\n",
       "    <tr>\n",
       "      <th>3</th>\n",
       "      <td>892130292</td>\n",
       "      <td>32</td>\n",
       "      <td>0</td>\n",
       "      <td>NaN</td>\n",
       "      <td>United States of America</td>\n",
       "      <td>1,2,3,4,5,6,7,8,9,10,11,12</td>\n",
       "      <td>1</td>\n",
       "      <td>29</td>\n",
       "      <td>35</td>\n",
       "      <td>0</td>\n",
       "      <td>NaN</td>\n",
       "      <td>NaN</td>\n",
       "      <td>0</td>\n",
       "    </tr>\n",
       "    <tr>\n",
       "      <th>4</th>\n",
       "      <td>891406035</td>\n",
       "      <td>27</td>\n",
       "      <td>1000</td>\n",
       "      <td>NaN</td>\n",
       "      <td>France</td>\n",
       "      <td>NaN</td>\n",
       "      <td>1</td>\n",
       "      <td>24</td>\n",
       "      <td>30</td>\n",
       "      <td>1</td>\n",
       "      <td>1.0</td>\n",
       "      <td>NaN</td>\n",
       "      <td>0</td>\n",
       "    </tr>\n",
       "  </tbody>\n",
       "</table>\n",
       "</div>"
      ],
      "text/plain": [
       "         uid  age  attraction_coeff  coins                   country  \\\n",
       "0  892309896   27               685    NaN  United States of America   \n",
       "1  892044516   27                 0    NaN                   Germany   \n",
       "2  892185708   45                44    NaN                    Israel   \n",
       "3  892130292   32                 0    NaN  United States of America   \n",
       "4  891406035   27              1000    NaN                    France   \n",
       "\n",
       "                                          visit_days  gender  \\\n",
       "0                   1,2,3,4,5,6,7,8,9,10,11,12,16,17       1   \n",
       "1                                                NaN       1   \n",
       "2  1,3,4,6,7,8,10,11,12,13,14,15,16,17,18,19,20,2...       1   \n",
       "3                         1,2,3,4,5,6,7,8,9,10,11,12       1   \n",
       "4                                                NaN       1   \n",
       "\n",
       "   age_filter_start  age_filter_end  views_count  was_premium  is_premium  \\\n",
       "0                24              30           89          NaN         NaN   \n",
       "1                24              30            0          NaN         NaN   \n",
       "2                42              48           68          NaN         NaN   \n",
       "3                29              35            0          NaN         NaN   \n",
       "4                24              30            1          1.0         NaN   \n",
       "\n",
       "   total_revenue  \n",
       "0              0  \n",
       "1              0  \n",
       "2              0  \n",
       "3              0  \n",
       "4              0  "
      ]
     },
     "execution_count": 4,
     "metadata": {},
     "output_type": "execute_result"
    }
   ],
   "source": [
    "users_test.head(5)"
   ]
  },
  {
   "cell_type": "code",
   "execution_count": 5,
   "metadata": {},
   "outputs": [
    {
     "name": "stdout",
     "output_type": "stream",
     "text": [
      "<class 'pandas.core.frame.DataFrame'>\n",
      "RangeIndex: 4308 entries, 0 to 4307\n",
      "Data columns (total 13 columns):\n",
      " #   Column            Non-Null Count  Dtype  \n",
      "---  ------            --------------  -----  \n",
      " 0   uid               4308 non-null   int64  \n",
      " 1   age               4308 non-null   int64  \n",
      " 2   attraction_coeff  4308 non-null   int64  \n",
      " 3   coins             49 non-null     float64\n",
      " 4   country           4308 non-null   object \n",
      " 5   visit_days        2978 non-null   object \n",
      " 6   gender            4308 non-null   int64  \n",
      " 7   age_filter_start  4308 non-null   int64  \n",
      " 8   age_filter_end    4308 non-null   int64  \n",
      " 9   views_count       4308 non-null   int64  \n",
      " 10  was_premium       408 non-null    float64\n",
      " 11  is_premium        157 non-null    float64\n",
      " 12  total_revenue     4308 non-null   int64  \n",
      "dtypes: float64(3), int64(8), object(2)\n",
      "memory usage: 437.7+ KB\n"
     ]
    }
   ],
   "source": [
    "users_test.info()"
   ]
  },
  {
   "cell_type": "code",
   "execution_count": 6,
   "metadata": {},
   "outputs": [
    {
     "data": {
      "text/plain": [
       "uid                    0\n",
       "age                    0\n",
       "attraction_coeff       0\n",
       "coins               4259\n",
       "country                0\n",
       "visit_days          1330\n",
       "gender                 0\n",
       "age_filter_start       0\n",
       "age_filter_end         0\n",
       "views_count            0\n",
       "was_premium         3900\n",
       "is_premium          4151\n",
       "total_revenue          0\n",
       "dtype: int64"
      ]
     },
     "execution_count": 6,
     "metadata": {},
     "output_type": "execute_result"
    }
   ],
   "source": [
    "users_test.isna().sum()"
   ]
  },
  {
   "cell_type": "code",
   "execution_count": 7,
   "metadata": {},
   "outputs": [
    {
     "data": {
      "text/html": [
       "<div>\n",
       "<style scoped>\n",
       "    .dataframe tbody tr th:only-of-type {\n",
       "        vertical-align: middle;\n",
       "    }\n",
       "\n",
       "    .dataframe tbody tr th {\n",
       "        vertical-align: top;\n",
       "    }\n",
       "\n",
       "    .dataframe thead th {\n",
       "        text-align: right;\n",
       "    }\n",
       "</style>\n",
       "<table border=\"1\" class=\"dataframe\">\n",
       "  <thead>\n",
       "    <tr style=\"text-align: right;\">\n",
       "      <th></th>\n",
       "      <th>uid</th>\n",
       "      <th>age</th>\n",
       "      <th>attraction_coeff</th>\n",
       "      <th>coins</th>\n",
       "      <th>gender</th>\n",
       "      <th>age_filter_start</th>\n",
       "      <th>age_filter_end</th>\n",
       "      <th>views_count</th>\n",
       "      <th>was_premium</th>\n",
       "      <th>is_premium</th>\n",
       "      <th>total_revenue</th>\n",
       "    </tr>\n",
       "  </thead>\n",
       "  <tbody>\n",
       "    <tr>\n",
       "      <th>count</th>\n",
       "      <td>4.308000e+03</td>\n",
       "      <td>4308.000000</td>\n",
       "      <td>4308.000000</td>\n",
       "      <td>49.000000</td>\n",
       "      <td>4308.000000</td>\n",
       "      <td>4308.000000</td>\n",
       "      <td>4308.000000</td>\n",
       "      <td>4308.000000</td>\n",
       "      <td>408.0</td>\n",
       "      <td>157.0</td>\n",
       "      <td>4308.000000</td>\n",
       "    </tr>\n",
       "    <tr>\n",
       "      <th>mean</th>\n",
       "      <td>8.917437e+08</td>\n",
       "      <td>31.889276</td>\n",
       "      <td>316.411328</td>\n",
       "      <td>229.836735</td>\n",
       "      <td>0.953110</td>\n",
       "      <td>26.701486</td>\n",
       "      <td>38.248839</td>\n",
       "      <td>50.391133</td>\n",
       "      <td>1.0</td>\n",
       "      <td>1.0</td>\n",
       "      <td>534.080316</td>\n",
       "    </tr>\n",
       "    <tr>\n",
       "      <th>std</th>\n",
       "      <td>4.547670e+05</td>\n",
       "      <td>10.245287</td>\n",
       "      <td>323.373725</td>\n",
       "      <td>1205.819471</td>\n",
       "      <td>0.211427</td>\n",
       "      <td>9.390851</td>\n",
       "      <td>15.344562</td>\n",
       "      <td>318.676437</td>\n",
       "      <td>0.0</td>\n",
       "      <td>0.0</td>\n",
       "      <td>4371.682632</td>\n",
       "    </tr>\n",
       "    <tr>\n",
       "      <th>min</th>\n",
       "      <td>8.910511e+08</td>\n",
       "      <td>16.000000</td>\n",
       "      <td>0.000000</td>\n",
       "      <td>1.000000</td>\n",
       "      <td>0.000000</td>\n",
       "      <td>13.000000</td>\n",
       "      <td>19.000000</td>\n",
       "      <td>0.000000</td>\n",
       "      <td>1.0</td>\n",
       "      <td>1.0</td>\n",
       "      <td>0.000000</td>\n",
       "    </tr>\n",
       "    <tr>\n",
       "      <th>25%</th>\n",
       "      <td>8.913621e+08</td>\n",
       "      <td>25.000000</td>\n",
       "      <td>0.000000</td>\n",
       "      <td>4.000000</td>\n",
       "      <td>1.000000</td>\n",
       "      <td>19.000000</td>\n",
       "      <td>28.000000</td>\n",
       "      <td>1.000000</td>\n",
       "      <td>1.0</td>\n",
       "      <td>1.0</td>\n",
       "      <td>0.000000</td>\n",
       "    </tr>\n",
       "    <tr>\n",
       "      <th>50%</th>\n",
       "      <td>8.917290e+08</td>\n",
       "      <td>30.000000</td>\n",
       "      <td>250.000000</td>\n",
       "      <td>9.000000</td>\n",
       "      <td>1.000000</td>\n",
       "      <td>24.000000</td>\n",
       "      <td>35.000000</td>\n",
       "      <td>6.000000</td>\n",
       "      <td>1.0</td>\n",
       "      <td>1.0</td>\n",
       "      <td>0.000000</td>\n",
       "    </tr>\n",
       "    <tr>\n",
       "      <th>75%</th>\n",
       "      <td>8.920952e+08</td>\n",
       "      <td>38.000000</td>\n",
       "      <td>520.250000</td>\n",
       "      <td>72.000000</td>\n",
       "      <td>1.000000</td>\n",
       "      <td>32.000000</td>\n",
       "      <td>44.000000</td>\n",
       "      <td>22.000000</td>\n",
       "      <td>1.0</td>\n",
       "      <td>1.0</td>\n",
       "      <td>0.000000</td>\n",
       "    </tr>\n",
       "    <tr>\n",
       "      <th>max</th>\n",
       "      <td>9.051586e+08</td>\n",
       "      <td>99.000000</td>\n",
       "      <td>1000.000000</td>\n",
       "      <td>8466.000000</td>\n",
       "      <td>1.000000</td>\n",
       "      <td>96.000000</td>\n",
       "      <td>102.000000</td>\n",
       "      <td>12831.000000</td>\n",
       "      <td>1.0</td>\n",
       "      <td>1.0</td>\n",
       "      <td>129870.000000</td>\n",
       "    </tr>\n",
       "  </tbody>\n",
       "</table>\n",
       "</div>"
      ],
      "text/plain": [
       "                uid          age  attraction_coeff        coins       gender  \\\n",
       "count  4.308000e+03  4308.000000       4308.000000    49.000000  4308.000000   \n",
       "mean   8.917437e+08    31.889276        316.411328   229.836735     0.953110   \n",
       "std    4.547670e+05    10.245287        323.373725  1205.819471     0.211427   \n",
       "min    8.910511e+08    16.000000          0.000000     1.000000     0.000000   \n",
       "25%    8.913621e+08    25.000000          0.000000     4.000000     1.000000   \n",
       "50%    8.917290e+08    30.000000        250.000000     9.000000     1.000000   \n",
       "75%    8.920952e+08    38.000000        520.250000    72.000000     1.000000   \n",
       "max    9.051586e+08    99.000000       1000.000000  8466.000000     1.000000   \n",
       "\n",
       "       age_filter_start  age_filter_end   views_count  was_premium  \\\n",
       "count       4308.000000     4308.000000   4308.000000        408.0   \n",
       "mean          26.701486       38.248839     50.391133          1.0   \n",
       "std            9.390851       15.344562    318.676437          0.0   \n",
       "min           13.000000       19.000000      0.000000          1.0   \n",
       "25%           19.000000       28.000000      1.000000          1.0   \n",
       "50%           24.000000       35.000000      6.000000          1.0   \n",
       "75%           32.000000       44.000000     22.000000          1.0   \n",
       "max           96.000000      102.000000  12831.000000          1.0   \n",
       "\n",
       "       is_premium  total_revenue  \n",
       "count       157.0    4308.000000  \n",
       "mean          1.0     534.080316  \n",
       "std           0.0    4371.682632  \n",
       "min           1.0       0.000000  \n",
       "25%           1.0       0.000000  \n",
       "50%           1.0       0.000000  \n",
       "75%           1.0       0.000000  \n",
       "max           1.0  129870.000000  "
      ]
     },
     "execution_count": 7,
     "metadata": {},
     "output_type": "execute_result"
    }
   ],
   "source": [
    "users_test.describe()"
   ]
  },
  {
   "cell_type": "code",
   "execution_count": 8,
   "metadata": {},
   "outputs": [
    {
     "data": {
      "text/plain": [
       "4308"
      ]
     },
     "execution_count": 8,
     "metadata": {},
     "output_type": "execute_result"
    }
   ],
   "source": [
    "# проверим на уникальность пользователей\n",
    "users_test.uid.nunique()"
   ]
  },
  {
   "cell_type": "code",
   "execution_count": 9,
   "metadata": {},
   "outputs": [
    {
     "data": {
      "text/plain": [
       "25    238\n",
       "27    224\n",
       "29    213\n",
       "21    193\n",
       "26    191\n",
       "Name: age, dtype: int64"
      ]
     },
     "execution_count": 9,
     "metadata": {},
     "output_type": "execute_result"
    }
   ],
   "source": [
    "users_test.age.value_counts().head(5)"
   ]
  },
  {
   "cell_type": "code",
   "execution_count": 10,
   "metadata": {},
   "outputs": [
    {
     "data": {
      "text/plain": [
       "False    4308\n",
       "dtype: int64"
      ]
     },
     "execution_count": 10,
     "metadata": {},
     "output_type": "execute_result"
    }
   ],
   "source": [
    "# для доп.проверки, сделаем сверку на дубликаты - они не были обнаружены\n",
    "users_test.duplicated().value_counts()"
   ]
  },
  {
   "cell_type": "markdown",
   "metadata": {},
   "source": [
    "### Проведем обработку транзакция группы Б"
   ]
  },
  {
   "cell_type": "code",
   "execution_count": 11,
   "metadata": {},
   "outputs": [
    {
     "data": {
      "text/html": [
       "<div>\n",
       "<style scoped>\n",
       "    .dataframe tbody tr th:only-of-type {\n",
       "        vertical-align: middle;\n",
       "    }\n",
       "\n",
       "    .dataframe tbody tr th {\n",
       "        vertical-align: top;\n",
       "    }\n",
       "\n",
       "    .dataframe thead th {\n",
       "        text-align: right;\n",
       "    }\n",
       "</style>\n",
       "<table border=\"1\" class=\"dataframe\">\n",
       "  <thead>\n",
       "    <tr style=\"text-align: right;\">\n",
       "      <th></th>\n",
       "      <th>uid</th>\n",
       "      <th>country</th>\n",
       "      <th>joined_at</th>\n",
       "      <th>paid_at</th>\n",
       "      <th>revenue</th>\n",
       "      <th>payment_id</th>\n",
       "      <th>from_page</th>\n",
       "      <th>product_type</th>\n",
       "    </tr>\n",
       "  </thead>\n",
       "  <tbody>\n",
       "    <tr>\n",
       "      <th>0</th>\n",
       "      <td>891345942</td>\n",
       "      <td>Italy</td>\n",
       "      <td>2017-05-11 13:00:00</td>\n",
       "      <td>2017-11-13 15:04:00</td>\n",
       "      <td>12909</td>\n",
       "      <td>147</td>\n",
       "      <td>trial_vip_popup</td>\n",
       "      <td>trial_premium</td>\n",
       "    </tr>\n",
       "    <tr>\n",
       "      <th>1</th>\n",
       "      <td>892054251</td>\n",
       "      <td>United States of America</td>\n",
       "      <td>2017-10-22 00:33:00</td>\n",
       "      <td>2017-10-30 01:37:00</td>\n",
       "      <td>13923</td>\n",
       "      <td>147</td>\n",
       "      <td>trial_vip_popup</td>\n",
       "      <td>trial_premium</td>\n",
       "    </tr>\n",
       "    <tr>\n",
       "      <th>2</th>\n",
       "      <td>892236423</td>\n",
       "      <td>United States of America</td>\n",
       "      <td>2017-10-18 01:09:00</td>\n",
       "      <td>2017-10-23 00:15:00</td>\n",
       "      <td>3783</td>\n",
       "      <td>67</td>\n",
       "      <td>menu</td>\n",
       "      <td>other_type</td>\n",
       "    </tr>\n",
       "    <tr>\n",
       "      <th>3</th>\n",
       "      <td>892236423</td>\n",
       "      <td>United States of America</td>\n",
       "      <td>2017-10-18 01:09:00</td>\n",
       "      <td>2017-10-27 22:38:00</td>\n",
       "      <td>3783</td>\n",
       "      <td>67</td>\n",
       "      <td>menu</td>\n",
       "      <td>other_type</td>\n",
       "    </tr>\n",
       "    <tr>\n",
       "      <th>4</th>\n",
       "      <td>892168170</td>\n",
       "      <td>United States of America</td>\n",
       "      <td>2017-10-19 17:10:00</td>\n",
       "      <td>2017-10-27 19:10:00</td>\n",
       "      <td>9087</td>\n",
       "      <td>147</td>\n",
       "      <td>trial_vip_popup</td>\n",
       "      <td>trial_premium</td>\n",
       "    </tr>\n",
       "  </tbody>\n",
       "</table>\n",
       "</div>"
      ],
      "text/plain": [
       "         uid                   country           joined_at  \\\n",
       "0  891345942                     Italy 2017-05-11 13:00:00   \n",
       "1  892054251  United States of America 2017-10-22 00:33:00   \n",
       "2  892236423  United States of America 2017-10-18 01:09:00   \n",
       "3  892236423  United States of America 2017-10-18 01:09:00   \n",
       "4  892168170  United States of America 2017-10-19 17:10:00   \n",
       "\n",
       "              paid_at  revenue  payment_id        from_page   product_type  \n",
       "0 2017-11-13 15:04:00    12909         147  trial_vip_popup  trial_premium  \n",
       "1 2017-10-30 01:37:00    13923         147  trial_vip_popup  trial_premium  \n",
       "2 2017-10-23 00:15:00     3783          67             menu     other_type  \n",
       "3 2017-10-27 22:38:00     3783          67             menu     other_type  \n",
       "4 2017-10-27 19:10:00     9087         147  trial_vip_popup  trial_premium  "
      ]
     },
     "execution_count": 11,
     "metadata": {},
     "output_type": "execute_result"
    }
   ],
   "source": [
    "transactions_test.head(5)"
   ]
  },
  {
   "cell_type": "code",
   "execution_count": 12,
   "metadata": {},
   "outputs": [
    {
     "name": "stdout",
     "output_type": "stream",
     "text": [
      "<class 'pandas.core.frame.DataFrame'>\n",
      "RangeIndex: 273 entries, 0 to 272\n",
      "Data columns (total 8 columns):\n",
      " #   Column        Non-Null Count  Dtype         \n",
      "---  ------        --------------  -----         \n",
      " 0   uid           273 non-null    int64         \n",
      " 1   country       273 non-null    object        \n",
      " 2   joined_at     273 non-null    datetime64[ns]\n",
      " 3   paid_at       273 non-null    datetime64[ns]\n",
      " 4   revenue       273 non-null    int64         \n",
      " 5   payment_id    273 non-null    int64         \n",
      " 6   from_page     273 non-null    object        \n",
      " 7   product_type  273 non-null    object        \n",
      "dtypes: datetime64[ns](2), int64(3), object(3)\n",
      "memory usage: 17.2+ KB\n"
     ]
    }
   ],
   "source": [
    "# было замечено, что тип данных \"дата\" не установился для ряда колонок, поэтому при загрузке данных\n",
    "# будет добавлен соотвествующий параметр\n",
    "transactions_test.info()"
   ]
  },
  {
   "cell_type": "code",
   "execution_count": 13,
   "metadata": {},
   "outputs": [
    {
     "data": {
      "text/plain": [
       "146"
      ]
     },
     "execution_count": 13,
     "metadata": {},
     "output_type": "execute_result"
    }
   ],
   "source": [
    "# всего было 273 транзакции но уникальных пользователей всего 146 - возможно есть дубликаты стоит посмотреть\n",
    "transactions_test.uid.nunique()"
   ]
  },
  {
   "cell_type": "code",
   "execution_count": 14,
   "metadata": {},
   "outputs": [
    {
     "data": {
      "text/plain": [
       "892236423    14\n",
       "892065108     9\n",
       "892339626     9\n",
       "892057347     9\n",
       "891174411     6\n",
       "Name: uid, dtype: int64"
      ]
     },
     "execution_count": 14,
     "metadata": {},
     "output_type": "execute_result"
    }
   ],
   "source": [
    "# потверждение что ряд пользователей сделали больше одной покупки, посмотрим подробнее на них \n",
    "transactions_test.uid.value_counts().head(5)"
   ]
  },
  {
   "cell_type": "code",
   "execution_count": 15,
   "metadata": {},
   "outputs": [
    {
     "data": {
      "text/html": [
       "<div>\n",
       "<style scoped>\n",
       "    .dataframe tbody tr th:only-of-type {\n",
       "        vertical-align: middle;\n",
       "    }\n",
       "\n",
       "    .dataframe tbody tr th {\n",
       "        vertical-align: top;\n",
       "    }\n",
       "\n",
       "    .dataframe thead th {\n",
       "        text-align: right;\n",
       "    }\n",
       "</style>\n",
       "<table border=\"1\" class=\"dataframe\">\n",
       "  <thead>\n",
       "    <tr style=\"text-align: right;\">\n",
       "      <th></th>\n",
       "      <th>uid</th>\n",
       "      <th>country</th>\n",
       "      <th>joined_at</th>\n",
       "      <th>paid_at</th>\n",
       "      <th>revenue</th>\n",
       "      <th>payment_id</th>\n",
       "      <th>from_page</th>\n",
       "      <th>product_type</th>\n",
       "    </tr>\n",
       "  </thead>\n",
       "  <tbody>\n",
       "    <tr>\n",
       "      <th>125</th>\n",
       "      <td>892236423</td>\n",
       "      <td>United States of America</td>\n",
       "      <td>2017-10-18 01:09:00</td>\n",
       "      <td>2017-10-18 01:15:00</td>\n",
       "      <td>6292</td>\n",
       "      <td>147</td>\n",
       "      <td>left_sidebar_menu</td>\n",
       "      <td>premium_no_trial</td>\n",
       "    </tr>\n",
       "    <tr>\n",
       "      <th>238</th>\n",
       "      <td>892236423</td>\n",
       "      <td>United States of America</td>\n",
       "      <td>2017-10-18 01:09:00</td>\n",
       "      <td>2017-10-18 01:33:00</td>\n",
       "      <td>1261</td>\n",
       "      <td>19</td>\n",
       "      <td>empty_likes</td>\n",
       "      <td>coins</td>\n",
       "    </tr>\n",
       "    <tr>\n",
       "      <th>17</th>\n",
       "      <td>892236423</td>\n",
       "      <td>United States of America</td>\n",
       "      <td>2017-10-18 01:09:00</td>\n",
       "      <td>2017-10-22 22:08:00</td>\n",
       "      <td>1261</td>\n",
       "      <td>19</td>\n",
       "      <td>empty_likes</td>\n",
       "      <td>coins</td>\n",
       "    </tr>\n",
       "    <tr>\n",
       "      <th>139</th>\n",
       "      <td>892236423</td>\n",
       "      <td>United States of America</td>\n",
       "      <td>2017-10-18 01:09:00</td>\n",
       "      <td>2017-10-22 22:08:00</td>\n",
       "      <td>3783</td>\n",
       "      <td>67</td>\n",
       "      <td>empty_likes</td>\n",
       "      <td>other_type</td>\n",
       "    </tr>\n",
       "    <tr>\n",
       "      <th>188</th>\n",
       "      <td>892236423</td>\n",
       "      <td>United States of America</td>\n",
       "      <td>2017-10-18 01:09:00</td>\n",
       "      <td>2017-10-22 22:08:00</td>\n",
       "      <td>1261</td>\n",
       "      <td>19</td>\n",
       "      <td>empty_likes</td>\n",
       "      <td>coins</td>\n",
       "    </tr>\n",
       "    <tr>\n",
       "      <th>214</th>\n",
       "      <td>892236423</td>\n",
       "      <td>United States of America</td>\n",
       "      <td>2017-10-18 01:09:00</td>\n",
       "      <td>2017-10-22 22:08:00</td>\n",
       "      <td>6305</td>\n",
       "      <td>19</td>\n",
       "      <td>empty_likes</td>\n",
       "      <td>coins</td>\n",
       "    </tr>\n",
       "    <tr>\n",
       "      <th>112</th>\n",
       "      <td>892236423</td>\n",
       "      <td>United States of America</td>\n",
       "      <td>2017-10-18 01:09:00</td>\n",
       "      <td>2017-10-22 22:09:00</td>\n",
       "      <td>12610</td>\n",
       "      <td>19</td>\n",
       "      <td>empty_likes</td>\n",
       "      <td>coins</td>\n",
       "    </tr>\n",
       "    <tr>\n",
       "      <th>81</th>\n",
       "      <td>892236423</td>\n",
       "      <td>United States of America</td>\n",
       "      <td>2017-10-18 01:09:00</td>\n",
       "      <td>2017-10-23 00:14:00</td>\n",
       "      <td>31525</td>\n",
       "      <td>19</td>\n",
       "      <td>menu</td>\n",
       "      <td>coins</td>\n",
       "    </tr>\n",
       "    <tr>\n",
       "      <th>98</th>\n",
       "      <td>892236423</td>\n",
       "      <td>United States of America</td>\n",
       "      <td>2017-10-18 01:09:00</td>\n",
       "      <td>2017-10-23 00:14:00</td>\n",
       "      <td>12610</td>\n",
       "      <td>19</td>\n",
       "      <td>menu</td>\n",
       "      <td>coins</td>\n",
       "    </tr>\n",
       "    <tr>\n",
       "      <th>167</th>\n",
       "      <td>892236423</td>\n",
       "      <td>United States of America</td>\n",
       "      <td>2017-10-18 01:09:00</td>\n",
       "      <td>2017-10-23 00:14:00</td>\n",
       "      <td>3783</td>\n",
       "      <td>67</td>\n",
       "      <td>menu</td>\n",
       "      <td>other_type</td>\n",
       "    </tr>\n",
       "    <tr>\n",
       "      <th>2</th>\n",
       "      <td>892236423</td>\n",
       "      <td>United States of America</td>\n",
       "      <td>2017-10-18 01:09:00</td>\n",
       "      <td>2017-10-23 00:15:00</td>\n",
       "      <td>3783</td>\n",
       "      <td>67</td>\n",
       "      <td>menu</td>\n",
       "      <td>other_type</td>\n",
       "    </tr>\n",
       "    <tr>\n",
       "      <th>55</th>\n",
       "      <td>892236423</td>\n",
       "      <td>United States of America</td>\n",
       "      <td>2017-10-18 01:09:00</td>\n",
       "      <td>2017-10-23 00:15:00</td>\n",
       "      <td>3783</td>\n",
       "      <td>67</td>\n",
       "      <td>menu</td>\n",
       "      <td>other_type</td>\n",
       "    </tr>\n",
       "    <tr>\n",
       "      <th>3</th>\n",
       "      <td>892236423</td>\n",
       "      <td>United States of America</td>\n",
       "      <td>2017-10-18 01:09:00</td>\n",
       "      <td>2017-10-27 22:38:00</td>\n",
       "      <td>3783</td>\n",
       "      <td>67</td>\n",
       "      <td>menu</td>\n",
       "      <td>other_type</td>\n",
       "    </tr>\n",
       "    <tr>\n",
       "      <th>127</th>\n",
       "      <td>892236423</td>\n",
       "      <td>United States of America</td>\n",
       "      <td>2017-10-18 01:09:00</td>\n",
       "      <td>2017-10-27 22:38:00</td>\n",
       "      <td>3783</td>\n",
       "      <td>67</td>\n",
       "      <td>menu</td>\n",
       "      <td>other_type</td>\n",
       "    </tr>\n",
       "  </tbody>\n",
       "</table>\n",
       "</div>"
      ],
      "text/plain": [
       "           uid                   country           joined_at  \\\n",
       "125  892236423  United States of America 2017-10-18 01:09:00   \n",
       "238  892236423  United States of America 2017-10-18 01:09:00   \n",
       "17   892236423  United States of America 2017-10-18 01:09:00   \n",
       "139  892236423  United States of America 2017-10-18 01:09:00   \n",
       "188  892236423  United States of America 2017-10-18 01:09:00   \n",
       "214  892236423  United States of America 2017-10-18 01:09:00   \n",
       "112  892236423  United States of America 2017-10-18 01:09:00   \n",
       "81   892236423  United States of America 2017-10-18 01:09:00   \n",
       "98   892236423  United States of America 2017-10-18 01:09:00   \n",
       "167  892236423  United States of America 2017-10-18 01:09:00   \n",
       "2    892236423  United States of America 2017-10-18 01:09:00   \n",
       "55   892236423  United States of America 2017-10-18 01:09:00   \n",
       "3    892236423  United States of America 2017-10-18 01:09:00   \n",
       "127  892236423  United States of America 2017-10-18 01:09:00   \n",
       "\n",
       "                paid_at  revenue  payment_id          from_page  \\\n",
       "125 2017-10-18 01:15:00     6292         147  left_sidebar_menu   \n",
       "238 2017-10-18 01:33:00     1261          19        empty_likes   \n",
       "17  2017-10-22 22:08:00     1261          19        empty_likes   \n",
       "139 2017-10-22 22:08:00     3783          67        empty_likes   \n",
       "188 2017-10-22 22:08:00     1261          19        empty_likes   \n",
       "214 2017-10-22 22:08:00     6305          19        empty_likes   \n",
       "112 2017-10-22 22:09:00    12610          19        empty_likes   \n",
       "81  2017-10-23 00:14:00    31525          19               menu   \n",
       "98  2017-10-23 00:14:00    12610          19               menu   \n",
       "167 2017-10-23 00:14:00     3783          67               menu   \n",
       "2   2017-10-23 00:15:00     3783          67               menu   \n",
       "55  2017-10-23 00:15:00     3783          67               menu   \n",
       "3   2017-10-27 22:38:00     3783          67               menu   \n",
       "127 2017-10-27 22:38:00     3783          67               menu   \n",
       "\n",
       "         product_type  \n",
       "125  premium_no_trial  \n",
       "238             coins  \n",
       "17              coins  \n",
       "139        other_type  \n",
       "188             coins  \n",
       "214             coins  \n",
       "112             coins  \n",
       "81              coins  \n",
       "98              coins  \n",
       "167        other_type  \n",
       "2          other_type  \n",
       "55         other_type  \n",
       "3          other_type  \n",
       "127        other_type  "
      ]
     },
     "execution_count": 15,
     "metadata": {},
     "output_type": "execute_result"
    }
   ],
   "source": [
    "# замечаем что есть ряд идентичных строк, что говорит о дубликатах стоит сделать проверку на дубликаты (2 и 55 строка)\n",
    "# возможно при тесте это учли - а может и нет. Для чистоты эксперимента уберем их\n",
    "one_order = transactions_test.query('uid == 892236423')\n",
    "one_order.sort_values(\"paid_at\")"
   ]
  },
  {
   "cell_type": "code",
   "execution_count": 16,
   "metadata": {},
   "outputs": [
    {
     "data": {
      "text/plain": [
       "False    266\n",
       "True       7\n",
       "dtype: int64"
      ]
     },
     "execution_count": 16,
     "metadata": {},
     "output_type": "execute_result"
    }
   ],
   "source": [
    "# видим наличие дубликатов, от них нужно избавиться - обнаружено 7 штук\n",
    "transactions_test.duplicated().value_counts()"
   ]
  },
  {
   "cell_type": "code",
   "execution_count": 17,
   "metadata": {},
   "outputs": [
    {
     "data": {
      "text/plain": [
       "uid             0\n",
       "country         0\n",
       "joined_at       0\n",
       "paid_at         0\n",
       "revenue         0\n",
       "payment_id      0\n",
       "from_page       0\n",
       "product_type    0\n",
       "dtype: int64"
      ]
     },
     "execution_count": 17,
     "metadata": {},
     "output_type": "execute_result"
    }
   ],
   "source": [
    "transactions_test.isnull().sum()"
   ]
  },
  {
   "cell_type": "code",
   "execution_count": 18,
   "metadata": {},
   "outputs": [
    {
     "data": {
      "text/plain": [
       "uid             0\n",
       "country         0\n",
       "joined_at       0\n",
       "paid_at         0\n",
       "revenue         0\n",
       "payment_id      0\n",
       "from_page       0\n",
       "product_type    0\n",
       "dtype: int64"
      ]
     },
     "execution_count": 18,
     "metadata": {},
     "output_type": "execute_result"
    }
   ],
   "source": [
    "transactions_test.isna().sum()"
   ]
  },
  {
   "cell_type": "code",
   "execution_count": 19,
   "metadata": {},
   "outputs": [
    {
     "data": {
      "text/html": [
       "<div>\n",
       "<style scoped>\n",
       "    .dataframe tbody tr th:only-of-type {\n",
       "        vertical-align: middle;\n",
       "    }\n",
       "\n",
       "    .dataframe tbody tr th {\n",
       "        vertical-align: top;\n",
       "    }\n",
       "\n",
       "    .dataframe thead th {\n",
       "        text-align: right;\n",
       "    }\n",
       "</style>\n",
       "<table border=\"1\" class=\"dataframe\">\n",
       "  <thead>\n",
       "    <tr style=\"text-align: right;\">\n",
       "      <th></th>\n",
       "      <th>uid</th>\n",
       "      <th>revenue</th>\n",
       "      <th>payment_id</th>\n",
       "    </tr>\n",
       "  </thead>\n",
       "  <tbody>\n",
       "    <tr>\n",
       "      <th>count</th>\n",
       "      <td>2.660000e+02</td>\n",
       "      <td>266.000000</td>\n",
       "      <td>266.000000</td>\n",
       "    </tr>\n",
       "    <tr>\n",
       "      <th>mean</th>\n",
       "      <td>8.918302e+08</td>\n",
       "      <td>8767.766917</td>\n",
       "      <td>99.951128</td>\n",
       "    </tr>\n",
       "    <tr>\n",
       "      <th>std</th>\n",
       "      <td>3.775858e+05</td>\n",
       "      <td>11216.235341</td>\n",
       "      <td>57.409892</td>\n",
       "    </tr>\n",
       "    <tr>\n",
       "      <th>min</th>\n",
       "      <td>8.910712e+08</td>\n",
       "      <td>533.000000</td>\n",
       "      <td>0.000000</td>\n",
       "    </tr>\n",
       "    <tr>\n",
       "      <th>25%</th>\n",
       "      <td>8.914994e+08</td>\n",
       "      <td>3129.750000</td>\n",
       "      <td>19.000000</td>\n",
       "    </tr>\n",
       "    <tr>\n",
       "      <th>50%</th>\n",
       "      <td>8.918935e+08</td>\n",
       "      <td>6363.500000</td>\n",
       "      <td>146.000000</td>\n",
       "    </tr>\n",
       "    <tr>\n",
       "      <th>75%</th>\n",
       "      <td>8.920979e+08</td>\n",
       "      <td>12597.000000</td>\n",
       "      <td>147.000000</td>\n",
       "    </tr>\n",
       "    <tr>\n",
       "      <th>max</th>\n",
       "      <td>8.924386e+08</td>\n",
       "      <td>113477.000000</td>\n",
       "      <td>147.000000</td>\n",
       "    </tr>\n",
       "  </tbody>\n",
       "</table>\n",
       "</div>"
      ],
      "text/plain": [
       "                uid        revenue  payment_id\n",
       "count  2.660000e+02     266.000000  266.000000\n",
       "mean   8.918302e+08    8767.766917   99.951128\n",
       "std    3.775858e+05   11216.235341   57.409892\n",
       "min    8.910712e+08     533.000000    0.000000\n",
       "25%    8.914994e+08    3129.750000   19.000000\n",
       "50%    8.918935e+08    6363.500000  146.000000\n",
       "75%    8.920979e+08   12597.000000  147.000000\n",
       "max    8.924386e+08  113477.000000  147.000000"
      ]
     },
     "execution_count": 19,
     "metadata": {},
     "output_type": "execute_result"
    }
   ],
   "source": [
    "transactions_test = transactions_test.drop_duplicates()\n",
    "transactions_test.describe()"
   ]
  },
  {
   "cell_type": "markdown",
   "metadata": {},
   "source": [
    "### Проведем проверку исходных данных группы А1"
   ]
  },
  {
   "cell_type": "code",
   "execution_count": 20,
   "metadata": {},
   "outputs": [
    {
     "data": {
      "text/html": [
       "<div>\n",
       "<style scoped>\n",
       "    .dataframe tbody tr th:only-of-type {\n",
       "        vertical-align: middle;\n",
       "    }\n",
       "\n",
       "    .dataframe tbody tr th {\n",
       "        vertical-align: top;\n",
       "    }\n",
       "\n",
       "    .dataframe thead th {\n",
       "        text-align: right;\n",
       "    }\n",
       "</style>\n",
       "<table border=\"1\" class=\"dataframe\">\n",
       "  <thead>\n",
       "    <tr style=\"text-align: right;\">\n",
       "      <th></th>\n",
       "      <th>uid</th>\n",
       "      <th>age</th>\n",
       "      <th>attraction_coeff</th>\n",
       "      <th>coins</th>\n",
       "      <th>country</th>\n",
       "      <th>visit_days</th>\n",
       "      <th>gender</th>\n",
       "      <th>age_filter_start</th>\n",
       "      <th>age_filter_end</th>\n",
       "      <th>views_count</th>\n",
       "      <th>was_premium</th>\n",
       "      <th>is_premium</th>\n",
       "      <th>total_revenue</th>\n",
       "    </tr>\n",
       "  </thead>\n",
       "  <tbody>\n",
       "    <tr>\n",
       "      <th>0</th>\n",
       "      <td>892319115</td>\n",
       "      <td>25</td>\n",
       "      <td>435</td>\n",
       "      <td>NaN</td>\n",
       "      <td>United States of America</td>\n",
       "      <td>1,2,3,4,5,6</td>\n",
       "      <td>0</td>\n",
       "      <td>22</td>\n",
       "      <td>32</td>\n",
       "      <td>982</td>\n",
       "      <td>NaN</td>\n",
       "      <td>NaN</td>\n",
       "      <td>0</td>\n",
       "    </tr>\n",
       "    <tr>\n",
       "      <th>1</th>\n",
       "      <td>891248523</td>\n",
       "      <td>29</td>\n",
       "      <td>500</td>\n",
       "      <td>NaN</td>\n",
       "      <td>United States of America</td>\n",
       "      <td>1,2</td>\n",
       "      <td>1</td>\n",
       "      <td>26</td>\n",
       "      <td>32</td>\n",
       "      <td>12</td>\n",
       "      <td>NaN</td>\n",
       "      <td>NaN</td>\n",
       "      <td>0</td>\n",
       "    </tr>\n",
       "    <tr>\n",
       "      <th>2</th>\n",
       "      <td>891670932</td>\n",
       "      <td>33</td>\n",
       "      <td>800</td>\n",
       "      <td>NaN</td>\n",
       "      <td>France</td>\n",
       "      <td>1,2,3,5,6,8,9,11,13,16</td>\n",
       "      <td>1</td>\n",
       "      <td>30</td>\n",
       "      <td>36</td>\n",
       "      <td>5</td>\n",
       "      <td>NaN</td>\n",
       "      <td>NaN</td>\n",
       "      <td>0</td>\n",
       "    </tr>\n",
       "    <tr>\n",
       "      <th>3</th>\n",
       "      <td>891060786</td>\n",
       "      <td>26</td>\n",
       "      <td>0</td>\n",
       "      <td>NaN</td>\n",
       "      <td>Argentina</td>\n",
       "      <td>1,2,3,4,5</td>\n",
       "      <td>1</td>\n",
       "      <td>23</td>\n",
       "      <td>29</td>\n",
       "      <td>0</td>\n",
       "      <td>NaN</td>\n",
       "      <td>NaN</td>\n",
       "      <td>0</td>\n",
       "    </tr>\n",
       "    <tr>\n",
       "      <th>4</th>\n",
       "      <td>892006554</td>\n",
       "      <td>35</td>\n",
       "      <td>294</td>\n",
       "      <td>NaN</td>\n",
       "      <td>United States of America</td>\n",
       "      <td>1,2,3,5,6,7,8,9,10,12,15,16,17,19</td>\n",
       "      <td>1</td>\n",
       "      <td>30</td>\n",
       "      <td>40</td>\n",
       "      <td>17</td>\n",
       "      <td>NaN</td>\n",
       "      <td>NaN</td>\n",
       "      <td>0</td>\n",
       "    </tr>\n",
       "  </tbody>\n",
       "</table>\n",
       "</div>"
      ],
      "text/plain": [
       "         uid  age  attraction_coeff  coins                   country  \\\n",
       "0  892319115   25               435    NaN  United States of America   \n",
       "1  891248523   29               500    NaN  United States of America   \n",
       "2  891670932   33               800    NaN                    France   \n",
       "3  891060786   26                 0    NaN                 Argentina   \n",
       "4  892006554   35               294    NaN  United States of America   \n",
       "\n",
       "                          visit_days  gender  age_filter_start  \\\n",
       "0                        1,2,3,4,5,6       0                22   \n",
       "1                                1,2       1                26   \n",
       "2             1,2,3,5,6,8,9,11,13,16       1                30   \n",
       "3                          1,2,3,4,5       1                23   \n",
       "4  1,2,3,5,6,7,8,9,10,12,15,16,17,19       1                30   \n",
       "\n",
       "   age_filter_end  views_count  was_premium  is_premium  total_revenue  \n",
       "0              32          982          NaN         NaN              0  \n",
       "1              32           12          NaN         NaN              0  \n",
       "2              36            5          NaN         NaN              0  \n",
       "3              29            0          NaN         NaN              0  \n",
       "4              40           17          NaN         NaN              0  "
      ]
     },
     "execution_count": 20,
     "metadata": {},
     "output_type": "execute_result"
    }
   ],
   "source": [
    "users_control_1.head(5)"
   ]
  },
  {
   "cell_type": "code",
   "execution_count": 21,
   "metadata": {},
   "outputs": [
    {
     "name": "stdout",
     "output_type": "stream",
     "text": [
      "<class 'pandas.core.frame.DataFrame'>\n",
      "RangeIndex: 4340 entries, 0 to 4339\n",
      "Data columns (total 13 columns):\n",
      " #   Column            Non-Null Count  Dtype  \n",
      "---  ------            --------------  -----  \n",
      " 0   uid               4340 non-null   int64  \n",
      " 1   age               4340 non-null   int64  \n",
      " 2   attraction_coeff  4340 non-null   int64  \n",
      " 3   coins             60 non-null     float64\n",
      " 4   country           4340 non-null   object \n",
      " 5   visit_days        3016 non-null   object \n",
      " 6   gender            4340 non-null   int64  \n",
      " 7   age_filter_start  4340 non-null   int64  \n",
      " 8   age_filter_end    4340 non-null   int64  \n",
      " 9   views_count       4340 non-null   int64  \n",
      " 10  was_premium       436 non-null    float64\n",
      " 11  is_premium        192 non-null    float64\n",
      " 12  total_revenue     4340 non-null   int64  \n",
      "dtypes: float64(3), int64(8), object(2)\n",
      "memory usage: 440.9+ KB\n"
     ]
    }
   ],
   "source": [
    "users_control_1.info()"
   ]
  },
  {
   "cell_type": "code",
   "execution_count": 22,
   "metadata": {},
   "outputs": [
    {
     "data": {
      "text/plain": [
       "uid                    0\n",
       "age                    0\n",
       "attraction_coeff       0\n",
       "coins               4280\n",
       "country                0\n",
       "visit_days          1324\n",
       "gender                 0\n",
       "age_filter_start       0\n",
       "age_filter_end         0\n",
       "views_count            0\n",
       "was_premium         3904\n",
       "is_premium          4148\n",
       "total_revenue          0\n",
       "dtype: int64"
      ]
     },
     "execution_count": 22,
     "metadata": {},
     "output_type": "execute_result"
    }
   ],
   "source": [
    "users_control_1.isna().sum()"
   ]
  },
  {
   "cell_type": "code",
   "execution_count": 23,
   "metadata": {},
   "outputs": [
    {
     "data": {
      "text/html": [
       "<div>\n",
       "<style scoped>\n",
       "    .dataframe tbody tr th:only-of-type {\n",
       "        vertical-align: middle;\n",
       "    }\n",
       "\n",
       "    .dataframe tbody tr th {\n",
       "        vertical-align: top;\n",
       "    }\n",
       "\n",
       "    .dataframe thead th {\n",
       "        text-align: right;\n",
       "    }\n",
       "</style>\n",
       "<table border=\"1\" class=\"dataframe\">\n",
       "  <thead>\n",
       "    <tr style=\"text-align: right;\">\n",
       "      <th></th>\n",
       "      <th>uid</th>\n",
       "      <th>age</th>\n",
       "      <th>attraction_coeff</th>\n",
       "      <th>coins</th>\n",
       "      <th>gender</th>\n",
       "      <th>age_filter_start</th>\n",
       "      <th>age_filter_end</th>\n",
       "      <th>views_count</th>\n",
       "      <th>was_premium</th>\n",
       "      <th>is_premium</th>\n",
       "      <th>total_revenue</th>\n",
       "    </tr>\n",
       "  </thead>\n",
       "  <tbody>\n",
       "    <tr>\n",
       "      <th>count</th>\n",
       "      <td>4.340000e+03</td>\n",
       "      <td>4340.000000</td>\n",
       "      <td>4340.000000</td>\n",
       "      <td>60.0000</td>\n",
       "      <td>4340.000000</td>\n",
       "      <td>4340.000000</td>\n",
       "      <td>4340.000000</td>\n",
       "      <td>4340.000000</td>\n",
       "      <td>436.0</td>\n",
       "      <td>192.0</td>\n",
       "      <td>4340.000000</td>\n",
       "    </tr>\n",
       "    <tr>\n",
       "      <th>mean</th>\n",
       "      <td>8.917578e+08</td>\n",
       "      <td>32.095392</td>\n",
       "      <td>312.048848</td>\n",
       "      <td>1745.9000</td>\n",
       "      <td>0.958065</td>\n",
       "      <td>26.793779</td>\n",
       "      <td>38.553226</td>\n",
       "      <td>44.467512</td>\n",
       "      <td>1.0</td>\n",
       "      <td>1.0</td>\n",
       "      <td>594.761982</td>\n",
       "    </tr>\n",
       "    <tr>\n",
       "      <th>std</th>\n",
       "      <td>1.125683e+06</td>\n",
       "      <td>10.257466</td>\n",
       "      <td>320.972130</td>\n",
       "      <td>12902.3577</td>\n",
       "      <td>0.200465</td>\n",
       "      <td>9.405103</td>\n",
       "      <td>15.226951</td>\n",
       "      <td>204.800272</td>\n",
       "      <td>0.0</td>\n",
       "      <td>0.0</td>\n",
       "      <td>7987.922925</td>\n",
       "    </tr>\n",
       "    <tr>\n",
       "      <th>min</th>\n",
       "      <td>8.910510e+08</td>\n",
       "      <td>16.000000</td>\n",
       "      <td>0.000000</td>\n",
       "      <td>1.0000</td>\n",
       "      <td>0.000000</td>\n",
       "      <td>13.000000</td>\n",
       "      <td>19.000000</td>\n",
       "      <td>0.000000</td>\n",
       "      <td>1.0</td>\n",
       "      <td>1.0</td>\n",
       "      <td>0.000000</td>\n",
       "    </tr>\n",
       "    <tr>\n",
       "      <th>25%</th>\n",
       "      <td>8.913626e+08</td>\n",
       "      <td>24.000000</td>\n",
       "      <td>0.000000</td>\n",
       "      <td>8.0000</td>\n",
       "      <td>1.000000</td>\n",
       "      <td>19.000000</td>\n",
       "      <td>28.000000</td>\n",
       "      <td>1.000000</td>\n",
       "      <td>1.0</td>\n",
       "      <td>1.0</td>\n",
       "      <td>0.000000</td>\n",
       "    </tr>\n",
       "    <tr>\n",
       "      <th>50%</th>\n",
       "      <td>8.917272e+08</td>\n",
       "      <td>30.000000</td>\n",
       "      <td>238.500000</td>\n",
       "      <td>11.5000</td>\n",
       "      <td>1.000000</td>\n",
       "      <td>25.000000</td>\n",
       "      <td>35.000000</td>\n",
       "      <td>6.000000</td>\n",
       "      <td>1.0</td>\n",
       "      <td>1.0</td>\n",
       "      <td>0.000000</td>\n",
       "    </tr>\n",
       "    <tr>\n",
       "      <th>75%</th>\n",
       "      <td>8.920898e+08</td>\n",
       "      <td>38.000000</td>\n",
       "      <td>518.000000</td>\n",
       "      <td>28.0000</td>\n",
       "      <td>1.000000</td>\n",
       "      <td>32.000000</td>\n",
       "      <td>45.000000</td>\n",
       "      <td>21.000000</td>\n",
       "      <td>1.0</td>\n",
       "      <td>1.0</td>\n",
       "      <td>0.000000</td>\n",
       "    </tr>\n",
       "    <tr>\n",
       "      <th>max</th>\n",
       "      <td>9.609370e+08</td>\n",
       "      <td>99.000000</td>\n",
       "      <td>1000.000000</td>\n",
       "      <td>99958.0000</td>\n",
       "      <td>1.000000</td>\n",
       "      <td>96.000000</td>\n",
       "      <td>102.000000</td>\n",
       "      <td>4953.000000</td>\n",
       "      <td>1.0</td>\n",
       "      <td>1.0</td>\n",
       "      <td>486330.000000</td>\n",
       "    </tr>\n",
       "  </tbody>\n",
       "</table>\n",
       "</div>"
      ],
      "text/plain": [
       "                uid          age  attraction_coeff       coins       gender  \\\n",
       "count  4.340000e+03  4340.000000       4340.000000     60.0000  4340.000000   \n",
       "mean   8.917578e+08    32.095392        312.048848   1745.9000     0.958065   \n",
       "std    1.125683e+06    10.257466        320.972130  12902.3577     0.200465   \n",
       "min    8.910510e+08    16.000000          0.000000      1.0000     0.000000   \n",
       "25%    8.913626e+08    24.000000          0.000000      8.0000     1.000000   \n",
       "50%    8.917272e+08    30.000000        238.500000     11.5000     1.000000   \n",
       "75%    8.920898e+08    38.000000        518.000000     28.0000     1.000000   \n",
       "max    9.609370e+08    99.000000       1000.000000  99958.0000     1.000000   \n",
       "\n",
       "       age_filter_start  age_filter_end  views_count  was_premium  is_premium  \\\n",
       "count       4340.000000     4340.000000  4340.000000        436.0       192.0   \n",
       "mean          26.793779       38.553226    44.467512          1.0         1.0   \n",
       "std            9.405103       15.226951   204.800272          0.0         0.0   \n",
       "min           13.000000       19.000000     0.000000          1.0         1.0   \n",
       "25%           19.000000       28.000000     1.000000          1.0         1.0   \n",
       "50%           25.000000       35.000000     6.000000          1.0         1.0   \n",
       "75%           32.000000       45.000000    21.000000          1.0         1.0   \n",
       "max           96.000000      102.000000  4953.000000          1.0         1.0   \n",
       "\n",
       "       total_revenue  \n",
       "count    4340.000000  \n",
       "mean      594.761982  \n",
       "std      7987.922925  \n",
       "min         0.000000  \n",
       "25%         0.000000  \n",
       "50%         0.000000  \n",
       "75%         0.000000  \n",
       "max    486330.000000  "
      ]
     },
     "execution_count": 23,
     "metadata": {},
     "output_type": "execute_result"
    }
   ],
   "source": [
    "users_control_1.describe()"
   ]
  },
  {
   "cell_type": "code",
   "execution_count": 24,
   "metadata": {},
   "outputs": [
    {
     "data": {
      "text/plain": [
       "4340"
      ]
     },
     "execution_count": 24,
     "metadata": {},
     "output_type": "execute_result"
    }
   ],
   "source": [
    "# проверим на уникальность пользователей - все значения уникальны\n",
    "users_control_1.uid.nunique()"
   ]
  },
  {
   "cell_type": "code",
   "execution_count": 25,
   "metadata": {},
   "outputs": [
    {
     "data": {
      "text/plain": [
       "25    227\n",
       "27    212\n",
       "26    195\n",
       "21    186\n",
       "23    184\n",
       "Name: age, dtype: int64"
      ]
     },
     "execution_count": 25,
     "metadata": {},
     "output_type": "execute_result"
    }
   ],
   "source": [
    "# на первый взгляд возраст похож на группу B\n",
    "users_control_1.age.value_counts().head(5)"
   ]
  },
  {
   "cell_type": "code",
   "execution_count": 26,
   "metadata": {},
   "outputs": [
    {
     "data": {
      "text/plain": [
       "False    4340\n",
       "dtype: int64"
      ]
     },
     "execution_count": 26,
     "metadata": {},
     "output_type": "execute_result"
    }
   ],
   "source": [
    "# сделаем сверку на дубликаты\n",
    "users_control_1.duplicated().value_counts()"
   ]
  },
  {
   "cell_type": "markdown",
   "metadata": {},
   "source": [
    "### Проведем обработку транзакция группы А1"
   ]
  },
  {
   "cell_type": "code",
   "execution_count": 27,
   "metadata": {
    "scrolled": false
   },
   "outputs": [
    {
     "data": {
      "text/html": [
       "<div>\n",
       "<style scoped>\n",
       "    .dataframe tbody tr th:only-of-type {\n",
       "        vertical-align: middle;\n",
       "    }\n",
       "\n",
       "    .dataframe tbody tr th {\n",
       "        vertical-align: top;\n",
       "    }\n",
       "\n",
       "    .dataframe thead th {\n",
       "        text-align: right;\n",
       "    }\n",
       "</style>\n",
       "<table border=\"1\" class=\"dataframe\">\n",
       "  <thead>\n",
       "    <tr style=\"text-align: right;\">\n",
       "      <th></th>\n",
       "      <th>uid</th>\n",
       "      <th>country</th>\n",
       "      <th>joined_at</th>\n",
       "      <th>paid_at</th>\n",
       "      <th>revenue</th>\n",
       "      <th>payment_id</th>\n",
       "      <th>from_page</th>\n",
       "      <th>product_type</th>\n",
       "    </tr>\n",
       "  </thead>\n",
       "  <tbody>\n",
       "    <tr>\n",
       "      <th>0</th>\n",
       "      <td>891319275.0</td>\n",
       "      <td>France</td>\n",
       "      <td>2017-05-11 19:57:00</td>\n",
       "      <td>2017-12-11 21:57:00</td>\n",
       "      <td>12727.0</td>\n",
       "      <td>147.0</td>\n",
       "      <td>trial_vip_popup</td>\n",
       "      <td>trial_premium</td>\n",
       "    </tr>\n",
       "    <tr>\n",
       "      <th>1</th>\n",
       "      <td>892421826.0</td>\n",
       "      <td>Israel</td>\n",
       "      <td>2017-10-14 12:46:00</td>\n",
       "      <td>2017-10-23 12:54:00</td>\n",
       "      <td>14586.0</td>\n",
       "      <td>147.0</td>\n",
       "      <td>trial_vip_popup</td>\n",
       "      <td>trial_premium</td>\n",
       "    </tr>\n",
       "    <tr>\n",
       "      <th>2</th>\n",
       "      <td>891822480.0</td>\n",
       "      <td>Italy</td>\n",
       "      <td>2017-10-26 22:27:00</td>\n",
       "      <td>2017-12-11 20:59:00</td>\n",
       "      <td>1911.0</td>\n",
       "      <td>19.0</td>\n",
       "      <td>none</td>\n",
       "      <td>coins</td>\n",
       "    </tr>\n",
       "    <tr>\n",
       "      <th>3</th>\n",
       "      <td>891367521.0</td>\n",
       "      <td>Italy</td>\n",
       "      <td>2017-05-11 02:37:00</td>\n",
       "      <td>2017-06-11 19:15:00</td>\n",
       "      <td>1456.0</td>\n",
       "      <td>127.0</td>\n",
       "      <td>sympathy</td>\n",
       "      <td>other_type</td>\n",
       "    </tr>\n",
       "    <tr>\n",
       "      <th>4</th>\n",
       "      <td>892207959.0</td>\n",
       "      <td>France</td>\n",
       "      <td>2017-10-18 18:30:00</td>\n",
       "      <td>2017-12-11 12:03:00</td>\n",
       "      <td>1261.0</td>\n",
       "      <td>19.0</td>\n",
       "      <td>empty_likes</td>\n",
       "      <td>coins</td>\n",
       "    </tr>\n",
       "  </tbody>\n",
       "</table>\n",
       "</div>"
      ],
      "text/plain": [
       "           uid country           joined_at             paid_at  revenue  \\\n",
       "0  891319275.0  France 2017-05-11 19:57:00 2017-12-11 21:57:00  12727.0   \n",
       "1  892421826.0  Israel 2017-10-14 12:46:00 2017-10-23 12:54:00  14586.0   \n",
       "2  891822480.0   Italy 2017-10-26 22:27:00 2017-12-11 20:59:00   1911.0   \n",
       "3  891367521.0   Italy 2017-05-11 02:37:00 2017-06-11 19:15:00   1456.0   \n",
       "4  892207959.0  France 2017-10-18 18:30:00 2017-12-11 12:03:00   1261.0   \n",
       "\n",
       "   payment_id        from_page   product_type  \n",
       "0       147.0  trial_vip_popup  trial_premium  \n",
       "1       147.0  trial_vip_popup  trial_premium  \n",
       "2        19.0             none          coins  \n",
       "3       127.0         sympathy     other_type  \n",
       "4        19.0      empty_likes          coins  "
      ]
     },
     "execution_count": 27,
     "metadata": {},
     "output_type": "execute_result"
    }
   ],
   "source": [
    "transactions_control_1.head(5)"
   ]
  },
  {
   "cell_type": "code",
   "execution_count": 28,
   "metadata": {},
   "outputs": [
    {
     "name": "stdout",
     "output_type": "stream",
     "text": [
      "<class 'pandas.core.frame.DataFrame'>\n",
      "RangeIndex: 1007 entries, 0 to 1006\n",
      "Data columns (total 8 columns):\n",
      " #   Column        Non-Null Count  Dtype         \n",
      "---  ------        --------------  -----         \n",
      " 0   uid           377 non-null    float64       \n",
      " 1   country       377 non-null    object        \n",
      " 2   joined_at     377 non-null    datetime64[ns]\n",
      " 3   paid_at       377 non-null    datetime64[ns]\n",
      " 4   revenue       377 non-null    float64       \n",
      " 5   payment_id    377 non-null    float64       \n",
      " 6   from_page     377 non-null    object        \n",
      " 7   product_type  377 non-null    object        \n",
      "dtypes: datetime64[ns](2), float64(3), object(3)\n",
      "memory usage: 63.1+ KB\n"
     ]
    }
   ],
   "source": [
    "# стоит посмотреть количество строк и дубликатов\n",
    "transactions_control_1.info()"
   ]
  },
  {
   "cell_type": "code",
   "execution_count": 29,
   "metadata": {},
   "outputs": [
    {
     "data": {
      "text/plain": [
       "193"
      ]
     },
     "execution_count": 29,
     "metadata": {},
     "output_type": "execute_result"
    }
   ],
   "source": [
    "transactions_control_1.uid.nunique()"
   ]
  },
  {
   "cell_type": "code",
   "execution_count": 30,
   "metadata": {},
   "outputs": [
    {
     "data": {
      "text/plain": [
       "892333905.0    27\n",
       "892069554.0    11\n",
       "891707061.0    10\n",
       "892366260.0    10\n",
       "891367521.0    10\n",
       "Name: uid, dtype: int64"
      ]
     },
     "execution_count": 30,
     "metadata": {},
     "output_type": "execute_result"
    }
   ],
   "source": [
    "# аналогично получаем большое количество покупок от ряда пользователей\n",
    "transactions_control_1.uid.value_counts().head(5)"
   ]
  },
  {
   "cell_type": "code",
   "execution_count": 31,
   "metadata": {},
   "outputs": [
    {
     "data": {
      "text/html": [
       "<div>\n",
       "<style scoped>\n",
       "    .dataframe tbody tr th:only-of-type {\n",
       "        vertical-align: middle;\n",
       "    }\n",
       "\n",
       "    .dataframe tbody tr th {\n",
       "        vertical-align: top;\n",
       "    }\n",
       "\n",
       "    .dataframe thead th {\n",
       "        text-align: right;\n",
       "    }\n",
       "</style>\n",
       "<table border=\"1\" class=\"dataframe\">\n",
       "  <thead>\n",
       "    <tr style=\"text-align: right;\">\n",
       "      <th></th>\n",
       "      <th>uid</th>\n",
       "      <th>country</th>\n",
       "      <th>joined_at</th>\n",
       "      <th>paid_at</th>\n",
       "      <th>revenue</th>\n",
       "      <th>payment_id</th>\n",
       "      <th>from_page</th>\n",
       "      <th>product_type</th>\n",
       "    </tr>\n",
       "  </thead>\n",
       "  <tbody>\n",
       "    <tr>\n",
       "      <th>49</th>\n",
       "      <td>892333905.0</td>\n",
       "      <td>Italy</td>\n",
       "      <td>2017-10-16 01:38:00</td>\n",
       "      <td>2017-10-16 01:42:00</td>\n",
       "      <td>3783.0</td>\n",
       "      <td>67.0</td>\n",
       "      <td>menu</td>\n",
       "      <td>other_type</td>\n",
       "    </tr>\n",
       "    <tr>\n",
       "      <th>13</th>\n",
       "      <td>892333905.0</td>\n",
       "      <td>Italy</td>\n",
       "      <td>2017-10-16 01:38:00</td>\n",
       "      <td>2017-10-16 01:44:00</td>\n",
       "      <td>3783.0</td>\n",
       "      <td>67.0</td>\n",
       "      <td>menu</td>\n",
       "      <td>other_type</td>\n",
       "    </tr>\n",
       "    <tr>\n",
       "      <th>47</th>\n",
       "      <td>892333905.0</td>\n",
       "      <td>Italy</td>\n",
       "      <td>2017-10-16 01:38:00</td>\n",
       "      <td>2017-10-16 01:44:00</td>\n",
       "      <td>3783.0</td>\n",
       "      <td>67.0</td>\n",
       "      <td>menu</td>\n",
       "      <td>other_type</td>\n",
       "    </tr>\n",
       "    <tr>\n",
       "      <th>169</th>\n",
       "      <td>892333905.0</td>\n",
       "      <td>Italy</td>\n",
       "      <td>2017-10-16 01:38:00</td>\n",
       "      <td>2017-10-16 01:44:00</td>\n",
       "      <td>3783.0</td>\n",
       "      <td>67.0</td>\n",
       "      <td>menu</td>\n",
       "      <td>other_type</td>\n",
       "    </tr>\n",
       "    <tr>\n",
       "      <th>28</th>\n",
       "      <td>892333905.0</td>\n",
       "      <td>Italy</td>\n",
       "      <td>2017-10-16 01:38:00</td>\n",
       "      <td>2017-10-16 01:57:00</td>\n",
       "      <td>3783.0</td>\n",
       "      <td>67.0</td>\n",
       "      <td>empty_admins</td>\n",
       "      <td>other_type</td>\n",
       "    </tr>\n",
       "    <tr>\n",
       "      <th>296</th>\n",
       "      <td>892333905.0</td>\n",
       "      <td>Italy</td>\n",
       "      <td>2017-10-16 01:38:00</td>\n",
       "      <td>2017-10-16 01:57:00</td>\n",
       "      <td>3783.0</td>\n",
       "      <td>67.0</td>\n",
       "      <td>empty_admins</td>\n",
       "      <td>other_type</td>\n",
       "    </tr>\n",
       "    <tr>\n",
       "      <th>43</th>\n",
       "      <td>892333905.0</td>\n",
       "      <td>Italy</td>\n",
       "      <td>2017-10-16 01:38:00</td>\n",
       "      <td>2017-10-16 01:58:00</td>\n",
       "      <td>3783.0</td>\n",
       "      <td>67.0</td>\n",
       "      <td>empty_admins</td>\n",
       "      <td>other_type</td>\n",
       "    </tr>\n",
       "    <tr>\n",
       "      <th>198</th>\n",
       "      <td>892333905.0</td>\n",
       "      <td>Italy</td>\n",
       "      <td>2017-10-16 01:38:00</td>\n",
       "      <td>2017-10-16 01:58:00</td>\n",
       "      <td>3783.0</td>\n",
       "      <td>67.0</td>\n",
       "      <td>empty_admins</td>\n",
       "      <td>other_type</td>\n",
       "    </tr>\n",
       "    <tr>\n",
       "      <th>88</th>\n",
       "      <td>892333905.0</td>\n",
       "      <td>Italy</td>\n",
       "      <td>2017-10-16 01:38:00</td>\n",
       "      <td>2017-10-16 01:58:00</td>\n",
       "      <td>3783.0</td>\n",
       "      <td>67.0</td>\n",
       "      <td>empty_admins</td>\n",
       "      <td>other_type</td>\n",
       "    </tr>\n",
       "    <tr>\n",
       "      <th>6</th>\n",
       "      <td>892333905.0</td>\n",
       "      <td>Italy</td>\n",
       "      <td>2017-10-16 01:38:00</td>\n",
       "      <td>2017-10-16 02:08:00</td>\n",
       "      <td>12610.0</td>\n",
       "      <td>19.0</td>\n",
       "      <td>gifts</td>\n",
       "      <td>coins</td>\n",
       "    </tr>\n",
       "    <tr>\n",
       "      <th>149</th>\n",
       "      <td>892333905.0</td>\n",
       "      <td>Italy</td>\n",
       "      <td>2017-10-16 01:38:00</td>\n",
       "      <td>2017-10-16 02:08:00</td>\n",
       "      <td>1261.0</td>\n",
       "      <td>19.0</td>\n",
       "      <td>gifts</td>\n",
       "      <td>coins</td>\n",
       "    </tr>\n",
       "    <tr>\n",
       "      <th>289</th>\n",
       "      <td>892333905.0</td>\n",
       "      <td>Italy</td>\n",
       "      <td>2017-10-16 01:38:00</td>\n",
       "      <td>2017-10-16 02:08:00</td>\n",
       "      <td>3783.0</td>\n",
       "      <td>67.0</td>\n",
       "      <td>gifts</td>\n",
       "      <td>other_type</td>\n",
       "    </tr>\n",
       "    <tr>\n",
       "      <th>137</th>\n",
       "      <td>892333905.0</td>\n",
       "      <td>Italy</td>\n",
       "      <td>2017-10-16 01:38:00</td>\n",
       "      <td>2017-10-16 02:08:00</td>\n",
       "      <td>31525.0</td>\n",
       "      <td>19.0</td>\n",
       "      <td>gifts</td>\n",
       "      <td>coins</td>\n",
       "    </tr>\n",
       "    <tr>\n",
       "      <th>274</th>\n",
       "      <td>892333905.0</td>\n",
       "      <td>Italy</td>\n",
       "      <td>2017-10-16 01:38:00</td>\n",
       "      <td>2017-10-16 02:08:00</td>\n",
       "      <td>1261.0</td>\n",
       "      <td>19.0</td>\n",
       "      <td>gifts</td>\n",
       "      <td>coins</td>\n",
       "    </tr>\n",
       "    <tr>\n",
       "      <th>297</th>\n",
       "      <td>892333905.0</td>\n",
       "      <td>Italy</td>\n",
       "      <td>2017-10-16 01:38:00</td>\n",
       "      <td>2017-10-16 02:26:00</td>\n",
       "      <td>31525.0</td>\n",
       "      <td>19.0</td>\n",
       "      <td>menu</td>\n",
       "      <td>coins</td>\n",
       "    </tr>\n",
       "    <tr>\n",
       "      <th>304</th>\n",
       "      <td>892333905.0</td>\n",
       "      <td>Italy</td>\n",
       "      <td>2017-10-16 01:38:00</td>\n",
       "      <td>2017-10-16 02:26:00</td>\n",
       "      <td>31525.0</td>\n",
       "      <td>19.0</td>\n",
       "      <td>menu</td>\n",
       "      <td>coins</td>\n",
       "    </tr>\n",
       "    <tr>\n",
       "      <th>316</th>\n",
       "      <td>892333905.0</td>\n",
       "      <td>Italy</td>\n",
       "      <td>2017-10-16 01:38:00</td>\n",
       "      <td>2017-10-16 02:52:00</td>\n",
       "      <td>31525.0</td>\n",
       "      <td>19.0</td>\n",
       "      <td>menu</td>\n",
       "      <td>coins</td>\n",
       "    </tr>\n",
       "    <tr>\n",
       "      <th>306</th>\n",
       "      <td>892333905.0</td>\n",
       "      <td>Italy</td>\n",
       "      <td>2017-10-16 01:38:00</td>\n",
       "      <td>2017-10-16 10:24:00</td>\n",
       "      <td>31525.0</td>\n",
       "      <td>19.0</td>\n",
       "      <td>menu</td>\n",
       "      <td>coins</td>\n",
       "    </tr>\n",
       "    <tr>\n",
       "      <th>143</th>\n",
       "      <td>892333905.0</td>\n",
       "      <td>Italy</td>\n",
       "      <td>2017-10-16 01:38:00</td>\n",
       "      <td>2017-10-16 13:10:00</td>\n",
       "      <td>63037.0</td>\n",
       "      <td>147.0</td>\n",
       "      <td>no_sympathy</td>\n",
       "      <td>premium_no_trial</td>\n",
       "    </tr>\n",
       "    <tr>\n",
       "      <th>359</th>\n",
       "      <td>892333905.0</td>\n",
       "      <td>Italy</td>\n",
       "      <td>2017-10-16 01:38:00</td>\n",
       "      <td>2017-10-16 18:42:00</td>\n",
       "      <td>31525.0</td>\n",
       "      <td>19.0</td>\n",
       "      <td>fans</td>\n",
       "      <td>coins</td>\n",
       "    </tr>\n",
       "    <tr>\n",
       "      <th>76</th>\n",
       "      <td>892333905.0</td>\n",
       "      <td>Italy</td>\n",
       "      <td>2017-10-16 01:38:00</td>\n",
       "      <td>2017-10-16 18:42:00</td>\n",
       "      <td>31525.0</td>\n",
       "      <td>19.0</td>\n",
       "      <td>fans</td>\n",
       "      <td>coins</td>\n",
       "    </tr>\n",
       "    <tr>\n",
       "      <th>63</th>\n",
       "      <td>892333905.0</td>\n",
       "      <td>Italy</td>\n",
       "      <td>2017-10-16 01:38:00</td>\n",
       "      <td>2017-10-16 22:35:00</td>\n",
       "      <td>31525.0</td>\n",
       "      <td>19.0</td>\n",
       "      <td>menu</td>\n",
       "      <td>coins</td>\n",
       "    </tr>\n",
       "    <tr>\n",
       "      <th>126</th>\n",
       "      <td>892333905.0</td>\n",
       "      <td>Italy</td>\n",
       "      <td>2017-10-16 01:38:00</td>\n",
       "      <td>2017-10-16 22:39:00</td>\n",
       "      <td>19773.0</td>\n",
       "      <td>146.0</td>\n",
       "      <td>menu</td>\n",
       "      <td>coins</td>\n",
       "    </tr>\n",
       "    <tr>\n",
       "      <th>256</th>\n",
       "      <td>892333905.0</td>\n",
       "      <td>Italy</td>\n",
       "      <td>2017-10-16 01:38:00</td>\n",
       "      <td>2017-10-17 00:40:00</td>\n",
       "      <td>31525.0</td>\n",
       "      <td>19.0</td>\n",
       "      <td>menu</td>\n",
       "      <td>coins</td>\n",
       "    </tr>\n",
       "    <tr>\n",
       "      <th>358</th>\n",
       "      <td>892333905.0</td>\n",
       "      <td>Italy</td>\n",
       "      <td>2017-10-16 01:38:00</td>\n",
       "      <td>2017-10-17 02:23:00</td>\n",
       "      <td>3783.0</td>\n",
       "      <td>67.0</td>\n",
       "      <td>menu</td>\n",
       "      <td>other_type</td>\n",
       "    </tr>\n",
       "    <tr>\n",
       "      <th>166</th>\n",
       "      <td>892333905.0</td>\n",
       "      <td>Italy</td>\n",
       "      <td>2017-10-16 01:38:00</td>\n",
       "      <td>2017-10-17 02:23:00</td>\n",
       "      <td>31525.0</td>\n",
       "      <td>19.0</td>\n",
       "      <td>menu</td>\n",
       "      <td>coins</td>\n",
       "    </tr>\n",
       "    <tr>\n",
       "      <th>335</th>\n",
       "      <td>892333905.0</td>\n",
       "      <td>Italy</td>\n",
       "      <td>2017-10-16 01:38:00</td>\n",
       "      <td>2017-10-17 20:53:00</td>\n",
       "      <td>31525.0</td>\n",
       "      <td>19.0</td>\n",
       "      <td>menu</td>\n",
       "      <td>coins</td>\n",
       "    </tr>\n",
       "  </tbody>\n",
       "</table>\n",
       "</div>"
      ],
      "text/plain": [
       "             uid country           joined_at             paid_at  revenue  \\\n",
       "49   892333905.0   Italy 2017-10-16 01:38:00 2017-10-16 01:42:00   3783.0   \n",
       "13   892333905.0   Italy 2017-10-16 01:38:00 2017-10-16 01:44:00   3783.0   \n",
       "47   892333905.0   Italy 2017-10-16 01:38:00 2017-10-16 01:44:00   3783.0   \n",
       "169  892333905.0   Italy 2017-10-16 01:38:00 2017-10-16 01:44:00   3783.0   \n",
       "28   892333905.0   Italy 2017-10-16 01:38:00 2017-10-16 01:57:00   3783.0   \n",
       "296  892333905.0   Italy 2017-10-16 01:38:00 2017-10-16 01:57:00   3783.0   \n",
       "43   892333905.0   Italy 2017-10-16 01:38:00 2017-10-16 01:58:00   3783.0   \n",
       "198  892333905.0   Italy 2017-10-16 01:38:00 2017-10-16 01:58:00   3783.0   \n",
       "88   892333905.0   Italy 2017-10-16 01:38:00 2017-10-16 01:58:00   3783.0   \n",
       "6    892333905.0   Italy 2017-10-16 01:38:00 2017-10-16 02:08:00  12610.0   \n",
       "149  892333905.0   Italy 2017-10-16 01:38:00 2017-10-16 02:08:00   1261.0   \n",
       "289  892333905.0   Italy 2017-10-16 01:38:00 2017-10-16 02:08:00   3783.0   \n",
       "137  892333905.0   Italy 2017-10-16 01:38:00 2017-10-16 02:08:00  31525.0   \n",
       "274  892333905.0   Italy 2017-10-16 01:38:00 2017-10-16 02:08:00   1261.0   \n",
       "297  892333905.0   Italy 2017-10-16 01:38:00 2017-10-16 02:26:00  31525.0   \n",
       "304  892333905.0   Italy 2017-10-16 01:38:00 2017-10-16 02:26:00  31525.0   \n",
       "316  892333905.0   Italy 2017-10-16 01:38:00 2017-10-16 02:52:00  31525.0   \n",
       "306  892333905.0   Italy 2017-10-16 01:38:00 2017-10-16 10:24:00  31525.0   \n",
       "143  892333905.0   Italy 2017-10-16 01:38:00 2017-10-16 13:10:00  63037.0   \n",
       "359  892333905.0   Italy 2017-10-16 01:38:00 2017-10-16 18:42:00  31525.0   \n",
       "76   892333905.0   Italy 2017-10-16 01:38:00 2017-10-16 18:42:00  31525.0   \n",
       "63   892333905.0   Italy 2017-10-16 01:38:00 2017-10-16 22:35:00  31525.0   \n",
       "126  892333905.0   Italy 2017-10-16 01:38:00 2017-10-16 22:39:00  19773.0   \n",
       "256  892333905.0   Italy 2017-10-16 01:38:00 2017-10-17 00:40:00  31525.0   \n",
       "358  892333905.0   Italy 2017-10-16 01:38:00 2017-10-17 02:23:00   3783.0   \n",
       "166  892333905.0   Italy 2017-10-16 01:38:00 2017-10-17 02:23:00  31525.0   \n",
       "335  892333905.0   Italy 2017-10-16 01:38:00 2017-10-17 20:53:00  31525.0   \n",
       "\n",
       "     payment_id     from_page      product_type  \n",
       "49         67.0          menu        other_type  \n",
       "13         67.0          menu        other_type  \n",
       "47         67.0          menu        other_type  \n",
       "169        67.0          menu        other_type  \n",
       "28         67.0  empty_admins        other_type  \n",
       "296        67.0  empty_admins        other_type  \n",
       "43         67.0  empty_admins        other_type  \n",
       "198        67.0  empty_admins        other_type  \n",
       "88         67.0  empty_admins        other_type  \n",
       "6          19.0         gifts             coins  \n",
       "149        19.0         gifts             coins  \n",
       "289        67.0         gifts        other_type  \n",
       "137        19.0         gifts             coins  \n",
       "274        19.0         gifts             coins  \n",
       "297        19.0          menu             coins  \n",
       "304        19.0          menu             coins  \n",
       "316        19.0          menu             coins  \n",
       "306        19.0          menu             coins  \n",
       "143       147.0   no_sympathy  premium_no_trial  \n",
       "359        19.0          fans             coins  \n",
       "76         19.0          fans             coins  \n",
       "63         19.0          menu             coins  \n",
       "126       146.0          menu             coins  \n",
       "256        19.0          menu             coins  \n",
       "358        67.0          menu        other_type  \n",
       "166        19.0          menu             coins  \n",
       "335        19.0          menu             coins  "
      ]
     },
     "execution_count": 31,
     "metadata": {},
     "output_type": "execute_result"
    }
   ],
   "source": [
    "# замечаем что есть ряд идентичных строк с полнотьсью одинаоквыми значениями (строка 76 и 359) - дубликаты?\n",
    "o_order = transactions_control_1.query('uid == 892333905 ')\n",
    "o_order.sort_values(\"paid_at\")"
   ]
  },
  {
   "cell_type": "code",
   "execution_count": 32,
   "metadata": {},
   "outputs": [
    {
     "data": {
      "text/plain": [
       "True     650\n",
       "False    357\n",
       "dtype: int64"
      ]
     },
     "execution_count": 32,
     "metadata": {},
     "output_type": "execute_result"
    }
   ],
   "source": [
    "# при удалении такого количество дубликатов размер группы будет сопостовим с группой B\n",
    "transactions_control_1.duplicated().value_counts()"
   ]
  },
  {
   "cell_type": "code",
   "execution_count": 33,
   "metadata": {},
   "outputs": [
    {
     "data": {
      "text/plain": [
       "uid             630\n",
       "country         630\n",
       "joined_at       630\n",
       "paid_at         630\n",
       "revenue         630\n",
       "payment_id      630\n",
       "from_page       630\n",
       "product_type    630\n",
       "dtype: int64"
      ]
     },
     "execution_count": 33,
     "metadata": {},
     "output_type": "execute_result"
    }
   ],
   "source": [
    "transactions_control_1.isna().sum()"
   ]
  },
  {
   "cell_type": "code",
   "execution_count": 34,
   "metadata": {},
   "outputs": [],
   "source": [
    "# произведем очистку от всего\n",
    "transactions_control_1 = transactions_control_1.drop_duplicates()\n",
    "transactions_control_1 = transactions_control_1.dropna()\n",
    "# переведем колонку к нужному типу\n",
    "transactions_control_1.uid = transactions_control_1.uid.astype(int)"
   ]
  },
  {
   "cell_type": "code",
   "execution_count": 35,
   "metadata": {},
   "outputs": [
    {
     "data": {
      "text/html": [
       "<div>\n",
       "<style scoped>\n",
       "    .dataframe tbody tr th:only-of-type {\n",
       "        vertical-align: middle;\n",
       "    }\n",
       "\n",
       "    .dataframe tbody tr th {\n",
       "        vertical-align: top;\n",
       "    }\n",
       "\n",
       "    .dataframe thead th {\n",
       "        text-align: right;\n",
       "    }\n",
       "</style>\n",
       "<table border=\"1\" class=\"dataframe\">\n",
       "  <thead>\n",
       "    <tr style=\"text-align: right;\">\n",
       "      <th></th>\n",
       "      <th>uid</th>\n",
       "      <th>revenue</th>\n",
       "      <th>payment_id</th>\n",
       "    </tr>\n",
       "  </thead>\n",
       "  <tbody>\n",
       "    <tr>\n",
       "      <th>count</th>\n",
       "      <td>3.560000e+02</td>\n",
       "      <td>356.000000</td>\n",
       "      <td>356.000000</td>\n",
       "    </tr>\n",
       "    <tr>\n",
       "      <th>mean</th>\n",
       "      <td>8.923874e+08</td>\n",
       "      <td>7007.876404</td>\n",
       "      <td>93.985955</td>\n",
       "    </tr>\n",
       "    <tr>\n",
       "      <th>std</th>\n",
       "      <td>6.340717e+06</td>\n",
       "      <td>7985.995094</td>\n",
       "      <td>58.491673</td>\n",
       "    </tr>\n",
       "    <tr>\n",
       "      <th>min</th>\n",
       "      <td>8.910923e+08</td>\n",
       "      <td>26.000000</td>\n",
       "      <td>0.000000</td>\n",
       "    </tr>\n",
       "    <tr>\n",
       "      <th>25%</th>\n",
       "      <td>8.914030e+08</td>\n",
       "      <td>2804.750000</td>\n",
       "      <td>19.000000</td>\n",
       "    </tr>\n",
       "    <tr>\n",
       "      <th>50%</th>\n",
       "      <td>8.918225e+08</td>\n",
       "      <td>6292.000000</td>\n",
       "      <td>146.000000</td>\n",
       "    </tr>\n",
       "    <tr>\n",
       "      <th>75%</th>\n",
       "      <td>8.921662e+08</td>\n",
       "      <td>7312.500000</td>\n",
       "      <td>147.000000</td>\n",
       "    </tr>\n",
       "    <tr>\n",
       "      <th>max</th>\n",
       "      <td>9.609370e+08</td>\n",
       "      <td>63037.000000</td>\n",
       "      <td>147.000000</td>\n",
       "    </tr>\n",
       "  </tbody>\n",
       "</table>\n",
       "</div>"
      ],
      "text/plain": [
       "                uid       revenue  payment_id\n",
       "count  3.560000e+02    356.000000  356.000000\n",
       "mean   8.923874e+08   7007.876404   93.985955\n",
       "std    6.340717e+06   7985.995094   58.491673\n",
       "min    8.910923e+08     26.000000    0.000000\n",
       "25%    8.914030e+08   2804.750000   19.000000\n",
       "50%    8.918225e+08   6292.000000  146.000000\n",
       "75%    8.921662e+08   7312.500000  147.000000\n",
       "max    9.609370e+08  63037.000000  147.000000"
      ]
     },
     "execution_count": 35,
     "metadata": {},
     "output_type": "execute_result"
    }
   ],
   "source": [
    "transactions_control_1.describe()"
   ]
  },
  {
   "cell_type": "markdown",
   "metadata": {},
   "source": [
    "### Проведем проверку исходных данных группы А2"
   ]
  },
  {
   "cell_type": "code",
   "execution_count": 36,
   "metadata": {},
   "outputs": [
    {
     "data": {
      "text/html": [
       "<div>\n",
       "<style scoped>\n",
       "    .dataframe tbody tr th:only-of-type {\n",
       "        vertical-align: middle;\n",
       "    }\n",
       "\n",
       "    .dataframe tbody tr th {\n",
       "        vertical-align: top;\n",
       "    }\n",
       "\n",
       "    .dataframe thead th {\n",
       "        text-align: right;\n",
       "    }\n",
       "</style>\n",
       "<table border=\"1\" class=\"dataframe\">\n",
       "  <thead>\n",
       "    <tr style=\"text-align: right;\">\n",
       "      <th></th>\n",
       "      <th>uid</th>\n",
       "      <th>age</th>\n",
       "      <th>attraction_coeff</th>\n",
       "      <th>coins</th>\n",
       "      <th>country</th>\n",
       "      <th>visit_days</th>\n",
       "      <th>gender</th>\n",
       "      <th>age_filter_start</th>\n",
       "      <th>age_filter_end</th>\n",
       "      <th>views_count</th>\n",
       "      <th>was_premium</th>\n",
       "      <th>is_premium</th>\n",
       "      <th>total_revenue</th>\n",
       "    </tr>\n",
       "  </thead>\n",
       "  <tbody>\n",
       "    <tr>\n",
       "      <th>0</th>\n",
       "      <td>892035504</td>\n",
       "      <td>37</td>\n",
       "      <td>137</td>\n",
       "      <td>NaN</td>\n",
       "      <td>Israel</td>\n",
       "      <td>1,2,3,4,5,6,7,8,9,11,13</td>\n",
       "      <td>1</td>\n",
       "      <td>30</td>\n",
       "      <td>40</td>\n",
       "      <td>51</td>\n",
       "      <td>NaN</td>\n",
       "      <td>NaN</td>\n",
       "      <td>0</td>\n",
       "    </tr>\n",
       "    <tr>\n",
       "      <th>1</th>\n",
       "      <td>891782112</td>\n",
       "      <td>57</td>\n",
       "      <td>0</td>\n",
       "      <td>NaN</td>\n",
       "      <td>Italy</td>\n",
       "      <td>1</td>\n",
       "      <td>1</td>\n",
       "      <td>54</td>\n",
       "      <td>60</td>\n",
       "      <td>0</td>\n",
       "      <td>NaN</td>\n",
       "      <td>NaN</td>\n",
       "      <td>0</td>\n",
       "    </tr>\n",
       "    <tr>\n",
       "      <th>2</th>\n",
       "      <td>891110337</td>\n",
       "      <td>30</td>\n",
       "      <td>769</td>\n",
       "      <td>NaN</td>\n",
       "      <td>France</td>\n",
       "      <td>1,2,3,4,5</td>\n",
       "      <td>1</td>\n",
       "      <td>27</td>\n",
       "      <td>33</td>\n",
       "      <td>13</td>\n",
       "      <td>NaN</td>\n",
       "      <td>NaN</td>\n",
       "      <td>0</td>\n",
       "    </tr>\n",
       "    <tr>\n",
       "      <th>3</th>\n",
       "      <td>891796320</td>\n",
       "      <td>48</td>\n",
       "      <td>750</td>\n",
       "      <td>NaN</td>\n",
       "      <td>France</td>\n",
       "      <td>1,4,6,8,10,11,12,14,15,16,18</td>\n",
       "      <td>1</td>\n",
       "      <td>45</td>\n",
       "      <td>51</td>\n",
       "      <td>12</td>\n",
       "      <td>NaN</td>\n",
       "      <td>NaN</td>\n",
       "      <td>0</td>\n",
       "    </tr>\n",
       "    <tr>\n",
       "      <th>4</th>\n",
       "      <td>891880212</td>\n",
       "      <td>54</td>\n",
       "      <td>638</td>\n",
       "      <td>NaN</td>\n",
       "      <td>United States of America</td>\n",
       "      <td>1</td>\n",
       "      <td>1</td>\n",
       "      <td>35</td>\n",
       "      <td>53</td>\n",
       "      <td>94</td>\n",
       "      <td>NaN</td>\n",
       "      <td>NaN</td>\n",
       "      <td>0</td>\n",
       "    </tr>\n",
       "  </tbody>\n",
       "</table>\n",
       "</div>"
      ],
      "text/plain": [
       "         uid  age  attraction_coeff  coins                   country  \\\n",
       "0  892035504   37               137    NaN                    Israel   \n",
       "1  891782112   57                 0    NaN                     Italy   \n",
       "2  891110337   30               769    NaN                    France   \n",
       "3  891796320   48               750    NaN                    France   \n",
       "4  891880212   54               638    NaN  United States of America   \n",
       "\n",
       "                     visit_days  gender  age_filter_start  age_filter_end  \\\n",
       "0       1,2,3,4,5,6,7,8,9,11,13       1                30              40   \n",
       "1                             1       1                54              60   \n",
       "2                     1,2,3,4,5       1                27              33   \n",
       "3  1,4,6,8,10,11,12,14,15,16,18       1                45              51   \n",
       "4                             1       1                35              53   \n",
       "\n",
       "   views_count  was_premium  is_premium  total_revenue  \n",
       "0           51          NaN         NaN              0  \n",
       "1            0          NaN         NaN              0  \n",
       "2           13          NaN         NaN              0  \n",
       "3           12          NaN         NaN              0  \n",
       "4           94          NaN         NaN              0  "
      ]
     },
     "execution_count": 36,
     "metadata": {},
     "output_type": "execute_result"
    }
   ],
   "source": [
    "users_control_2.head(5)"
   ]
  },
  {
   "cell_type": "code",
   "execution_count": 37,
   "metadata": {},
   "outputs": [
    {
     "name": "stdout",
     "output_type": "stream",
     "text": [
      "<class 'pandas.core.frame.DataFrame'>\n",
      "RangeIndex: 4264 entries, 0 to 4263\n",
      "Data columns (total 13 columns):\n",
      " #   Column            Non-Null Count  Dtype  \n",
      "---  ------            --------------  -----  \n",
      " 0   uid               4264 non-null   int64  \n",
      " 1   age               4264 non-null   int64  \n",
      " 2   attraction_coeff  4264 non-null   int64  \n",
      " 3   coins             61 non-null     float64\n",
      " 4   country           4264 non-null   object \n",
      " 5   visit_days        2900 non-null   object \n",
      " 6   gender            4264 non-null   int64  \n",
      " 7   age_filter_start  4264 non-null   int64  \n",
      " 8   age_filter_end    4264 non-null   int64  \n",
      " 9   views_count       4264 non-null   int64  \n",
      " 10  was_premium       411 non-null    float64\n",
      " 11  is_premium        191 non-null    float64\n",
      " 12  total_revenue     4264 non-null   int64  \n",
      "dtypes: float64(3), int64(8), object(2)\n",
      "memory usage: 433.2+ KB\n"
     ]
    }
   ],
   "source": [
    "users_control_2.info()"
   ]
  },
  {
   "cell_type": "code",
   "execution_count": 38,
   "metadata": {},
   "outputs": [
    {
     "data": {
      "text/plain": [
       "uid                    0\n",
       "age                    0\n",
       "attraction_coeff       0\n",
       "coins               4203\n",
       "country                0\n",
       "visit_days          1364\n",
       "gender                 0\n",
       "age_filter_start       0\n",
       "age_filter_end         0\n",
       "views_count            0\n",
       "was_premium         3853\n",
       "is_premium          4073\n",
       "total_revenue          0\n",
       "dtype: int64"
      ]
     },
     "execution_count": 38,
     "metadata": {},
     "output_type": "execute_result"
    }
   ],
   "source": [
    "users_control_2.isna().sum()"
   ]
  },
  {
   "cell_type": "code",
   "execution_count": 39,
   "metadata": {},
   "outputs": [
    {
     "data": {
      "text/html": [
       "<div>\n",
       "<style scoped>\n",
       "    .dataframe tbody tr th:only-of-type {\n",
       "        vertical-align: middle;\n",
       "    }\n",
       "\n",
       "    .dataframe tbody tr th {\n",
       "        vertical-align: top;\n",
       "    }\n",
       "\n",
       "    .dataframe thead th {\n",
       "        text-align: right;\n",
       "    }\n",
       "</style>\n",
       "<table border=\"1\" class=\"dataframe\">\n",
       "  <thead>\n",
       "    <tr style=\"text-align: right;\">\n",
       "      <th></th>\n",
       "      <th>uid</th>\n",
       "      <th>age</th>\n",
       "      <th>attraction_coeff</th>\n",
       "      <th>coins</th>\n",
       "      <th>gender</th>\n",
       "      <th>age_filter_start</th>\n",
       "      <th>age_filter_end</th>\n",
       "      <th>views_count</th>\n",
       "      <th>was_premium</th>\n",
       "      <th>is_premium</th>\n",
       "      <th>total_revenue</th>\n",
       "    </tr>\n",
       "  </thead>\n",
       "  <tbody>\n",
       "    <tr>\n",
       "      <th>count</th>\n",
       "      <td>4.264000e+03</td>\n",
       "      <td>4264.000000</td>\n",
       "      <td>4264.000000</td>\n",
       "      <td>61.000000</td>\n",
       "      <td>4264.000000</td>\n",
       "      <td>4264.000000</td>\n",
       "      <td>4264.000000</td>\n",
       "      <td>4264.000000</td>\n",
       "      <td>411.0</td>\n",
       "      <td>191.0</td>\n",
       "      <td>4264.000000</td>\n",
       "    </tr>\n",
       "    <tr>\n",
       "      <th>mean</th>\n",
       "      <td>8.917694e+08</td>\n",
       "      <td>32.046201</td>\n",
       "      <td>317.957317</td>\n",
       "      <td>18.147541</td>\n",
       "      <td>0.954268</td>\n",
       "      <td>26.954268</td>\n",
       "      <td>38.906895</td>\n",
       "      <td>45.064493</td>\n",
       "      <td>1.0</td>\n",
       "      <td>1.0</td>\n",
       "      <td>450.384146</td>\n",
       "    </tr>\n",
       "    <tr>\n",
       "      <th>std</th>\n",
       "      <td>2.520759e+06</td>\n",
       "      <td>10.170721</td>\n",
       "      <td>326.191737</td>\n",
       "      <td>35.439543</td>\n",
       "      <td>0.208927</td>\n",
       "      <td>9.546657</td>\n",
       "      <td>15.955574</td>\n",
       "      <td>318.188992</td>\n",
       "      <td>0.0</td>\n",
       "      <td>0.0</td>\n",
       "      <td>2859.242228</td>\n",
       "    </tr>\n",
       "    <tr>\n",
       "      <th>min</th>\n",
       "      <td>8.910509e+08</td>\n",
       "      <td>16.000000</td>\n",
       "      <td>0.000000</td>\n",
       "      <td>1.000000</td>\n",
       "      <td>0.000000</td>\n",
       "      <td>13.000000</td>\n",
       "      <td>19.000000</td>\n",
       "      <td>0.000000</td>\n",
       "      <td>1.0</td>\n",
       "      <td>1.0</td>\n",
       "      <td>0.000000</td>\n",
       "    </tr>\n",
       "    <tr>\n",
       "      <th>25%</th>\n",
       "      <td>8.913453e+08</td>\n",
       "      <td>25.000000</td>\n",
       "      <td>0.000000</td>\n",
       "      <td>4.000000</td>\n",
       "      <td>1.000000</td>\n",
       "      <td>19.000000</td>\n",
       "      <td>28.000000</td>\n",
       "      <td>1.000000</td>\n",
       "      <td>1.0</td>\n",
       "      <td>1.0</td>\n",
       "      <td>0.000000</td>\n",
       "    </tr>\n",
       "    <tr>\n",
       "      <th>50%</th>\n",
       "      <td>8.917205e+08</td>\n",
       "      <td>30.000000</td>\n",
       "      <td>250.000000</td>\n",
       "      <td>10.000000</td>\n",
       "      <td>1.000000</td>\n",
       "      <td>25.000000</td>\n",
       "      <td>35.000000</td>\n",
       "      <td>6.000000</td>\n",
       "      <td>1.0</td>\n",
       "      <td>1.0</td>\n",
       "      <td>0.000000</td>\n",
       "    </tr>\n",
       "    <tr>\n",
       "      <th>75%</th>\n",
       "      <td>8.920735e+08</td>\n",
       "      <td>38.000000</td>\n",
       "      <td>548.500000</td>\n",
       "      <td>20.000000</td>\n",
       "      <td>1.000000</td>\n",
       "      <td>32.000000</td>\n",
       "      <td>45.000000</td>\n",
       "      <td>20.000000</td>\n",
       "      <td>1.0</td>\n",
       "      <td>1.0</td>\n",
       "      <td>0.000000</td>\n",
       "    </tr>\n",
       "    <tr>\n",
       "      <th>max</th>\n",
       "      <td>1.053059e+09</td>\n",
       "      <td>99.000000</td>\n",
       "      <td>1000.000000</td>\n",
       "      <td>271.000000</td>\n",
       "      <td>1.000000</td>\n",
       "      <td>94.000000</td>\n",
       "      <td>99.000000</td>\n",
       "      <td>16157.000000</td>\n",
       "      <td>1.0</td>\n",
       "      <td>1.0</td>\n",
       "      <td>81796.000000</td>\n",
       "    </tr>\n",
       "  </tbody>\n",
       "</table>\n",
       "</div>"
      ],
      "text/plain": [
       "                uid          age  attraction_coeff       coins       gender  \\\n",
       "count  4.264000e+03  4264.000000       4264.000000   61.000000  4264.000000   \n",
       "mean   8.917694e+08    32.046201        317.957317   18.147541     0.954268   \n",
       "std    2.520759e+06    10.170721        326.191737   35.439543     0.208927   \n",
       "min    8.910509e+08    16.000000          0.000000    1.000000     0.000000   \n",
       "25%    8.913453e+08    25.000000          0.000000    4.000000     1.000000   \n",
       "50%    8.917205e+08    30.000000        250.000000   10.000000     1.000000   \n",
       "75%    8.920735e+08    38.000000        548.500000   20.000000     1.000000   \n",
       "max    1.053059e+09    99.000000       1000.000000  271.000000     1.000000   \n",
       "\n",
       "       age_filter_start  age_filter_end   views_count  was_premium  \\\n",
       "count       4264.000000     4264.000000   4264.000000        411.0   \n",
       "mean          26.954268       38.906895     45.064493          1.0   \n",
       "std            9.546657       15.955574    318.188992          0.0   \n",
       "min           13.000000       19.000000      0.000000          1.0   \n",
       "25%           19.000000       28.000000      1.000000          1.0   \n",
       "50%           25.000000       35.000000      6.000000          1.0   \n",
       "75%           32.000000       45.000000     20.000000          1.0   \n",
       "max           94.000000       99.000000  16157.000000          1.0   \n",
       "\n",
       "       is_premium  total_revenue  \n",
       "count       191.0    4264.000000  \n",
       "mean          1.0     450.384146  \n",
       "std           0.0    2859.242228  \n",
       "min           1.0       0.000000  \n",
       "25%           1.0       0.000000  \n",
       "50%           1.0       0.000000  \n",
       "75%           1.0       0.000000  \n",
       "max           1.0   81796.000000  "
      ]
     },
     "execution_count": 39,
     "metadata": {},
     "output_type": "execute_result"
    }
   ],
   "source": [
    "users_control_2.describe()"
   ]
  },
  {
   "cell_type": "code",
   "execution_count": 40,
   "metadata": {},
   "outputs": [
    {
     "data": {
      "text/plain": [
       "4264"
      ]
     },
     "execution_count": 40,
     "metadata": {},
     "output_type": "execute_result"
    }
   ],
   "source": [
    "# проверим на уникальность пользователей - все значения уникальны\n",
    "users_control_2.uid.nunique()"
   ]
  },
  {
   "cell_type": "code",
   "execution_count": 41,
   "metadata": {},
   "outputs": [
    {
     "data": {
      "text/plain": [
       "25    241\n",
       "27    226\n",
       "24    189\n",
       "26    185\n",
       "29    173\n",
       "Name: age, dtype: int64"
      ]
     },
     "execution_count": 41,
     "metadata": {},
     "output_type": "execute_result"
    }
   ],
   "source": [
    "# основная группа пользователей схожа с группами А1, B\n",
    "users_control_2.age.value_counts().head(5)"
   ]
  },
  {
   "cell_type": "code",
   "execution_count": 42,
   "metadata": {},
   "outputs": [
    {
     "data": {
      "text/plain": [
       "False    4264\n",
       "dtype: int64"
      ]
     },
     "execution_count": 42,
     "metadata": {},
     "output_type": "execute_result"
    }
   ],
   "source": [
    "# для дополнительной проверки, сделаем сверку на дубликаты\n",
    "users_control_2.duplicated().value_counts()"
   ]
  },
  {
   "cell_type": "markdown",
   "metadata": {},
   "source": [
    "### Проведем обработку транзакция группы А2"
   ]
  },
  {
   "cell_type": "code",
   "execution_count": 43,
   "metadata": {},
   "outputs": [
    {
     "data": {
      "text/html": [
       "<div>\n",
       "<style scoped>\n",
       "    .dataframe tbody tr th:only-of-type {\n",
       "        vertical-align: middle;\n",
       "    }\n",
       "\n",
       "    .dataframe tbody tr th {\n",
       "        vertical-align: top;\n",
       "    }\n",
       "\n",
       "    .dataframe thead th {\n",
       "        text-align: right;\n",
       "    }\n",
       "</style>\n",
       "<table border=\"1\" class=\"dataframe\">\n",
       "  <thead>\n",
       "    <tr style=\"text-align: right;\">\n",
       "      <th></th>\n",
       "      <th>uid</th>\n",
       "      <th>country</th>\n",
       "      <th>joined_at</th>\n",
       "      <th>paid_at</th>\n",
       "      <th>revenue</th>\n",
       "      <th>payment_id</th>\n",
       "      <th>from_page</th>\n",
       "      <th>product_type</th>\n",
       "    </tr>\n",
       "  </thead>\n",
       "  <tbody>\n",
       "    <tr>\n",
       "      <th>0</th>\n",
       "      <td>891266616</td>\n",
       "      <td>Argentina</td>\n",
       "      <td>2017-06-11 15:25:00</td>\n",
       "      <td>2017-10-11 17:35:00</td>\n",
       "      <td>6305</td>\n",
       "      <td>19</td>\n",
       "      <td>autorefill</td>\n",
       "      <td>coins</td>\n",
       "    </tr>\n",
       "    <tr>\n",
       "      <th>1</th>\n",
       "      <td>892186737</td>\n",
       "      <td>Chile</td>\n",
       "      <td>2017-10-19 06:03:00</td>\n",
       "      <td>2017-04-11 08:53:00</td>\n",
       "      <td>4732</td>\n",
       "      <td>147</td>\n",
       "      <td>promo_09</td>\n",
       "      <td>premium_no_trial</td>\n",
       "    </tr>\n",
       "    <tr>\n",
       "      <th>2</th>\n",
       "      <td>891959004</td>\n",
       "      <td>United States of America</td>\n",
       "      <td>2017-10-24 00:12:00</td>\n",
       "      <td>2017-10-31 02:12:00</td>\n",
       "      <td>10153</td>\n",
       "      <td>147</td>\n",
       "      <td>trial_vip_popup</td>\n",
       "      <td>trial_premium</td>\n",
       "    </tr>\n",
       "    <tr>\n",
       "      <th>3</th>\n",
       "      <td>892115478</td>\n",
       "      <td>Spain</td>\n",
       "      <td>2017-10-20 20:39:00</td>\n",
       "      <td>2017-10-26 06:26:00</td>\n",
       "      <td>2366</td>\n",
       "      <td>67</td>\n",
       "      <td>empty_likes</td>\n",
       "      <td>other_type</td>\n",
       "    </tr>\n",
       "    <tr>\n",
       "      <th>4</th>\n",
       "      <td>891592941</td>\n",
       "      <td>Switzerland</td>\n",
       "      <td>2017-10-31 12:40:00</td>\n",
       "      <td>2017-03-11 16:25:00</td>\n",
       "      <td>6292</td>\n",
       "      <td>147</td>\n",
       "      <td>promo_09</td>\n",
       "      <td>premium_no_trial</td>\n",
       "    </tr>\n",
       "  </tbody>\n",
       "</table>\n",
       "</div>"
      ],
      "text/plain": [
       "         uid                   country           joined_at  \\\n",
       "0  891266616                 Argentina 2017-06-11 15:25:00   \n",
       "1  892186737                     Chile 2017-10-19 06:03:00   \n",
       "2  891959004  United States of America 2017-10-24 00:12:00   \n",
       "3  892115478                     Spain 2017-10-20 20:39:00   \n",
       "4  891592941               Switzerland 2017-10-31 12:40:00   \n",
       "\n",
       "              paid_at  revenue  payment_id        from_page      product_type  \n",
       "0 2017-10-11 17:35:00     6305          19       autorefill             coins  \n",
       "1 2017-04-11 08:53:00     4732         147         promo_09  premium_no_trial  \n",
       "2 2017-10-31 02:12:00    10153         147  trial_vip_popup     trial_premium  \n",
       "3 2017-10-26 06:26:00     2366          67      empty_likes        other_type  \n",
       "4 2017-03-11 16:25:00     6292         147         promo_09  premium_no_trial  "
      ]
     },
     "execution_count": 43,
     "metadata": {},
     "output_type": "execute_result"
    }
   ],
   "source": [
    "transactions_control_2.head(5)"
   ]
  },
  {
   "cell_type": "code",
   "execution_count": 44,
   "metadata": {},
   "outputs": [
    {
     "name": "stdout",
     "output_type": "stream",
     "text": [
      "<class 'pandas.core.frame.DataFrame'>\n",
      "RangeIndex: 328 entries, 0 to 327\n",
      "Data columns (total 8 columns):\n",
      " #   Column        Non-Null Count  Dtype         \n",
      "---  ------        --------------  -----         \n",
      " 0   uid           328 non-null    int64         \n",
      " 1   country       328 non-null    object        \n",
      " 2   joined_at     328 non-null    datetime64[ns]\n",
      " 3   paid_at       328 non-null    datetime64[ns]\n",
      " 4   revenue       328 non-null    int64         \n",
      " 5   payment_id    328 non-null    int64         \n",
      " 6   from_page     328 non-null    object        \n",
      " 7   product_type  328 non-null    object        \n",
      "dtypes: datetime64[ns](2), int64(3), object(3)\n",
      "memory usage: 20.6+ KB\n"
     ]
    }
   ],
   "source": [
    "transactions_control_2.info()"
   ]
  },
  {
   "cell_type": "code",
   "execution_count": 45,
   "metadata": {},
   "outputs": [
    {
     "data": {
      "text/plain": [
       "187"
      ]
     },
     "execution_count": 45,
     "metadata": {},
     "output_type": "execute_result"
    }
   ],
   "source": [
    "transactions_control_2.uid.nunique()"
   ]
  },
  {
   "cell_type": "code",
   "execution_count": 46,
   "metadata": {},
   "outputs": [
    {
     "data": {
      "text/plain": [
       "891637005    11\n",
       "892230228    10\n",
       "891080040     8\n",
       "892139829     6\n",
       "892435536     5\n",
       "Name: uid, dtype: int64"
      ]
     },
     "execution_count": 46,
     "metadata": {},
     "output_type": "execute_result"
    }
   ],
   "source": [
    "transactions_control_2.uid.value_counts().head(5)"
   ]
  },
  {
   "cell_type": "code",
   "execution_count": 47,
   "metadata": {},
   "outputs": [
    {
     "data": {
      "text/html": [
       "<div>\n",
       "<style scoped>\n",
       "    .dataframe tbody tr th:only-of-type {\n",
       "        vertical-align: middle;\n",
       "    }\n",
       "\n",
       "    .dataframe tbody tr th {\n",
       "        vertical-align: top;\n",
       "    }\n",
       "\n",
       "    .dataframe thead th {\n",
       "        text-align: right;\n",
       "    }\n",
       "</style>\n",
       "<table border=\"1\" class=\"dataframe\">\n",
       "  <thead>\n",
       "    <tr style=\"text-align: right;\">\n",
       "      <th></th>\n",
       "      <th>uid</th>\n",
       "      <th>country</th>\n",
       "      <th>joined_at</th>\n",
       "      <th>paid_at</th>\n",
       "      <th>revenue</th>\n",
       "      <th>payment_id</th>\n",
       "      <th>from_page</th>\n",
       "      <th>product_type</th>\n",
       "    </tr>\n",
       "  </thead>\n",
       "  <tbody>\n",
       "    <tr>\n",
       "      <th>292</th>\n",
       "      <td>891637005</td>\n",
       "      <td>Spain</td>\n",
       "      <td>2017-10-30 15:22:00</td>\n",
       "      <td>2017-02-11 13:38:00</td>\n",
       "      <td>6292</td>\n",
       "      <td>147</td>\n",
       "      <td>left_sidebar_menu</td>\n",
       "      <td>premium_no_trial</td>\n",
       "    </tr>\n",
       "    <tr>\n",
       "      <th>279</th>\n",
       "      <td>891637005</td>\n",
       "      <td>Spain</td>\n",
       "      <td>2017-10-30 15:22:00</td>\n",
       "      <td>2017-02-11 13:39:00</td>\n",
       "      <td>6396</td>\n",
       "      <td>147</td>\n",
       "      <td>left_sidebar_menu</td>\n",
       "      <td>premium_no_trial</td>\n",
       "    </tr>\n",
       "    <tr>\n",
       "      <th>30</th>\n",
       "      <td>891637005</td>\n",
       "      <td>Spain</td>\n",
       "      <td>2017-10-30 15:22:00</td>\n",
       "      <td>2017-02-11 13:48:00</td>\n",
       "      <td>3783</td>\n",
       "      <td>67</td>\n",
       "      <td>gifts</td>\n",
       "      <td>other_type</td>\n",
       "    </tr>\n",
       "    <tr>\n",
       "      <th>255</th>\n",
       "      <td>891637005</td>\n",
       "      <td>Spain</td>\n",
       "      <td>2017-10-30 15:22:00</td>\n",
       "      <td>2017-02-11 13:48:00</td>\n",
       "      <td>6305</td>\n",
       "      <td>19</td>\n",
       "      <td>gifts</td>\n",
       "      <td>coins</td>\n",
       "    </tr>\n",
       "    <tr>\n",
       "      <th>209</th>\n",
       "      <td>891637005</td>\n",
       "      <td>Spain</td>\n",
       "      <td>2017-10-30 15:22:00</td>\n",
       "      <td>2017-10-30 15:48:00</td>\n",
       "      <td>3783</td>\n",
       "      <td>67</td>\n",
       "      <td>menu</td>\n",
       "      <td>other_type</td>\n",
       "    </tr>\n",
       "    <tr>\n",
       "      <th>167</th>\n",
       "      <td>891637005</td>\n",
       "      <td>Spain</td>\n",
       "      <td>2017-10-30 15:22:00</td>\n",
       "      <td>2017-10-30 15:53:00</td>\n",
       "      <td>1261</td>\n",
       "      <td>19</td>\n",
       "      <td>gifts</td>\n",
       "      <td>coins</td>\n",
       "    </tr>\n",
       "    <tr>\n",
       "      <th>161</th>\n",
       "      <td>891637005</td>\n",
       "      <td>Spain</td>\n",
       "      <td>2017-10-30 15:22:00</td>\n",
       "      <td>2017-10-30 15:57:00</td>\n",
       "      <td>1261</td>\n",
       "      <td>19</td>\n",
       "      <td>autorefill</td>\n",
       "      <td>coins</td>\n",
       "    </tr>\n",
       "    <tr>\n",
       "      <th>82</th>\n",
       "      <td>891637005</td>\n",
       "      <td>Spain</td>\n",
       "      <td>2017-10-30 15:22:00</td>\n",
       "      <td>2017-10-30 15:59:00</td>\n",
       "      <td>1261</td>\n",
       "      <td>19</td>\n",
       "      <td>autorefill</td>\n",
       "      <td>coins</td>\n",
       "    </tr>\n",
       "    <tr>\n",
       "      <th>271</th>\n",
       "      <td>891637005</td>\n",
       "      <td>Spain</td>\n",
       "      <td>2017-10-30 15:22:00</td>\n",
       "      <td>2017-10-30 16:00:00</td>\n",
       "      <td>1261</td>\n",
       "      <td>19</td>\n",
       "      <td>autorefill</td>\n",
       "      <td>coins</td>\n",
       "    </tr>\n",
       "    <tr>\n",
       "      <th>166</th>\n",
       "      <td>891637005</td>\n",
       "      <td>Spain</td>\n",
       "      <td>2017-10-30 15:22:00</td>\n",
       "      <td>2017-10-30 16:08:00</td>\n",
       "      <td>1261</td>\n",
       "      <td>19</td>\n",
       "      <td>autorefill</td>\n",
       "      <td>coins</td>\n",
       "    </tr>\n",
       "    <tr>\n",
       "      <th>23</th>\n",
       "      <td>891637005</td>\n",
       "      <td>Spain</td>\n",
       "      <td>2017-10-30 15:22:00</td>\n",
       "      <td>2017-10-30 16:18:00</td>\n",
       "      <td>1261</td>\n",
       "      <td>19</td>\n",
       "      <td>autorefill</td>\n",
       "      <td>coins</td>\n",
       "    </tr>\n",
       "  </tbody>\n",
       "</table>\n",
       "</div>"
      ],
      "text/plain": [
       "           uid country           joined_at             paid_at  revenue  \\\n",
       "292  891637005   Spain 2017-10-30 15:22:00 2017-02-11 13:38:00     6292   \n",
       "279  891637005   Spain 2017-10-30 15:22:00 2017-02-11 13:39:00     6396   \n",
       "30   891637005   Spain 2017-10-30 15:22:00 2017-02-11 13:48:00     3783   \n",
       "255  891637005   Spain 2017-10-30 15:22:00 2017-02-11 13:48:00     6305   \n",
       "209  891637005   Spain 2017-10-30 15:22:00 2017-10-30 15:48:00     3783   \n",
       "167  891637005   Spain 2017-10-30 15:22:00 2017-10-30 15:53:00     1261   \n",
       "161  891637005   Spain 2017-10-30 15:22:00 2017-10-30 15:57:00     1261   \n",
       "82   891637005   Spain 2017-10-30 15:22:00 2017-10-30 15:59:00     1261   \n",
       "271  891637005   Spain 2017-10-30 15:22:00 2017-10-30 16:00:00     1261   \n",
       "166  891637005   Spain 2017-10-30 15:22:00 2017-10-30 16:08:00     1261   \n",
       "23   891637005   Spain 2017-10-30 15:22:00 2017-10-30 16:18:00     1261   \n",
       "\n",
       "     payment_id          from_page      product_type  \n",
       "292         147  left_sidebar_menu  premium_no_trial  \n",
       "279         147  left_sidebar_menu  premium_no_trial  \n",
       "30           67              gifts        other_type  \n",
       "255          19              gifts             coins  \n",
       "209          67               menu        other_type  \n",
       "167          19              gifts             coins  \n",
       "161          19         autorefill             coins  \n",
       "82           19         autorefill             coins  \n",
       "271          19         autorefill             coins  \n",
       "166          19         autorefill             coins  \n",
       "23           19         autorefill             coins  "
      ]
     },
     "execution_count": 47,
     "metadata": {},
     "output_type": "execute_result"
    }
   ],
   "source": [
    "# замечаем что есть ряд идентичных строк - аналогичная проблема выявленная ранее\n",
    "o2_order = transactions_control_2.query('uid == 891637005 ')\n",
    "o2_order.sort_values(\"paid_at\")"
   ]
  },
  {
   "cell_type": "code",
   "execution_count": 48,
   "metadata": {},
   "outputs": [
    {
     "data": {
      "text/plain": [
       "False    323\n",
       "True       5\n",
       "dtype: int64"
      ]
     },
     "execution_count": 48,
     "metadata": {},
     "output_type": "execute_result"
    }
   ],
   "source": [
    "transactions_control_2.duplicated().value_counts()"
   ]
  },
  {
   "cell_type": "code",
   "execution_count": 49,
   "metadata": {},
   "outputs": [],
   "source": [
    "# очистка\n",
    "transactions_control_2 = transactions_control_2.drop_duplicates()"
   ]
  },
  {
   "cell_type": "code",
   "execution_count": 50,
   "metadata": {},
   "outputs": [
    {
     "data": {
      "text/html": [
       "<div>\n",
       "<style scoped>\n",
       "    .dataframe tbody tr th:only-of-type {\n",
       "        vertical-align: middle;\n",
       "    }\n",
       "\n",
       "    .dataframe tbody tr th {\n",
       "        vertical-align: top;\n",
       "    }\n",
       "\n",
       "    .dataframe thead th {\n",
       "        text-align: right;\n",
       "    }\n",
       "</style>\n",
       "<table border=\"1\" class=\"dataframe\">\n",
       "  <thead>\n",
       "    <tr style=\"text-align: right;\">\n",
       "      <th></th>\n",
       "      <th>uid</th>\n",
       "      <th>revenue</th>\n",
       "      <th>payment_id</th>\n",
       "    </tr>\n",
       "  </thead>\n",
       "  <tbody>\n",
       "    <tr>\n",
       "      <th>count</th>\n",
       "      <td>3.230000e+02</td>\n",
       "      <td>323.000000</td>\n",
       "      <td>323.000000</td>\n",
       "    </tr>\n",
       "    <tr>\n",
       "      <th>mean</th>\n",
       "      <td>8.918091e+08</td>\n",
       "      <td>5907.111455</td>\n",
       "      <td>96.563467</td>\n",
       "    </tr>\n",
       "    <tr>\n",
       "      <th>std</th>\n",
       "      <td>3.822411e+05</td>\n",
       "      <td>6615.180325</td>\n",
       "      <td>57.024988</td>\n",
       "    </tr>\n",
       "    <tr>\n",
       "      <th>min</th>\n",
       "      <td>8.910681e+08</td>\n",
       "      <td>481.000000</td>\n",
       "      <td>0.000000</td>\n",
       "    </tr>\n",
       "    <tr>\n",
       "      <th>25%</th>\n",
       "      <td>8.915462e+08</td>\n",
       "      <td>2340.000000</td>\n",
       "      <td>19.000000</td>\n",
       "    </tr>\n",
       "    <tr>\n",
       "      <th>50%</th>\n",
       "      <td>8.918570e+08</td>\n",
       "      <td>4719.000000</td>\n",
       "      <td>146.000000</td>\n",
       "    </tr>\n",
       "    <tr>\n",
       "      <th>75%</th>\n",
       "      <td>8.921281e+08</td>\n",
       "      <td>6350.500000</td>\n",
       "      <td>147.000000</td>\n",
       "    </tr>\n",
       "    <tr>\n",
       "      <th>max</th>\n",
       "      <td>8.924388e+08</td>\n",
       "      <td>81796.000000</td>\n",
       "      <td>147.000000</td>\n",
       "    </tr>\n",
       "  </tbody>\n",
       "</table>\n",
       "</div>"
      ],
      "text/plain": [
       "                uid       revenue  payment_id\n",
       "count  3.230000e+02    323.000000  323.000000\n",
       "mean   8.918091e+08   5907.111455   96.563467\n",
       "std    3.822411e+05   6615.180325   57.024988\n",
       "min    8.910681e+08    481.000000    0.000000\n",
       "25%    8.915462e+08   2340.000000   19.000000\n",
       "50%    8.918570e+08   4719.000000  146.000000\n",
       "75%    8.921281e+08   6350.500000  147.000000\n",
       "max    8.924388e+08  81796.000000  147.000000"
      ]
     },
     "execution_count": 50,
     "metadata": {},
     "output_type": "execute_result"
    }
   ],
   "source": [
    "transactions_control_2.describe()"
   ]
  },
  {
   "cell_type": "code",
   "execution_count": 51,
   "metadata": {},
   "outputs": [
    {
     "data": {
      "text/plain": [
       "uid             0\n",
       "country         0\n",
       "joined_at       0\n",
       "paid_at         0\n",
       "revenue         0\n",
       "payment_id      0\n",
       "from_page       0\n",
       "product_type    0\n",
       "dtype: int64"
      ]
     },
     "execution_count": 51,
     "metadata": {},
     "output_type": "execute_result"
    }
   ],
   "source": [
    "# дополнительно проверим на наличие пустых значений\n",
    "transactions_control_2.isna().sum()"
   ]
  },
  {
   "cell_type": "markdown",
   "metadata": {},
   "source": [
    "## Итоги предобработки данных\n",
    "- Информация о пользователях в тестовой группе содержится корректно, все типы данных соответствуют ожидаемым, есть пустые значения по столбцам coins, visit_days, was_premium, is_premium. По данным столбцам это вполне может быть, так как монеты могут быть или нет, зависит от активности пользователя, аналогично и наличие или использование премиум подписки, дни когда пользователь был онлайн, также могут быть пустыми, так как пользователь мог скачать и забыть про данное приложение. Все пользователи уникальны и важные поля по ним заполнены. По первой таблице на первый взгляд вопросов не возникает. \n",
    "- Информация о транзакциях в тестовой группе содержится корректно, но были изменены типы данных по двум колонкам с датами. Также в ходе анализа транзакций было замечено, что уникальных всего 146 из 273, что говорит о том, что некоторые пользователи совершали две и более покупок. В дальнейшем следует обратить на это внимание. Также были обнаружены дубликаты, в размере 7 строк у ряда подозрительных пользователей, которые были удалены.\n",
    "- Информация о пользователях в группе А1 содержится корректно, есть поля которые не заполнены, но они также как и в группе Б поддаются объяснению аналогично, описанному ранее. По первому восприятию, возраст в группах А1 и Б похож, что может дать положительный сигнал о проведении теста.\n",
    "- Информация о транзакциях в группе А1 содержится с ошибками, типы данных частично нарушены, явное присутствие дубликатов и пропусков, большой разрыв между реальными пользователями и всем числом транзакций. Также сразу бросается факт объёма транзакций по сравнению с группой Б, 300+ против 250.\n",
    "- Информация о пользователях в группе А2 содержится корректно, пропущенные значения аналогичный предыдущим двум группам и поддаются логическому объяснению. По первому взгляду данные схожи с двумя другими группами, что может косвенно подтверждать о правильность эксперимента.\n",
    "- Информация о транзакциях в группе А2 содержится c аналогичными ошибками как и группа А1, которые были исправлены, также были обнаружены дубликаты и была проведена их очистка. Размерность данных на первый взгляд схожа с теми, которые были исследованы ранее.\n",
    "\n",
    "### Вывод: на первый взгляд структура, размерность, типы данных у групп А1, А2, B схожи. В процессе обработки были получены одинаковые ошибки в каждом датасете. На данном этапе можно предположить, что эксперимент мог быть проведен корректно, но есть множество вопросов по исходным данным и наличии большого числа различных аномалий. Поэтому для чистоты эксперимента, будут использованы исключительно очищенные данные - чтобы избежать ошибки, так как при наличии дубликатов они могут изменить метрики, что даст ложный результат. Но в дальнейшем будет произведена проверка с исходными значениями, чтобы убедиться, что целостность данных не была нарушена.\n"
   ]
  },
  {
   "cell_type": "markdown",
   "metadata": {},
   "source": [
    "# Проверка А/А теста\n",
    "\n",
    "Для проверки корректности проведения А/А/Б теста необходимо сначала проверить систему сплитирования которая основана на группах А1 и А2, которые в свою очередь составляют основу для А/А теста. Так как нас интересует в целом только полученная прибыль в ходе следующего эксперимента, то нужно сверить размерность данных, критерии двух групп и различия по выручке между ними. Выяснить на сколько они статистически различаются и в случае если различия между ними нет, то можно будет приступить к проверки самого эксперимента.\n",
    "1.\tОбъединение информации о клиентах и транзакциях. Так как в EDA не было прямой необходимости объединять, то сейчас будет произведено объединение информации и транзакции\n",
    "2.\tСравнение признаков и размерности. Поиск выбросов и аномалий, проверка статистических гипотез\n",
    "3.\tИспользование статистических методов для сравнения целевого показателя \"revenue\" между двумя выборками"
   ]
  },
  {
   "cell_type": "code",
   "execution_count": 52,
   "metadata": {},
   "outputs": [
    {
     "name": "stdout",
     "output_type": "stream",
     "text": [
      "Размерность информации о клиентах группы А1: (4340, 13)\n",
      "Размерность транзакций группы А1: (356, 8)\n",
      "--------------------------------------------------------------\n",
      "Размерность информации о клиентах группы А2: (4264, 13)\n",
      "Размерность транзакций группы А2: (323, 8)\n"
     ]
    }
   ],
   "source": [
    "print(\"Размерность информации о клиентах группы А1:\", users_control_1.shape)\n",
    "print(\"Размерность транзакций группы А1:\", transactions_control_1.shape)\n",
    "print(\"--------------------------------------------------------------\")\n",
    "print(\"Размерность информации о клиентах группы А2:\", users_control_2.shape)\n",
    "print(\"Размерность транзакций группы А2:\", transactions_control_2.shape)"
   ]
  },
  {
   "cell_type": "code",
   "execution_count": 53,
   "metadata": {},
   "outputs": [
    {
     "name": "stdout",
     "output_type": "stream",
     "text": [
      "A1: (356, 20)\n",
      "A1: (323, 20)\n"
     ]
    }
   ],
   "source": [
    "A1_frame = users_control_1.merge(transactions_control_1, how = 'right', on = 'uid')\n",
    "A2_frame = users_control_2.merge(transactions_control_2, how = 'right', on = 'uid')\n",
    "# проверим не потерялись ли какие транзакции при обьединении\n",
    "print(\"A1:\", A1_frame.shape)\n",
    "print(\"A1:\", A2_frame.shape)"
   ]
  },
  {
   "cell_type": "code",
   "execution_count": 54,
   "metadata": {},
   "outputs": [
    {
     "name": "stdout",
     "output_type": "stream",
     "text": [
      "A1: 193\n",
      "A2: 187\n"
     ]
    }
   ],
   "source": [
    "# количество уникальных пользователей по каждой группе - они немного разняться, но не критично.\n",
    "print(\"A1:\", A1_frame.uid.nunique())\n",
    "print(\"A2:\", A2_frame.uid.nunique())"
   ]
  },
  {
   "cell_type": "code",
   "execution_count": 55,
   "metadata": {},
   "outputs": [
    {
     "data": {
      "text/plain": [
       "United States of America          100\n",
       "Italy                              54\n",
       "France                             37\n",
       "United Kingdom (Great Britain)     30\n",
       "Argentina                          27\n",
       "Israel                             21\n",
       "Chile                              15\n",
       "Canada                             14\n",
       "Spain                              14\n",
       "United Arab Emirates               12\n",
       "Germany                             7\n",
       "Turkey                              6\n",
       "Belgium                             4\n",
       "Portugal                            4\n",
       "Australia                           3\n",
       "Russian Federation                  3\n",
       "Switzerland                         3\n",
       "India                               2\n",
       "Name: country_x, dtype: int64"
      ]
     },
     "execution_count": 55,
     "metadata": {},
     "output_type": "execute_result"
    }
   ],
   "source": [
    "# так как в условии есть четкое понятие что раскатили фичу на каких то странах, то нужно понять на каких и сколько их всего\n",
    "A1_frame.country_x.value_counts()"
   ]
  },
  {
   "cell_type": "code",
   "execution_count": 56,
   "metadata": {},
   "outputs": [
    {
     "data": {
      "text/plain": [
       "United States of America          105\n",
       "Italy                              31\n",
       "Spain                              25\n",
       "France                             23\n",
       "United Kingdom (Great Britain)     20\n",
       "Israel                             19\n",
       "Chile                              19\n",
       "Argentina                          18\n",
       "Belgium                            14\n",
       "Portugal                           11\n",
       "Germany                             7\n",
       "Canada                              6\n",
       "United Arab Emirates                6\n",
       "Switzerland                         5\n",
       "Turkey                              4\n",
       "Austria                             3\n",
       "Australia                           3\n",
       "Ukraine                             3\n",
       "Lithuania                           1\n",
       "Name: country_x, dtype: int64"
      ]
     },
     "execution_count": 56,
     "metadata": {},
     "output_type": "execute_result"
    }
   ],
   "source": [
    "# сразу можно заметить что страны отличаются, посмотрим более подробно\n",
    "A2_frame.country_x.value_counts()"
   ]
  },
  {
   "cell_type": "code",
   "execution_count": 57,
   "metadata": {},
   "outputs": [
    {
     "name": "stdout",
     "output_type": "stream",
     "text": [
      "Обработанные данные A1:  18\n",
      "Обработанные данные A2:  19\n"
     ]
    }
   ],
   "source": [
    "# количество уникальных стран по каждой группе - количество стран разное, так еще и в составе разные страны. \n",
    "# возможно значения были утрачены в процессе обработки как строки с Nan, для доставерности надо проверить это\n",
    "print(\"Обработанные данные A1: \", A1_frame.country_x.nunique())\n",
    "print(\"Обработанные данные A2: \", A2_frame.country_x.nunique())"
   ]
  },
  {
   "cell_type": "code",
   "execution_count": 107,
   "metadata": {},
   "outputs": [
    {
     "name": "stdout",
     "output_type": "stream",
     "text": [
      "Исходные данные без предобработки A1:  18\n",
      "Исходные данные без предобработки A2:  19\n"
     ]
    }
   ],
   "source": [
    "print(\"Исходные данные без предобработки A1: \", Copy_transactions_control_1.country.nunique())\n",
    "print(\"Исходные данные без предобработки A2: \", Copy_transactions_control_2.country.nunique())"
   ]
  },
  {
   "cell_type": "code",
   "execution_count": 59,
   "metadata": {},
   "outputs": [
    {
     "data": {
      "text/plain": [
       "1    352\n",
       "0      4\n",
       "Name: gender, dtype: int64"
      ]
     },
     "execution_count": 59,
     "metadata": {},
     "output_type": "execute_result"
    }
   ],
   "source": [
    "# так как в исходных данных присутсвует пол, то необходимо проверить соотнощение полов\n",
    "A1_frame.gender.value_counts()"
   ]
  },
  {
   "cell_type": "code",
   "execution_count": 60,
   "metadata": {},
   "outputs": [
    {
     "data": {
      "text/plain": [
       "1    316\n",
       "0      7\n",
       "Name: gender, dtype: int64"
      ]
     },
     "execution_count": 60,
     "metadata": {},
     "output_type": "execute_result"
    }
   ],
   "source": [
    "# из результатов видно неравенство между полами, но оно одинаково между группами А1, А2\n",
    "A2_frame.gender.value_counts()"
   ]
  },
  {
   "cell_type": "code",
   "execution_count": 108,
   "metadata": {},
   "outputs": [
    {
     "name": "stdout",
     "output_type": "stream",
     "text": [
      "Среднее значение выручки А1:  7007.876404494382\n",
      "Среднее значение выручки А2:  5907.111455108359\n"
     ]
    }
   ],
   "source": [
    "print(\"Среднее значение выручки А1: \", A1_frame.revenue.mean())\n",
    "print(\"Среднее значение выручки А2: \", A2_frame.revenue.mean())"
   ]
  },
  {
   "cell_type": "code",
   "execution_count": 62,
   "metadata": {},
   "outputs": [
    {
     "name": "stdout",
     "output_type": "stream",
     "text": [
      "Самая первая дата оплаты в А1:  2016-12-14 16:16:00\n",
      "Самая последня дата оплаты в А1:  2017-12-11 21:57:00\n"
     ]
    }
   ],
   "source": [
    "# посмотрим тогда и на даты начала эксперемента в группе А1 и группе А2 - Группа А1\n",
    "print (\"Самая первая дата оплаты в А1: \",A1_frame.paid_at.min())\n",
    "print (\"Самая последня дата оплаты в А1: \",A1_frame.paid_at.max())"
   ]
  },
  {
   "cell_type": "code",
   "execution_count": 63,
   "metadata": {},
   "outputs": [
    {
     "name": "stdout",
     "output_type": "stream",
     "text": [
      "Самая первая дата оплаты в А2:  2017-01-11 05:34:00\n",
      "Самая последня дата оплаты вА2:  2017-12-11 23:28:00\n"
     ]
    }
   ],
   "source": [
    "# дата начала эксперемента отличается, возможно стоит убрать данные из эксперемента, но пока не будет торопиться с этим\n",
    "# Группа А2\n",
    "print (\"Самая первая дата оплаты в А2: \",A2_frame.paid_at.min())\n",
    "print (\"Самая последня дата оплаты вА2: \",A2_frame.paid_at.max())"
   ]
  },
  {
   "cell_type": "code",
   "execution_count": 64,
   "metadata": {},
   "outputs": [
    {
     "data": {
      "text/plain": [
       "<matplotlib.axes._subplots.AxesSubplot at 0x7f9d95800f60>"
      ]
     },
     "execution_count": 64,
     "metadata": {},
     "output_type": "execute_result"
    },
    {
     "data": {
      "image/png": "[encoded data removed]",
      "text/plain": [
       "<Figure size 1080x504 with 1 Axes>"
      ]
     },
     "metadata": {
      "needs_background": "light"
     },
     "output_type": "display_data"
    }
   ],
   "source": [
    "# по диаграмме можно сказать, что распределение отличается от нормального, но проверим статистически\n",
    "# есть выбросы которые наглядно видно, но воспользуемся другими средства визуализации их\n",
    "fig = plt.figure(figsize = (15,7))\n",
    "A1_frame.revenue.hist()\n",
    "A2_frame.revenue.hist()"
   ]
  },
  {
   "cell_type": "code",
   "execution_count": 65,
   "metadata": {},
   "outputs": [
    {
     "name": "stdout",
     "output_type": "stream",
     "text": [
      "А1:  NormaltestResult(statistic=336.601384370965, pvalue=8.0898055592393e-74)\n",
      "А2:  NormaltestResult(statistic=455.8905262909609, pvalue=1.0107180925324292e-99)\n"
     ]
    }
   ],
   "source": [
    "#  p-val очень мал, это означает, что маловероятно, что данные получены из нормального распределения\n",
    "print(\"А1: \",scipy.stats.normaltest(A1_frame.revenue))\n",
    "print(\"А2: \",scipy.stats.normaltest(A2_frame.revenue))"
   ]
  },
  {
   "cell_type": "markdown",
   "metadata": {},
   "source": [
    "На графике есть выбросы и в дальнейшем они могут сильно изменить картину, есть несколько вариантов решения:\n",
    "    1. Использовать методы, которые устойчивы к выбросами \n",
    "    2. Удалять из выборок выбросы и использовать\n",
    "    Выборки и так содержат не так много значений после обработки, а выбросов окажется около 10-20 значений, прям сразу уменьшать выборку не очень хочется, поэтому используем первый вариант, при необходимости и наличии времени, проверим и второй вариант уже в отдельном файле для тестов, чтобы не занимать место тут."
   ]
  },
  {
   "cell_type": "code",
   "execution_count": 66,
   "metadata": {},
   "outputs": [
    {
     "data": {
      "text/plain": [
       "<matplotlib.axes._subplots.AxesSubplot at 0x7f9d93049080>"
      ]
     },
     "execution_count": 66,
     "metadata": {},
     "output_type": "execute_result"
    },
    {
     "data": {
      "image/png": "[encoded data removed]",
      "text/plain": [
       "<Figure size 1296x360 with 1 Axes>"
      ]
     },
     "metadata": {},
     "output_type": "display_data"
    }
   ],
   "source": [
    "# с помощью визуализации будет понятнее\n",
    "sns.set(rc={'figure.figsize':(18,5)})\n",
    "sns.boxplot(x = A1_frame['revenue'], medianprops={\"color\": \"red\"})"
   ]
  },
  {
   "cell_type": "code",
   "execution_count": 67,
   "metadata": {},
   "outputs": [
    {
     "data": {
      "text/plain": [
       "<matplotlib.axes._subplots.AxesSubplot at 0x7f9d93229fd0>"
      ]
     },
     "execution_count": 67,
     "metadata": {},
     "output_type": "execute_result"
    },
    {
     "data": {
      "image/png": "[encoded data removed]",
      "text/plain": [
       "<Figure size 1296x360 with 1 Axes>"
      ]
     },
     "metadata": {},
     "output_type": "display_data"
    }
   ],
   "source": [
    "sns.set(rc={'figure.figsize':(18,5)})\n",
    "sns.boxplot(x = A2_frame['revenue'], medianprops={\"color\": \"red\"})"
   ]
  },
  {
   "cell_type": "markdown",
   "metadata": {},
   "source": [
    "При аналитике данных, можно заметить, что было много \"неточностей\", но не проверить статистически распределения нельзя, поэтому проверим pvalue с помощью нескольких методов и сравним результаты, после чего сделаем выводы. Если распределение признака отличается от нормального как это сейчас видно, можно использовать непараметрический аналог – U-критерий Манна-Уитни. Он переводит все данные в ранговую шкалу, после этого считает какой средний ранг оказался в первой группе и какой во второй. Этот критерий менее чувствителен к экстремальным отклонениям от нормальности и наличию выбросов.\n",
    "Также стоит сразу обозначить что мы будем принимать, а что отклонять. Гипотеза H(0) - разница между А1 и А2 в разрезе \"revenue\" нет. Гипотеза H(1) - разница между А1 и А2 есть.\n",
    "Значение pvalue > 0,5 следовательно \"revenue\" не отличается значимо между группами А1 и А2, но нужно проверить еще, так как на практике показания одного теста могут значимо отличаться от другого для теста Манна-Уитн. \n",
    "\n",
    "Примечание: выбор метод был обоснвал чуть дальше в рамках вставленной фотографии-схемы\n"
   ]
  },
  {
   "cell_type": "code",
   "execution_count": 68,
   "metadata": {},
   "outputs": [
    {
     "data": {
      "text/plain": [
       "MannwhitneyuResult(statistic=61782.0, pvalue=0.0923730775121966)"
      ]
     },
     "execution_count": 68,
     "metadata": {},
     "output_type": "execute_result"
    }
   ],
   "source": [
    "mannwhitneyu(A1_frame.revenue, A2_frame.revenue )  "
   ]
  },
  {
   "cell_type": "code",
   "execution_count": 69,
   "metadata": {},
   "outputs": [
    {
     "data": {
      "application/vnd.jupyter.widget-view+json": {
       "model_id": "f606b01fbcd2470897d5d56f259990bf",
       "version_major": 2,
       "version_minor": 0
      },
      "text/plain": [
       "HBox(children=(FloatProgress(value=0.0, max=1000.0), HTML(value='')))"
      ]
     },
     "metadata": {},
     "output_type": "display_data"
    },
    {
     "name": "stdout",
     "output_type": "stream",
     "text": [
      "\n"
     ]
    },
    {
     "data": {
      "image/png": "[encoded data removed]",
      "text/plain": [
       "<Figure size 1296x360 with 1 Axes>"
      ]
     },
     "metadata": {},
     "output_type": "display_data"
    },
    {
     "data": {
      "text/plain": [
       "0.042"
      ]
     },
     "execution_count": 69,
     "metadata": {},
     "output_type": "execute_result"
    }
   ],
   "source": [
    "# для проверки качества сплитовалки считаем долю ложноположительных оценок (FPR): из графика видно, что есть области которые \n",
    "# равномерно распределены. Данный тест, позволяет сказать что сплитирование прошло успешно. \n",
    "# но в целом он не иделен, так как график все таки имеет наклон. \n",
    "\n",
    "n = 400\n",
    "simulations = 1000\n",
    "n_s = 20\n",
    "res = []\n",
    "\n",
    "# Запуск симуляций A/A теста\n",
    "for i in tqdm(range(simulations)):\n",
    "    s1 = A1_frame['revenue'].sample(n_s, replace = False).values\n",
    "    s2 = A2_frame['revenue'].sample(n_s, replace = False).values\n",
    "    res.append(stats.ttest_ind(s1, s2, equal_var = False)[1])\n",
    "\n",
    "plt.hist(res, bins = 50)\n",
    "plt.style.use('ggplot')\n",
    "plt.xlabel('pvalues')\n",
    "plt.ylabel('frequency')\n",
    "plt.title(\"Histogram of ttest A/A simulations \")\n",
    "plt.show()\n",
    "\n",
    "# Проверяем, что количество ложноположительных случаев не превышает альфа\n",
    "sum(np.array(res) <0.05) / simulations"
   ]
  },
  {
   "attachments": {
    "image.png": {
     "image/png": "[encoded data removed]"
    }
   },
   "cell_type": "markdown",
   "metadata": {},
   "source": [
    "![image.png](attachment:image.png)"
   ]
  },
  {
   "cell_type": "markdown",
   "metadata": {},
   "source": [
    "# Итоги А/А теста\n",
    "1.\tВыборки оказались не идеальными и имеют множество условностей начиная от размера, разными странами, довольно неоднозначным распределением полов и заканчивая выбросами в группах А1, А2. Также иммеется вопрос по датам начала эксперемента, но пока этот момент был опущен,в дальнейшем при проверки групп с В будет учтен.\n",
    "2.\tОбе группы и их распределения отличаются от нормального, это было видно и на графике, и с помощью значений теста. Поэтому это осложнило выбор методов сравнения ключевого показателя прибыли, который нас интересует\n",
    "3.\tИсходя из полученного ранее опыта то для проверка использовались два метода: FPR(который был описан в рамках курса) и непараметрический аналог – U-критерий Манна-Уитни. При изменении размера выборок и симуляций при использовании FPR - результаты были репрезентативны и однозначны. Выборки не имеют различий по выборки и А/А тест был проведен корректно.\n",
    "Примечание: тем не менее при верном теста, сам по себе он был сделан не очень качественно из-за данных, которые желательно должны были иметь меньше проблем.\n",
    "\n",
    "\n",
    "\n",
    "\n",
    "# Проверка А/А/B теста\n",
    "Так как система сплитирования прошла проверку, теперь нужно провести А/B тест и выявить различия между группами. Для этого поставим следующие задачи:\n",
    "1. Объединить тестовую группу(информацию и транзакции), посмотреть размерность и соотнести группы А/А/B\n",
    "2. Произвести аналогичный статистический анализ для группы B, является ли распределение нормальным, есть ли выбросы, какие группы стран и полов задействованы.\n",
    "3. Произвести поочередное сравнение групп A1/B и A2/B, затем проверить A1+A2/B, на основе чего сделать вывод, при наличии статистических различий произвести детальный анализ по категориям.\n"
   ]
  },
  {
   "attachments": {
    "image.png": {
     "image/png": "[encoded data removed]"
    }
   },
   "cell_type": "markdown",
   "metadata": {},
   "source": [
    "![image.png](attachment:image.png)"
   ]
  },
  {
   "cell_type": "code",
   "execution_count": 70,
   "metadata": {},
   "outputs": [
    {
     "data": {
      "text/plain": [
       "(266, 20)"
      ]
     },
     "execution_count": 70,
     "metadata": {},
     "output_type": "execute_result"
    }
   ],
   "source": [
    "# проверим размерность на возможность потерь\n",
    "B_frame = users_test.merge(transactions_test, how = 'right', on = 'uid')\n",
    "B_frame.shape"
   ]
  },
  {
   "cell_type": "code",
   "execution_count": 71,
   "metadata": {},
   "outputs": [
    {
     "name": "stdout",
     "output_type": "stream",
     "text": [
      "Сравнение А1/B: MannwhitneyuResult(statistic=40815.0, pvalue=0.003195927321978535)\n",
      "Сравнение А2/B: MannwhitneyuResult(statistic=34220.0, pvalue=2.0938846344776575e-05)\n"
     ]
    }
   ],
   "source": [
    "# В обоих случаях pvalue < 0, следовательно группы А1 и А2 так или иначе отличаются от B\n",
    "print(\"Сравнение А1/B:\",mannwhitneyu(A1_frame.revenue, B_frame.revenue))\n",
    "print(\"Сравнение А2/B:\",mannwhitneyu(A2_frame.revenue, B_frame.revenue))"
   ]
  },
  {
   "cell_type": "markdown",
   "metadata": {},
   "source": [
    "Бутстрап позволяет строить доверительный интервал для любого параметра распределения, не применяя для этого аналитическую формулу. Основное преимущество Бутстрапа — возможность проверять гипотезы для любых параметров распределения или модели: перцентилей, квантилей, децилей и т.п. Бутстрап проверяет статистические гипотезы без опоры на определённое теоретическое распределение данных (в отличие от классических статистических критериев). Бутстрап позволяет сделать оценку любого «сложного» параметра путём нахождения доверительных интервалов для него. А для проверки гипотез — путём вычисления их разницы."
   ]
  },
  {
   "cell_type": "code",
   "execution_count": 72,
   "metadata": {},
   "outputs": [],
   "source": [
    "def get_bootstrap(\n",
    "    data_column_1, # числовые значения первой выборки\n",
    "    data_column_2, # числовые значения второй выборки\n",
    "    boot_it = 1000, # количество бутстрэп-подвыборок\n",
    "    statistic = np.mean, # интересующая нас статистика\n",
    "    bootstrap_conf_level = 0.95 # уровень значимости\n",
    "):\n",
    "    boot_data = []\n",
    "    for i in tqdm(range(boot_it)): # извлекаем подвыборки\n",
    "        samples_1 = data_column_1.sample(\n",
    "            len(data_column_1), \n",
    "            replace = True # параметр возвращения\n",
    "        ).values\n",
    "        \n",
    "        samples_2 = data_column_2.sample(\n",
    "            len(data_column_1), \n",
    "            replace = True\n",
    "        ).values\n",
    "        \n",
    "        boot_data.append(statistic(samples_1)-statistic(samples_2)) # mean() - применяем статистику\n",
    "        \n",
    "    pd_boot_data = pd.DataFrame(boot_data)\n",
    "        \n",
    "    left_quant = (1 - bootstrap_conf_level)/2\n",
    "    right_quant = 1 - (1 - bootstrap_conf_level) / 2\n",
    "    quants = pd_boot_data.quantile([left_quant, right_quant])\n",
    "        \n",
    "    p_1 = norm.cdf(\n",
    "        x = 0, \n",
    "        loc = np.mean(boot_data), \n",
    "        scale = np.std(boot_data)\n",
    "    )\n",
    "    p_2 = norm.cdf(\n",
    "        x = 0, \n",
    "        loc = -np.mean(boot_data), \n",
    "        scale = np.std(boot_data)\n",
    "    )\n",
    "    p_value = min(p_1, p_2) * 2\n",
    "        \n",
    "    # Визуализация\n",
    "    _, _, bars = plt.hist(pd_boot_data[0], bins = 50)\n",
    "    for bar in bars:\n",
    "        if bar.get_x() <= quants.iloc[0][0] or bar.get_x() >= quants.iloc[1][0]:\n",
    "            bar.set_facecolor('red')\n",
    "        else: \n",
    "            bar.set_facecolor('grey')\n",
    "            bar.set_edgecolor('black')\n",
    "    \n",
    "    plt.style.use('ggplot')\n",
    "    plt.vlines(quants,ymin=0,ymax=50,linestyle='--')\n",
    "    plt.xlabel('boot_data')\n",
    "    plt.ylabel('frequency')\n",
    "    plt.title(\"Histogram of boot_data\")\n",
    "    plt.show()\n",
    "       \n",
    "    return {\"boot_data\": boot_data, \n",
    "            \"quants\": quants, \n",
    "            \"p_value\": p_value}"
   ]
  },
  {
   "cell_type": "code",
   "execution_count": 73,
   "metadata": {},
   "outputs": [
    {
     "data": {
      "application/vnd.jupyter.widget-view+json": {
       "model_id": "9b73754803ff485ead7c5cd264d85843",
       "version_major": 2,
       "version_minor": 0
      },
      "text/plain": [
       "HBox(children=(FloatProgress(value=0.0, max=1000.0), HTML(value='')))"
      ]
     },
     "metadata": {},
     "output_type": "display_data"
    },
    {
     "name": "stdout",
     "output_type": "stream",
     "text": [
      "\n"
     ]
    },
    {
     "data": {
      "image/png": "[encoded data removed]",
      "text/plain": [
       "<Figure size 1296x360 with 1 Axes>"
      ]
     },
     "metadata": {},
     "output_type": "display_data"
    }
   ],
   "source": [
    "booted_data = get_bootstrap(A1_frame.revenue,B_frame.revenue) # в результате хранится разница двух распределений, ДИ и pvalue"
   ]
  },
  {
   "cell_type": "code",
   "execution_count": 74,
   "metadata": {},
   "outputs": [
    {
     "name": "stdout",
     "output_type": "stream",
     "text": [
      "p-value: 0.012444611525024423\n"
     ]
    }
   ],
   "source": [
    "print(\"p-value:\",booted_data[\"p_value\"]) # альфа"
   ]
  },
  {
   "cell_type": "code",
   "execution_count": 75,
   "metadata": {},
   "outputs": [
    {
     "data": {
      "application/vnd.jupyter.widget-view+json": {
       "model_id": "726c4e2534b24e23b57dc8908f47a5c7",
       "version_major": 2,
       "version_minor": 0
      },
      "text/plain": [
       "HBox(children=(FloatProgress(value=0.0, max=1000.0), HTML(value='')))"
      ]
     },
     "metadata": {},
     "output_type": "display_data"
    },
    {
     "name": "stdout",
     "output_type": "stream",
     "text": [
      "\n"
     ]
    },
    {
     "data": {
      "image/png": "[encoded data removed]",
      "text/plain": [
       "<Figure size 1296x360 with 1 Axes>"
      ]
     },
     "metadata": {},
     "output_type": "display_data"
    }
   ],
   "source": [
    "booted_data2 = get_bootstrap(A2_frame.revenue, B_frame.revenue)"
   ]
  },
  {
   "cell_type": "code",
   "execution_count": 76,
   "metadata": {},
   "outputs": [
    {
     "name": "stdout",
     "output_type": "stream",
     "text": [
      "p-value: 0.00012408992323986262\n"
     ]
    }
   ],
   "source": [
    "print(\"p-value:\",booted_data2[\"p_value\"]) # альфа"
   ]
  },
  {
   "cell_type": "code",
   "execution_count": 77,
   "metadata": {},
   "outputs": [],
   "source": [
    "# для достоверности проверим еще А1 + А2/B\n",
    "А1_rev, А2_rev  = A1_frame.revenue.to_frame(), A2_frame.revenue.to_frame() \n",
    "# сделаем общий столбец по \"revenue\"\n",
    "А12_rev = pd.concat([А1_rev, А2_rev], ignore_index=True)"
   ]
  },
  {
   "cell_type": "code",
   "execution_count": 78,
   "metadata": {},
   "outputs": [
    {
     "name": "stdout",
     "output_type": "stream",
     "text": [
      "Сравнение А1/А2/B: MannwhitneyuResult(statistic=75035.0, pvalue=5.0927830386404524e-05)\n"
     ]
    }
   ],
   "source": [
    "print(\"Сравнение А1/А2/B:\",mannwhitneyu(А12_rev.revenue, B_frame.revenue))"
   ]
  },
  {
   "cell_type": "code",
   "execution_count": 79,
   "metadata": {},
   "outputs": [
    {
     "data": {
      "application/vnd.jupyter.widget-view+json": {
       "model_id": "6dfb976ae9a54eac9d58fd3fe8f5fdb3",
       "version_major": 2,
       "version_minor": 0
      },
      "text/plain": [
       "HBox(children=(FloatProgress(value=0.0, max=1000.0), HTML(value='')))"
      ]
     },
     "metadata": {},
     "output_type": "display_data"
    },
    {
     "name": "stdout",
     "output_type": "stream",
     "text": [
      "\n"
     ]
    },
    {
     "data": {
      "image/png": "[encoded data removed]",
      "text/plain": [
       "<Figure size 1296x360 with 1 Axes>"
      ]
     },
     "metadata": {},
     "output_type": "display_data"
    }
   ],
   "source": [
    "booted_data_all = get_bootstrap(А12_rev.revenue, B_frame.revenue)"
   ]
  },
  {
   "cell_type": "code",
   "execution_count": 80,
   "metadata": {},
   "outputs": [
    {
     "name": "stdout",
     "output_type": "stream",
     "text": [
      "p-value: 1.1024743893693459e-05\n"
     ]
    }
   ],
   "source": [
    "print(\"p-value:\", booted_data_all[\"p_value\"]) # альфа"
   ]
  },
  {
   "cell_type": "markdown",
   "metadata": {},
   "source": [
    "# Итоги проверки А/А/B теста\n",
    "В ходе проверки можно сделать вывод что тестирование прошло успешно и действительно между контрольными и тестовой группой есть значимые статистические различия. Стоит отметить, что в ходе поочередного значения одна группа показала большее отличие чем другая контрольная выборка. Группа А2 имеет более явные выраженные отличия, чем группа А1, в дальнейшем и будет ее использовать для анализа. В ходе проверки были использованы следующие методы: непараметрический аналог – U-критерий Манна-Уитни и бустрап, так как исходя из полученных ранее знаний с опорой на предложенную выше схему, они наиболее оптимально подходят для выполнения поставленной задачи. Выделим результаты:\n",
    "Выделим результаты:\n",
    " - U-критерий Манна-Уитни: \n",
    "         Сравнение А1/B: pvalue=0.003195927321978535\n",
    "         Сравнение А2/B: pvalue=2.0938846344776575e-05\n",
    "         Сравнение А1+А2/B: pvalue=5.0927830386404524e-05\n",
    "   pvalue < 0, следовательно группы А1 и А2 отличаются от B\n",
    " - Бутстрап: \n",
    "         Сравнение А1/B: p-value: 0.013190376173479958\n",
    "         Сравнение А2/B: p-value: 5.817130407183957e-05\n",
    "         Сравнение А1+А2/B: p-value: 6.7741855302845956e-06\n",
    "   pvalue > 0, следовательно группы А1 и А2 отличаются от B\n",
    "\n",
    "# Поиск изменений в группах  А/А/B теста\n",
    "Так как тест прошел успешно, следует провести анализ, в каких сегментах пользователей есть значимые отличия. В качестве первоначальных идей для анализа можно разделить пользователей на сегменты(кроме пола, так как преимущество в данных один пол и просто не имеет смысла искать разницу по полам) а вот использовать страны и возраст и различе параметры аккаунта вполне можно. \n",
    "1. Провести  сравнения по странам(просуммировать прибыль по странам до и после, в какой стране прирост или убыток изменился больше всего\n",
    "2. Разделить пользователей на возрастные группы, так как отслеживать каждый возраст слишком трудозатратно, например взять по 10–15  лет разницу как новое поколение\n",
    "3. Так как ранее параметры аккаунта типо монет, подписок не были рассмотрены, то следует более детально посмотреть, где и как значимо отличаются результаты.\n"
   ]
  },
  {
   "cell_type": "code",
   "execution_count": 81,
   "metadata": {},
   "outputs": [
    {
     "data": {
      "text/html": [
       "<div>\n",
       "<style scoped>\n",
       "    .dataframe tbody tr th:only-of-type {\n",
       "        vertical-align: middle;\n",
       "    }\n",
       "\n",
       "    .dataframe tbody tr th {\n",
       "        vertical-align: top;\n",
       "    }\n",
       "\n",
       "    .dataframe thead th {\n",
       "        text-align: right;\n",
       "    }\n",
       "</style>\n",
       "<table border=\"1\" class=\"dataframe\">\n",
       "  <thead>\n",
       "    <tr style=\"text-align: right;\">\n",
       "      <th></th>\n",
       "      <th>uid</th>\n",
       "      <th>age</th>\n",
       "      <th>attraction_coeff</th>\n",
       "      <th>coins</th>\n",
       "      <th>country_x</th>\n",
       "      <th>visit_days</th>\n",
       "      <th>gender</th>\n",
       "      <th>age_filter_start</th>\n",
       "      <th>age_filter_end</th>\n",
       "      <th>views_count</th>\n",
       "      <th>was_premium</th>\n",
       "      <th>is_premium</th>\n",
       "      <th>total_revenue</th>\n",
       "      <th>country_y</th>\n",
       "      <th>joined_at</th>\n",
       "      <th>paid_at</th>\n",
       "      <th>revenue</th>\n",
       "      <th>payment_id</th>\n",
       "      <th>from_page</th>\n",
       "      <th>product_type</th>\n",
       "    </tr>\n",
       "  </thead>\n",
       "  <tbody>\n",
       "    <tr>\n",
       "      <th>0</th>\n",
       "      <td>891345942</td>\n",
       "      <td>52</td>\n",
       "      <td>209</td>\n",
       "      <td>NaN</td>\n",
       "      <td>Italy</td>\n",
       "      <td>1,2,3,4,5,6,8,10</td>\n",
       "      <td>1</td>\n",
       "      <td>49</td>\n",
       "      <td>55</td>\n",
       "      <td>43</td>\n",
       "      <td>1.0</td>\n",
       "      <td>1.0</td>\n",
       "      <td>12909</td>\n",
       "      <td>Italy</td>\n",
       "      <td>2017-05-11 13:00:00</td>\n",
       "      <td>2017-11-13 15:04:00</td>\n",
       "      <td>12909</td>\n",
       "      <td>147</td>\n",
       "      <td>trial_vip_popup</td>\n",
       "      <td>trial_premium</td>\n",
       "    </tr>\n",
       "    <tr>\n",
       "      <th>1</th>\n",
       "      <td>892054251</td>\n",
       "      <td>37</td>\n",
       "      <td>390</td>\n",
       "      <td>NaN</td>\n",
       "      <td>United States of America</td>\n",
       "      <td>1,2,3,4,6,7</td>\n",
       "      <td>1</td>\n",
       "      <td>34</td>\n",
       "      <td>40</td>\n",
       "      <td>64</td>\n",
       "      <td>1.0</td>\n",
       "      <td>1.0</td>\n",
       "      <td>13923</td>\n",
       "      <td>United States of America</td>\n",
       "      <td>2017-10-22 00:33:00</td>\n",
       "      <td>2017-10-30 01:37:00</td>\n",
       "      <td>13923</td>\n",
       "      <td>147</td>\n",
       "      <td>trial_vip_popup</td>\n",
       "      <td>trial_premium</td>\n",
       "    </tr>\n",
       "    <tr>\n",
       "      <th>2</th>\n",
       "      <td>892236423</td>\n",
       "      <td>23</td>\n",
       "      <td>262</td>\n",
       "      <td>378.0</td>\n",
       "      <td>United States of America</td>\n",
       "      <td>1,2,3,4,5,6,7,8,9,10,11,12,13,14,15,16,17,18,1...</td>\n",
       "      <td>1</td>\n",
       "      <td>19</td>\n",
       "      <td>23</td>\n",
       "      <td>1326</td>\n",
       "      <td>1.0</td>\n",
       "      <td>1.0</td>\n",
       "      <td>95823</td>\n",
       "      <td>United States of America</td>\n",
       "      <td>2017-10-18 01:09:00</td>\n",
       "      <td>2017-10-23 00:15:00</td>\n",
       "      <td>3783</td>\n",
       "      <td>67</td>\n",
       "      <td>menu</td>\n",
       "      <td>other_type</td>\n",
       "    </tr>\n",
       "  </tbody>\n",
       "</table>\n",
       "</div>"
      ],
      "text/plain": [
       "         uid  age  attraction_coeff  coins                 country_x  \\\n",
       "0  891345942   52               209    NaN                     Italy   \n",
       "1  892054251   37               390    NaN  United States of America   \n",
       "2  892236423   23               262  378.0  United States of America   \n",
       "\n",
       "                                          visit_days  gender  \\\n",
       "0                                   1,2,3,4,5,6,8,10       1   \n",
       "1                                        1,2,3,4,6,7       1   \n",
       "2  1,2,3,4,5,6,7,8,9,10,11,12,13,14,15,16,17,18,1...       1   \n",
       "\n",
       "   age_filter_start  age_filter_end  views_count  was_premium  is_premium  \\\n",
       "0                49              55           43          1.0         1.0   \n",
       "1                34              40           64          1.0         1.0   \n",
       "2                19              23         1326          1.0         1.0   \n",
       "\n",
       "   total_revenue                 country_y           joined_at  \\\n",
       "0          12909                     Italy 2017-05-11 13:00:00   \n",
       "1          13923  United States of America 2017-10-22 00:33:00   \n",
       "2          95823  United States of America 2017-10-18 01:09:00   \n",
       "\n",
       "              paid_at  revenue  payment_id        from_page   product_type  \n",
       "0 2017-11-13 15:04:00    12909         147  trial_vip_popup  trial_premium  \n",
       "1 2017-10-30 01:37:00    13923         147  trial_vip_popup  trial_premium  \n",
       "2 2017-10-23 00:15:00     3783          67             menu     other_type  "
      ]
     },
     "execution_count": 81,
     "metadata": {},
     "output_type": "execute_result"
    }
   ],
   "source": [
    "# взглянем еще раз на данные\n",
    "B_frame.head(3)"
   ]
  },
  {
   "cell_type": "code",
   "execution_count": 82,
   "metadata": {},
   "outputs": [
    {
     "data": {
      "text/html": [
       "<div>\n",
       "<style scoped>\n",
       "    .dataframe tbody tr th:only-of-type {\n",
       "        vertical-align: middle;\n",
       "    }\n",
       "\n",
       "    .dataframe tbody tr th {\n",
       "        vertical-align: top;\n",
       "    }\n",
       "\n",
       "    .dataframe thead th {\n",
       "        text-align: right;\n",
       "    }\n",
       "</style>\n",
       "<table border=\"1\" class=\"dataframe\">\n",
       "  <thead>\n",
       "    <tr style=\"text-align: right;\">\n",
       "      <th></th>\n",
       "      <th>uid</th>\n",
       "      <th>age</th>\n",
       "      <th>attraction_coeff</th>\n",
       "      <th>coins</th>\n",
       "      <th>country_x</th>\n",
       "      <th>visit_days</th>\n",
       "      <th>gender</th>\n",
       "      <th>age_filter_start</th>\n",
       "      <th>age_filter_end</th>\n",
       "      <th>views_count</th>\n",
       "      <th>was_premium</th>\n",
       "      <th>is_premium</th>\n",
       "      <th>total_revenue</th>\n",
       "      <th>country_y</th>\n",
       "      <th>joined_at</th>\n",
       "      <th>paid_at</th>\n",
       "      <th>revenue</th>\n",
       "      <th>payment_id</th>\n",
       "      <th>from_page</th>\n",
       "      <th>product_type</th>\n",
       "    </tr>\n",
       "  </thead>\n",
       "  <tbody>\n",
       "    <tr>\n",
       "      <th>0</th>\n",
       "      <td>891319275</td>\n",
       "      <td>27</td>\n",
       "      <td>0</td>\n",
       "      <td>NaN</td>\n",
       "      <td>France</td>\n",
       "      <td>1,2,3</td>\n",
       "      <td>1</td>\n",
       "      <td>24</td>\n",
       "      <td>30</td>\n",
       "      <td>2</td>\n",
       "      <td>1.0</td>\n",
       "      <td>1.0</td>\n",
       "      <td>13455</td>\n",
       "      <td>France</td>\n",
       "      <td>2017-05-11 19:57:00</td>\n",
       "      <td>2017-12-11 21:57:00</td>\n",
       "      <td>12727.0</td>\n",
       "      <td>147.0</td>\n",
       "      <td>trial_vip_popup</td>\n",
       "      <td>trial_premium</td>\n",
       "    </tr>\n",
       "    <tr>\n",
       "      <th>1</th>\n",
       "      <td>891319275</td>\n",
       "      <td>27</td>\n",
       "      <td>0</td>\n",
       "      <td>NaN</td>\n",
       "      <td>France</td>\n",
       "      <td>1,2,3</td>\n",
       "      <td>1</td>\n",
       "      <td>24</td>\n",
       "      <td>30</td>\n",
       "      <td>2</td>\n",
       "      <td>1.0</td>\n",
       "      <td>1.0</td>\n",
       "      <td>13455</td>\n",
       "      <td>France</td>\n",
       "      <td>2017-05-11 19:57:00</td>\n",
       "      <td>2017-05-11 20:05:00</td>\n",
       "      <td>728.0</td>\n",
       "      <td>146.0</td>\n",
       "      <td>ad_to_photo</td>\n",
       "      <td>coins</td>\n",
       "    </tr>\n",
       "    <tr>\n",
       "      <th>2</th>\n",
       "      <td>892421826</td>\n",
       "      <td>31</td>\n",
       "      <td>43</td>\n",
       "      <td>NaN</td>\n",
       "      <td>Israel</td>\n",
       "      <td>1,2,4,6,7,10,11,12,13,14,15,17,18,19,20,21,22,...</td>\n",
       "      <td>1</td>\n",
       "      <td>28</td>\n",
       "      <td>34</td>\n",
       "      <td>69</td>\n",
       "      <td>1.0</td>\n",
       "      <td>1.0</td>\n",
       "      <td>14586</td>\n",
       "      <td>Israel</td>\n",
       "      <td>2017-10-14 12:46:00</td>\n",
       "      <td>2017-10-23 12:54:00</td>\n",
       "      <td>14586.0</td>\n",
       "      <td>147.0</td>\n",
       "      <td>trial_vip_popup</td>\n",
       "      <td>trial_premium</td>\n",
       "    </tr>\n",
       "  </tbody>\n",
       "</table>\n",
       "</div>"
      ],
      "text/plain": [
       "         uid  age  attraction_coeff  coins country_x  \\\n",
       "0  891319275   27                 0    NaN    France   \n",
       "1  891319275   27                 0    NaN    France   \n",
       "2  892421826   31                43    NaN    Israel   \n",
       "\n",
       "                                          visit_days  gender  \\\n",
       "0                                              1,2,3       1   \n",
       "1                                              1,2,3       1   \n",
       "2  1,2,4,6,7,10,11,12,13,14,15,17,18,19,20,21,22,...       1   \n",
       "\n",
       "   age_filter_start  age_filter_end  views_count  was_premium  is_premium  \\\n",
       "0                24              30            2          1.0         1.0   \n",
       "1                24              30            2          1.0         1.0   \n",
       "2                28              34           69          1.0         1.0   \n",
       "\n",
       "   total_revenue country_y           joined_at             paid_at  revenue  \\\n",
       "0          13455    France 2017-05-11 19:57:00 2017-12-11 21:57:00  12727.0   \n",
       "1          13455    France 2017-05-11 19:57:00 2017-05-11 20:05:00    728.0   \n",
       "2          14586    Israel 2017-10-14 12:46:00 2017-10-23 12:54:00  14586.0   \n",
       "\n",
       "   payment_id        from_page   product_type  \n",
       "0       147.0  trial_vip_popup  trial_premium  \n",
       "1       146.0      ad_to_photo          coins  \n",
       "2       147.0  trial_vip_popup  trial_premium  "
      ]
     },
     "execution_count": 82,
     "metadata": {},
     "output_type": "execute_result"
    }
   ],
   "source": [
    "A1_frame.head(3)"
   ]
  },
  {
   "cell_type": "code",
   "execution_count": 83,
   "metadata": {},
   "outputs": [
    {
     "data": {
      "text/html": [
       "<div>\n",
       "<style scoped>\n",
       "    .dataframe tbody tr th:only-of-type {\n",
       "        vertical-align: middle;\n",
       "    }\n",
       "\n",
       "    .dataframe tbody tr th {\n",
       "        vertical-align: top;\n",
       "    }\n",
       "\n",
       "    .dataframe thead th {\n",
       "        text-align: right;\n",
       "    }\n",
       "</style>\n",
       "<table border=\"1\" class=\"dataframe\">\n",
       "  <thead>\n",
       "    <tr style=\"text-align: right;\">\n",
       "      <th></th>\n",
       "      <th>uid</th>\n",
       "      <th>age</th>\n",
       "      <th>attraction_coeff</th>\n",
       "      <th>coins</th>\n",
       "      <th>country_x</th>\n",
       "      <th>visit_days</th>\n",
       "      <th>gender</th>\n",
       "      <th>age_filter_start</th>\n",
       "      <th>age_filter_end</th>\n",
       "      <th>views_count</th>\n",
       "      <th>was_premium</th>\n",
       "      <th>is_premium</th>\n",
       "      <th>total_revenue</th>\n",
       "      <th>country_y</th>\n",
       "      <th>joined_at</th>\n",
       "      <th>paid_at</th>\n",
       "      <th>revenue</th>\n",
       "      <th>payment_id</th>\n",
       "      <th>from_page</th>\n",
       "      <th>product_type</th>\n",
       "    </tr>\n",
       "  </thead>\n",
       "  <tbody>\n",
       "    <tr>\n",
       "      <th>0</th>\n",
       "      <td>891266616</td>\n",
       "      <td>28</td>\n",
       "      <td>229</td>\n",
       "      <td>6.0</td>\n",
       "      <td>Argentina</td>\n",
       "      <td>1,2,3,4,5,6,7,8,9</td>\n",
       "      <td>1</td>\n",
       "      <td>18</td>\n",
       "      <td>45</td>\n",
       "      <td>48</td>\n",
       "      <td>1.0</td>\n",
       "      <td>1.0</td>\n",
       "      <td>18902</td>\n",
       "      <td>Argentina</td>\n",
       "      <td>2017-06-11 15:25:00</td>\n",
       "      <td>2017-10-11 17:35:00</td>\n",
       "      <td>6305</td>\n",
       "      <td>19</td>\n",
       "      <td>autorefill</td>\n",
       "      <td>coins</td>\n",
       "    </tr>\n",
       "    <tr>\n",
       "      <th>1</th>\n",
       "      <td>891266616</td>\n",
       "      <td>28</td>\n",
       "      <td>229</td>\n",
       "      <td>6.0</td>\n",
       "      <td>Argentina</td>\n",
       "      <td>1,2,3,4,5,6,7,8,9</td>\n",
       "      <td>1</td>\n",
       "      <td>18</td>\n",
       "      <td>45</td>\n",
       "      <td>48</td>\n",
       "      <td>1.0</td>\n",
       "      <td>1.0</td>\n",
       "      <td>18902</td>\n",
       "      <td>Argentina</td>\n",
       "      <td>2017-06-11 15:25:00</td>\n",
       "      <td>2017-08-11 05:22:00</td>\n",
       "      <td>6305</td>\n",
       "      <td>19</td>\n",
       "      <td>empty_likes</td>\n",
       "      <td>coins</td>\n",
       "    </tr>\n",
       "    <tr>\n",
       "      <th>2</th>\n",
       "      <td>891266616</td>\n",
       "      <td>28</td>\n",
       "      <td>229</td>\n",
       "      <td>6.0</td>\n",
       "      <td>Argentina</td>\n",
       "      <td>1,2,3,4,5,6,7,8,9</td>\n",
       "      <td>1</td>\n",
       "      <td>18</td>\n",
       "      <td>45</td>\n",
       "      <td>48</td>\n",
       "      <td>1.0</td>\n",
       "      <td>1.0</td>\n",
       "      <td>18902</td>\n",
       "      <td>Argentina</td>\n",
       "      <td>2017-06-11 15:25:00</td>\n",
       "      <td>2017-07-11 00:08:00</td>\n",
       "      <td>6292</td>\n",
       "      <td>147</td>\n",
       "      <td>promo_09</td>\n",
       "      <td>premium_no_trial</td>\n",
       "    </tr>\n",
       "  </tbody>\n",
       "</table>\n",
       "</div>"
      ],
      "text/plain": [
       "         uid  age  attraction_coeff  coins  country_x         visit_days  \\\n",
       "0  891266616   28               229    6.0  Argentina  1,2,3,4,5,6,7,8,9   \n",
       "1  891266616   28               229    6.0  Argentina  1,2,3,4,5,6,7,8,9   \n",
       "2  891266616   28               229    6.0  Argentina  1,2,3,4,5,6,7,8,9   \n",
       "\n",
       "   gender  age_filter_start  age_filter_end  views_count  was_premium  \\\n",
       "0       1                18              45           48          1.0   \n",
       "1       1                18              45           48          1.0   \n",
       "2       1                18              45           48          1.0   \n",
       "\n",
       "   is_premium  total_revenue  country_y           joined_at  \\\n",
       "0         1.0          18902  Argentina 2017-06-11 15:25:00   \n",
       "1         1.0          18902  Argentina 2017-06-11 15:25:00   \n",
       "2         1.0          18902  Argentina 2017-06-11 15:25:00   \n",
       "\n",
       "              paid_at  revenue  payment_id    from_page      product_type  \n",
       "0 2017-10-11 17:35:00     6305          19   autorefill             coins  \n",
       "1 2017-08-11 05:22:00     6305          19  empty_likes             coins  \n",
       "2 2017-07-11 00:08:00     6292         147     promo_09  premium_no_trial  "
      ]
     },
     "execution_count": 83,
     "metadata": {},
     "output_type": "execute_result"
    }
   ],
   "source": [
    "A2_frame.head(3)"
   ]
  },
  {
   "cell_type": "code",
   "execution_count": 84,
   "metadata": {},
   "outputs": [
    {
     "data": {
      "text/plain": [
       "<matplotlib.axes._subplots.AxesSubplot at 0x7f9d925a2710>"
      ]
     },
     "execution_count": 84,
     "metadata": {},
     "output_type": "execute_result"
    },
    {
     "data": {
      "image/png": "[encoded data removed]",
      "text/plain": [
       "<Figure size 1296x360 with 1 Axes>"
      ]
     },
     "metadata": {},
     "output_type": "display_data"
    }
   ],
   "source": [
    "# посмотрим выбросы еще в группе В - аналогичный результаты\n",
    "sns.set(rc={'figure.figsize':(18,5)})\n",
    "sns.boxplot(x = B_frame['revenue'], medianprops={\"color\": \"red\"})"
   ]
  },
  {
   "cell_type": "code",
   "execution_count": 85,
   "metadata": {},
   "outputs": [
    {
     "data": {
      "text/plain": [
       "<matplotlib.axes._subplots.AxesSubplot at 0x7f9d9309c6a0>"
      ]
     },
     "execution_count": 85,
     "metadata": {},
     "output_type": "execute_result"
    },
    {
     "data": {
      "image/png": "[encoded data removed]",
      "text/plain": [
       "<Figure size 1296x360 with 1 Axes>"
      ]
     },
     "metadata": {},
     "output_type": "display_data"
    }
   ],
   "source": [
    "# посмотрим визуализацию по странам\n",
    "plt.grid()\n",
    "B_frame.country_x.value_counts().plot(kind=\"bar\", color=\"k\")"
   ]
  },
  {
   "cell_type": "code",
   "execution_count": 86,
   "metadata": {},
   "outputs": [
    {
     "data": {
      "text/plain": [
       "<matplotlib.axes._subplots.AxesSubplot at 0x7f9d930fef98>"
      ]
     },
     "execution_count": 86,
     "metadata": {},
     "output_type": "execute_result"
    },
    {
     "data": {
      "image/png": "[encoded data removed]",
      "text/plain": [
       "<Figure size 1296x360 with 1 Axes>"
      ]
     },
     "metadata": {},
     "output_type": "display_data"
    }
   ],
   "source": [
    "plt.grid()\n",
    "A2_frame.country_x.value_counts().plot(kind=\"bar\", color=\"r\")"
   ]
  },
  {
   "cell_type": "code",
   "execution_count": 87,
   "metadata": {},
   "outputs": [
    {
     "data": {
      "text/plain": [
       "<matplotlib.axes._subplots.AxesSubplot at 0x7f9d930dc940>"
      ]
     },
     "execution_count": 87,
     "metadata": {},
     "output_type": "execute_result"
    },
    {
     "data": {
      "image/png": "[encoded data removed]",
      "text/plain": [
       "<Figure size 1296x360 with 1 Axes>"
      ]
     },
     "metadata": {},
     "output_type": "display_data"
    }
   ],
   "source": [
    "plt.grid()\n",
    "A1_frame.country_x.value_counts().plot(kind=\"bar\", color=\"b\")"
   ]
  },
  {
   "cell_type": "code",
   "execution_count": 88,
   "metadata": {},
   "outputs": [],
   "source": [
    "# так как страны различаются, возьмем только то что есть в группе B\n",
    "B_revenue = B_frame.groupby([\"country_x\"], as_index = False)  \\\n",
    "       .agg({'revenue' : 'sum'}).rename(columns={'revenue': 'B'})\n",
    "A2_revenue = A2_frame.groupby([\"country_x\"], as_index = False)  \\\n",
    "       .agg({'revenue' : 'sum'}).rename(columns={'revenue': 'A2'})\n",
    "A1_revenue = A1_frame.groupby([\"country_x\"], as_index = False)  \\\n",
    "       .agg({'revenue' : 'sum'}).rename(columns={'revenue': 'A1'})\n",
    "Revenue = B_revenue.merge(A2_revenue, how = 'left', on = 'country_x')\n",
    "Revenue = Revenue.merge(A1_revenue, how = 'left', on = 'country_x')\n",
    "# есть пару не совпадений так как страны разные, уберем их сразу, они ничем не помогут\n",
    "Revenue = Revenue.dropna()"
   ]
  },
  {
   "cell_type": "code",
   "execution_count": 89,
   "metadata": {},
   "outputs": [
    {
     "data": {
      "text/html": [
       "<div>\n",
       "<style scoped>\n",
       "    .dataframe tbody tr th:only-of-type {\n",
       "        vertical-align: middle;\n",
       "    }\n",
       "\n",
       "    .dataframe tbody tr th {\n",
       "        vertical-align: top;\n",
       "    }\n",
       "\n",
       "    .dataframe thead th {\n",
       "        text-align: right;\n",
       "    }\n",
       "</style>\n",
       "<table border=\"1\" class=\"dataframe\">\n",
       "  <thead>\n",
       "    <tr style=\"text-align: right;\">\n",
       "      <th></th>\n",
       "      <th>country_x</th>\n",
       "      <th>B</th>\n",
       "      <th>A2</th>\n",
       "      <th>A1</th>\n",
       "      <th>B_A2</th>\n",
       "      <th>B_A1</th>\n",
       "    </tr>\n",
       "  </thead>\n",
       "  <tbody>\n",
       "    <tr>\n",
       "      <th>16</th>\n",
       "      <td>United States of America</td>\n",
       "      <td>711360</td>\n",
       "      <td>576641.0</td>\n",
       "      <td>727922.0</td>\n",
       "      <td>134719.0</td>\n",
       "      <td>-16562.0</td>\n",
       "    </tr>\n",
       "    <tr>\n",
       "      <th>5</th>\n",
       "      <td>France</td>\n",
       "      <td>297700</td>\n",
       "      <td>149071.0</td>\n",
       "      <td>181831.0</td>\n",
       "      <td>148629.0</td>\n",
       "      <td>115869.0</td>\n",
       "    </tr>\n",
       "    <tr>\n",
       "      <th>11</th>\n",
       "      <td>Spain</td>\n",
       "      <td>285428</td>\n",
       "      <td>193778.0</td>\n",
       "      <td>99060.0</td>\n",
       "      <td>91650.0</td>\n",
       "      <td>186368.0</td>\n",
       "    </tr>\n",
       "    <tr>\n",
       "      <th>14</th>\n",
       "      <td>United Arab Emirates</td>\n",
       "      <td>213785</td>\n",
       "      <td>117143.0</td>\n",
       "      <td>75543.0</td>\n",
       "      <td>96642.0</td>\n",
       "      <td>138242.0</td>\n",
       "    </tr>\n",
       "    <tr>\n",
       "      <th>0</th>\n",
       "      <td>Argentina</td>\n",
       "      <td>188019</td>\n",
       "      <td>121017.0</td>\n",
       "      <td>143429.0</td>\n",
       "      <td>67002.0</td>\n",
       "      <td>44590.0</td>\n",
       "    </tr>\n",
       "    <tr>\n",
       "      <th>8</th>\n",
       "      <td>Italy</td>\n",
       "      <td>113425</td>\n",
       "      <td>115375.0</td>\n",
       "      <td>539786.0</td>\n",
       "      <td>-1950.0</td>\n",
       "      <td>-426361.0</td>\n",
       "    </tr>\n",
       "    <tr>\n",
       "      <th>6</th>\n",
       "      <td>Germany</td>\n",
       "      <td>96096</td>\n",
       "      <td>71409.0</td>\n",
       "      <td>23998.0</td>\n",
       "      <td>24687.0</td>\n",
       "      <td>72098.0</td>\n",
       "    </tr>\n",
       "    <tr>\n",
       "      <th>7</th>\n",
       "      <td>Israel</td>\n",
       "      <td>93548</td>\n",
       "      <td>67665.0</td>\n",
       "      <td>114608.0</td>\n",
       "      <td>25883.0</td>\n",
       "      <td>-21060.0</td>\n",
       "    </tr>\n",
       "    <tr>\n",
       "      <th>15</th>\n",
       "      <td>United Kingdom (Great Britain)</td>\n",
       "      <td>77376</td>\n",
       "      <td>96473.0</td>\n",
       "      <td>198965.0</td>\n",
       "      <td>-19097.0</td>\n",
       "      <td>-121589.0</td>\n",
       "    </tr>\n",
       "    <tr>\n",
       "      <th>4</th>\n",
       "      <td>Chile</td>\n",
       "      <td>69940</td>\n",
       "      <td>108615.0</td>\n",
       "      <td>97565.0</td>\n",
       "      <td>-38675.0</td>\n",
       "      <td>-27625.0</td>\n",
       "    </tr>\n",
       "    <tr>\n",
       "      <th>3</th>\n",
       "      <td>Canada</td>\n",
       "      <td>63466</td>\n",
       "      <td>30537.0</td>\n",
       "      <td>92053.0</td>\n",
       "      <td>32929.0</td>\n",
       "      <td>-28587.0</td>\n",
       "    </tr>\n",
       "    <tr>\n",
       "      <th>2</th>\n",
       "      <td>Belgium</td>\n",
       "      <td>62686</td>\n",
       "      <td>110214.0</td>\n",
       "      <td>45630.0</td>\n",
       "      <td>-47528.0</td>\n",
       "      <td>17056.0</td>\n",
       "    </tr>\n",
       "    <tr>\n",
       "      <th>12</th>\n",
       "      <td>Switzerland</td>\n",
       "      <td>22256</td>\n",
       "      <td>28093.0</td>\n",
       "      <td>26572.0</td>\n",
       "      <td>-5837.0</td>\n",
       "      <td>-4316.0</td>\n",
       "    </tr>\n",
       "    <tr>\n",
       "      <th>1</th>\n",
       "      <td>Australia</td>\n",
       "      <td>12597</td>\n",
       "      <td>22646.0</td>\n",
       "      <td>18304.0</td>\n",
       "      <td>-10049.0</td>\n",
       "      <td>-5707.0</td>\n",
       "    </tr>\n",
       "    <tr>\n",
       "      <th>13</th>\n",
       "      <td>Turkey</td>\n",
       "      <td>9165</td>\n",
       "      <td>11700.0</td>\n",
       "      <td>79677.0</td>\n",
       "      <td>-2535.0</td>\n",
       "      <td>-70512.0</td>\n",
       "    </tr>\n",
       "  </tbody>\n",
       "</table>\n",
       "</div>"
      ],
      "text/plain": [
       "                         country_x       B        A2        A1      B_A2  \\\n",
       "16        United States of America  711360  576641.0  727922.0  134719.0   \n",
       "5                           France  297700  149071.0  181831.0  148629.0   \n",
       "11                           Spain  285428  193778.0   99060.0   91650.0   \n",
       "14            United Arab Emirates  213785  117143.0   75543.0   96642.0   \n",
       "0                        Argentina  188019  121017.0  143429.0   67002.0   \n",
       "8                            Italy  113425  115375.0  539786.0   -1950.0   \n",
       "6                          Germany   96096   71409.0   23998.0   24687.0   \n",
       "7                           Israel   93548   67665.0  114608.0   25883.0   \n",
       "15  United Kingdom (Great Britain)   77376   96473.0  198965.0  -19097.0   \n",
       "4                            Chile   69940  108615.0   97565.0  -38675.0   \n",
       "3                           Canada   63466   30537.0   92053.0   32929.0   \n",
       "2                          Belgium   62686  110214.0   45630.0  -47528.0   \n",
       "12                     Switzerland   22256   28093.0   26572.0   -5837.0   \n",
       "1                        Australia   12597   22646.0   18304.0  -10049.0   \n",
       "13                          Turkey    9165   11700.0   79677.0   -2535.0   \n",
       "\n",
       "        B_A1  \n",
       "16  -16562.0  \n",
       "5   115869.0  \n",
       "11  186368.0  \n",
       "14  138242.0  \n",
       "0    44590.0  \n",
       "8  -426361.0  \n",
       "6    72098.0  \n",
       "7   -21060.0  \n",
       "15 -121589.0  \n",
       "4   -27625.0  \n",
       "3   -28587.0  \n",
       "2    17056.0  \n",
       "12   -4316.0  \n",
       "1    -5707.0  \n",
       "13  -70512.0  "
      ]
     },
     "execution_count": 89,
     "metadata": {},
     "output_type": "execute_result"
    }
   ],
   "source": [
    "# основная идея - посмотреть страны в которых в чистом виде выручка максимально сильно изменилась\n",
    "Revenue[\"B_A2\"] = Revenue.B - Revenue.A2\n",
    "Revenue[\"B_A1\"] = Revenue.B - Revenue.A1\n",
    "# после нахождения разницы по каждой стране, можно выделить топ-3 страны где фича была успешнее всего применена\n",
    "Revenue.sort_values(by=['B'], ascending=False)"
   ]
  },
  {
   "cell_type": "code",
   "execution_count": 109,
   "metadata": {},
   "outputs": [
    {
     "name": "stdout",
     "output_type": "stream",
     "text": [
      "Общая прибыль по группе B: 2316847\n",
      "Общая прибыль по группе A2: 1820377.0\n",
      "Общая прибыль по группе A2: 2464943.0\n"
     ]
    }
   ],
   "source": [
    "print(\"Общая прибыль по группе B:\",Revenue.B.sum())\n",
    "print(\"Общая прибыль по группе A2:\",Revenue.A2.sum())\n",
    "print(\"Общая прибыль по группе A2:\",Revenue.A1.sum())"
   ]
  },
  {
   "cell_type": "code",
   "execution_count": 91,
   "metadata": {},
   "outputs": [
    {
     "data": {
      "text/html": [
       "<div>\n",
       "<style scoped>\n",
       "    .dataframe tbody tr th:only-of-type {\n",
       "        vertical-align: middle;\n",
       "    }\n",
       "\n",
       "    .dataframe tbody tr th {\n",
       "        vertical-align: top;\n",
       "    }\n",
       "\n",
       "    .dataframe thead th {\n",
       "        text-align: right;\n",
       "    }\n",
       "</style>\n",
       "<table border=\"1\" class=\"dataframe\">\n",
       "  <thead>\n",
       "    <tr style=\"text-align: right;\">\n",
       "      <th></th>\n",
       "      <th>country_x</th>\n",
       "      <th>B</th>\n",
       "      <th>A2</th>\n",
       "      <th>A1</th>\n",
       "      <th>B_A2</th>\n",
       "      <th>B_A1</th>\n",
       "    </tr>\n",
       "  </thead>\n",
       "  <tbody>\n",
       "    <tr>\n",
       "      <th>5</th>\n",
       "      <td>France</td>\n",
       "      <td>297700</td>\n",
       "      <td>149071.0</td>\n",
       "      <td>181831.0</td>\n",
       "      <td>148629.0</td>\n",
       "      <td>115869.0</td>\n",
       "    </tr>\n",
       "    <tr>\n",
       "      <th>16</th>\n",
       "      <td>United States of America</td>\n",
       "      <td>711360</td>\n",
       "      <td>576641.0</td>\n",
       "      <td>727922.0</td>\n",
       "      <td>134719.0</td>\n",
       "      <td>-16562.0</td>\n",
       "    </tr>\n",
       "    <tr>\n",
       "      <th>14</th>\n",
       "      <td>United Arab Emirates</td>\n",
       "      <td>213785</td>\n",
       "      <td>117143.0</td>\n",
       "      <td>75543.0</td>\n",
       "      <td>96642.0</td>\n",
       "      <td>138242.0</td>\n",
       "    </tr>\n",
       "  </tbody>\n",
       "</table>\n",
       "</div>"
      ],
      "text/plain": [
       "                   country_x       B        A2        A1      B_A2      B_A1\n",
       "5                     France  297700  149071.0  181831.0  148629.0  115869.0\n",
       "16  United States of America  711360  576641.0  727922.0  134719.0  -16562.0\n",
       "14      United Arab Emirates  213785  117143.0   75543.0   96642.0  138242.0"
      ]
     },
     "execution_count": 91,
     "metadata": {},
     "output_type": "execute_result"
    }
   ],
   "source": [
    "Revenue.sort_values(by=['B_A2'], ascending=False).head(3)"
   ]
  },
  {
   "cell_type": "code",
   "execution_count": 92,
   "metadata": {},
   "outputs": [
    {
     "data": {
      "text/html": [
       "<div>\n",
       "<style scoped>\n",
       "    .dataframe tbody tr th:only-of-type {\n",
       "        vertical-align: middle;\n",
       "    }\n",
       "\n",
       "    .dataframe tbody tr th {\n",
       "        vertical-align: top;\n",
       "    }\n",
       "\n",
       "    .dataframe thead th {\n",
       "        text-align: right;\n",
       "    }\n",
       "</style>\n",
       "<table border=\"1\" class=\"dataframe\">\n",
       "  <thead>\n",
       "    <tr style=\"text-align: right;\">\n",
       "      <th></th>\n",
       "      <th>country_x</th>\n",
       "      <th>B</th>\n",
       "      <th>A2</th>\n",
       "      <th>A1</th>\n",
       "      <th>B_A2</th>\n",
       "      <th>B_A1</th>\n",
       "    </tr>\n",
       "  </thead>\n",
       "  <tbody>\n",
       "    <tr>\n",
       "      <th>11</th>\n",
       "      <td>Spain</td>\n",
       "      <td>285428</td>\n",
       "      <td>193778.0</td>\n",
       "      <td>99060.0</td>\n",
       "      <td>91650.0</td>\n",
       "      <td>186368.0</td>\n",
       "    </tr>\n",
       "    <tr>\n",
       "      <th>14</th>\n",
       "      <td>United Arab Emirates</td>\n",
       "      <td>213785</td>\n",
       "      <td>117143.0</td>\n",
       "      <td>75543.0</td>\n",
       "      <td>96642.0</td>\n",
       "      <td>138242.0</td>\n",
       "    </tr>\n",
       "    <tr>\n",
       "      <th>5</th>\n",
       "      <td>France</td>\n",
       "      <td>297700</td>\n",
       "      <td>149071.0</td>\n",
       "      <td>181831.0</td>\n",
       "      <td>148629.0</td>\n",
       "      <td>115869.0</td>\n",
       "    </tr>\n",
       "  </tbody>\n",
       "</table>\n",
       "</div>"
      ],
      "text/plain": [
       "               country_x       B        A2        A1      B_A2      B_A1\n",
       "11                 Spain  285428  193778.0   99060.0   91650.0  186368.0\n",
       "14  United Arab Emirates  213785  117143.0   75543.0   96642.0  138242.0\n",
       "5                 France  297700  149071.0  181831.0  148629.0  115869.0"
      ]
     },
     "execution_count": 92,
     "metadata": {},
     "output_type": "execute_result"
    }
   ],
   "source": [
    "Revenue.sort_values(by=['B_A1'], ascending=False).head(3)"
   ]
  },
  {
   "cell_type": "markdown",
   "metadata": {},
   "source": [
    "Перейдем к возрасту, необходимо выделить какие то группы и посмотреть также как по станам различия в выручке\n",
    "чтобы выделить группы  - обратимся к возрастной переодизации \n",
    "https://ru.wikipedia.org/wiki/%D0%92%D0%BE%D0%B7%D1%80%D0%B0%D1%81%D1%82%D0%BD%D0%B0%D1%8F_%D0%BF%D0%B5%D1%80%D0%B8%D0%BE%D0%B4%D0%B8%D0%B7%D0%B0%D1%86%D0%B8%D1%8F"
   ]
  },
  {
   "cell_type": "code",
   "execution_count": 93,
   "metadata": {},
   "outputs": [],
   "source": [
    "# напишем функцию, которая поможет определять возраст поделим на 4 группы: подростки до 18, моложежь до 35, до 60 средний\n",
    "# и после уже пожилой возраст\n",
    "def age_function(x):\n",
    "    if x <= 18:\n",
    "        return 1\n",
    "    elif x >= 19 and x <= 35:\n",
    "        return 2\n",
    "    elif x >= 35 and x <= 60:\n",
    "        return 3\n",
    "    else:\n",
    "        return 4"
   ]
  },
  {
   "cell_type": "code",
   "execution_count": 94,
   "metadata": {},
   "outputs": [],
   "source": [
    "# сразу используем для всех исследуемых групп\n",
    "B_frame['age_group'] = B_frame['age'].apply(age_function)\n",
    "A2_frame['age_group'] = A2_frame['age'].apply(age_function)\n",
    "A1_frame['age_group'] = A1_frame['age'].apply(age_function)"
   ]
  },
  {
   "cell_type": "code",
   "execution_count": 95,
   "metadata": {},
   "outputs": [
    {
     "data": {
      "text/plain": [
       "<matplotlib.axes._subplots.AxesSubplot at 0x7f9d9249c1d0>"
      ]
     },
     "execution_count": 95,
     "metadata": {},
     "output_type": "execute_result"
    },
    {
     "data": {
      "image/png": "[encoded data removed]",
      "text/plain": [
       "<Figure size 1296x360 with 1 Axes>"
      ]
     },
     "metadata": {},
     "output_type": "display_data"
    }
   ],
   "source": [
    "B_frame['age_group'].value_counts().plot.bar(color=\"k\")"
   ]
  },
  {
   "cell_type": "code",
   "execution_count": 96,
   "metadata": {},
   "outputs": [
    {
     "data": {
      "text/plain": [
       "<matplotlib.axes._subplots.AxesSubplot at 0x7f9d92490320>"
      ]
     },
     "execution_count": 96,
     "metadata": {},
     "output_type": "execute_result"
    },
    {
     "data": {
      "image/png": "[encoded data removed]",
      "text/plain": [
       "<Figure size 1296x360 with 1 Axes>"
      ]
     },
     "metadata": {},
     "output_type": "display_data"
    }
   ],
   "source": [
    "A2_frame['age_group'].value_counts().plot.bar(color=\"r\")"
   ]
  },
  {
   "cell_type": "code",
   "execution_count": 97,
   "metadata": {},
   "outputs": [
    {
     "data": {
      "text/plain": [
       "<matplotlib.axes._subplots.AxesSubplot at 0x7f9d923d44a8>"
      ]
     },
     "execution_count": 97,
     "metadata": {},
     "output_type": "execute_result"
    },
    {
     "data": {
      "image/png": "[encoded data removed]",
      "text/plain": [
       "<Figure size 1296x360 with 1 Axes>"
      ]
     },
     "metadata": {},
     "output_type": "display_data"
    }
   ],
   "source": [
    "A1_frame['age_group'].value_counts().plot.bar(color=\"b\")"
   ]
  },
  {
   "cell_type": "code",
   "execution_count": 98,
   "metadata": {},
   "outputs": [],
   "source": [
    "# во всех трех случаях преобладает категория от 19 до 35 лет, это вполне логично, трудоспособное и еще активное население\n",
    "# можно разбить группы более детально, но в целом средний возраст -  около 25 лет \n"
   ]
  },
  {
   "cell_type": "code",
   "execution_count": 99,
   "metadata": {},
   "outputs": [],
   "source": [
    "# теперь повторим похожую операцию и посмотрим прибыль от каждого контингента\n",
    "B_age = B_frame.groupby([\"age_group\"], as_index = False)  \\\n",
    "       .agg({'revenue' : 'sum'}).rename(columns={'revenue': 'B'})\n",
    "А1_age = A1_frame.groupby([\"age_group\"], as_index = False)  \\\n",
    "       .agg({'revenue' : 'sum'}).rename(columns={'revenue': 'A1'})\n",
    "А2_age = A2_frame.groupby([\"age_group\"], as_index = False)  \\\n",
    "       .agg({'revenue' : 'sum'}).rename(columns={'revenue': 'A2'})"
   ]
  },
  {
   "cell_type": "code",
   "execution_count": 100,
   "metadata": {},
   "outputs": [
    {
     "data": {
      "text/html": [
       "<div>\n",
       "<style scoped>\n",
       "    .dataframe tbody tr th:only-of-type {\n",
       "        vertical-align: middle;\n",
       "    }\n",
       "\n",
       "    .dataframe tbody tr th {\n",
       "        vertical-align: top;\n",
       "    }\n",
       "\n",
       "    .dataframe thead th {\n",
       "        text-align: right;\n",
       "    }\n",
       "</style>\n",
       "<table border=\"1\" class=\"dataframe\">\n",
       "  <thead>\n",
       "    <tr style=\"text-align: right;\">\n",
       "      <th></th>\n",
       "      <th>age_group</th>\n",
       "      <th>B</th>\n",
       "      <th>A1</th>\n",
       "      <th>A2</th>\n",
       "      <th>B_A2</th>\n",
       "      <th>B_A1</th>\n",
       "    </tr>\n",
       "  </thead>\n",
       "  <tbody>\n",
       "    <tr>\n",
       "      <th>0</th>\n",
       "      <td>1</td>\n",
       "      <td>41262</td>\n",
       "      <td>9594.0</td>\n",
       "      <td>56355</td>\n",
       "      <td>-15093</td>\n",
       "      <td>31668.0</td>\n",
       "    </tr>\n",
       "    <tr>\n",
       "      <th>1</th>\n",
       "      <td>2</td>\n",
       "      <td>1482949</td>\n",
       "      <td>1859650.0</td>\n",
       "      <td>1213589</td>\n",
       "      <td>269360</td>\n",
       "      <td>-376701.0</td>\n",
       "    </tr>\n",
       "    <tr>\n",
       "      <th>2</th>\n",
       "      <td>3</td>\n",
       "      <td>760773</td>\n",
       "      <td>618228.0</td>\n",
       "      <td>629174</td>\n",
       "      <td>131599</td>\n",
       "      <td>142545.0</td>\n",
       "    </tr>\n",
       "    <tr>\n",
       "      <th>3</th>\n",
       "      <td>4</td>\n",
       "      <td>47242</td>\n",
       "      <td>7332.0</td>\n",
       "      <td>8879</td>\n",
       "      <td>38363</td>\n",
       "      <td>39910.0</td>\n",
       "    </tr>\n",
       "  </tbody>\n",
       "</table>\n",
       "</div>"
      ],
      "text/plain": [
       "   age_group        B         A1       A2    B_A2      B_A1\n",
       "0          1    41262     9594.0    56355  -15093   31668.0\n",
       "1          2  1482949  1859650.0  1213589  269360 -376701.0\n",
       "2          3   760773   618228.0   629174  131599  142545.0\n",
       "3          4    47242     7332.0     8879   38363   39910.0"
      ]
     },
     "execution_count": 100,
     "metadata": {},
     "output_type": "execute_result"
    }
   ],
   "source": [
    "age = B_age.merge(А1_age, how = 'left', on = 'age_group')\n",
    "age = age.merge(А2_age, how = 'left', on = 'age_group')\n",
    "age[\"B_A2\"] = age.B - age.A2\n",
    "age[\"B_A1\"] = age.B - age.A1\n",
    "age"
   ]
  },
  {
   "cell_type": "code",
   "execution_count": 101,
   "metadata": {},
   "outputs": [
    {
     "data": {
      "text/html": [
       "<div>\n",
       "<style scoped>\n",
       "    .dataframe tbody tr th:only-of-type {\n",
       "        vertical-align: middle;\n",
       "    }\n",
       "\n",
       "    .dataframe tbody tr th {\n",
       "        vertical-align: top;\n",
       "    }\n",
       "\n",
       "    .dataframe thead th {\n",
       "        text-align: right;\n",
       "    }\n",
       "</style>\n",
       "<table border=\"1\" class=\"dataframe\">\n",
       "  <thead>\n",
       "    <tr style=\"text-align: right;\">\n",
       "      <th></th>\n",
       "      <th>age_group</th>\n",
       "      <th>B</th>\n",
       "      <th>A1</th>\n",
       "      <th>A2</th>\n",
       "      <th>B_A2</th>\n",
       "      <th>B_A1</th>\n",
       "    </tr>\n",
       "  </thead>\n",
       "  <tbody>\n",
       "    <tr>\n",
       "      <th>1</th>\n",
       "      <td>2</td>\n",
       "      <td>1482949</td>\n",
       "      <td>1859650.0</td>\n",
       "      <td>1213589</td>\n",
       "      <td>269360</td>\n",
       "      <td>-376701.0</td>\n",
       "    </tr>\n",
       "  </tbody>\n",
       "</table>\n",
       "</div>"
      ],
      "text/plain": [
       "   age_group        B         A1       A2    B_A2      B_A1\n",
       "1          2  1482949  1859650.0  1213589  269360 -376701.0"
      ]
     },
     "execution_count": 101,
     "metadata": {},
     "output_type": "execute_result"
    }
   ],
   "source": [
    "age.sort_values(by=['B_A2'], ascending=False).head(1)"
   ]
  },
  {
   "cell_type": "code",
   "execution_count": 102,
   "metadata": {},
   "outputs": [
    {
     "data": {
      "text/html": [
       "<div>\n",
       "<style scoped>\n",
       "    .dataframe tbody tr th:only-of-type {\n",
       "        vertical-align: middle;\n",
       "    }\n",
       "\n",
       "    .dataframe tbody tr th {\n",
       "        vertical-align: top;\n",
       "    }\n",
       "\n",
       "    .dataframe thead th {\n",
       "        text-align: right;\n",
       "    }\n",
       "</style>\n",
       "<table border=\"1\" class=\"dataframe\">\n",
       "  <thead>\n",
       "    <tr style=\"text-align: right;\">\n",
       "      <th></th>\n",
       "      <th>age_group</th>\n",
       "      <th>B</th>\n",
       "      <th>A1</th>\n",
       "      <th>A2</th>\n",
       "      <th>B_A2</th>\n",
       "      <th>B_A1</th>\n",
       "    </tr>\n",
       "  </thead>\n",
       "  <tbody>\n",
       "    <tr>\n",
       "      <th>2</th>\n",
       "      <td>3</td>\n",
       "      <td>760773</td>\n",
       "      <td>618228.0</td>\n",
       "      <td>629174</td>\n",
       "      <td>131599</td>\n",
       "      <td>142545.0</td>\n",
       "    </tr>\n",
       "  </tbody>\n",
       "</table>\n",
       "</div>"
      ],
      "text/plain": [
       "   age_group       B        A1      A2    B_A2      B_A1\n",
       "2          3  760773  618228.0  629174  131599  142545.0"
      ]
     },
     "execution_count": 102,
     "metadata": {},
     "output_type": "execute_result"
    }
   ],
   "source": [
    "age.sort_values(by=['B_A1'], ascending=False).head(1)"
   ]
  },
  {
   "cell_type": "code",
   "execution_count": 103,
   "metadata": {},
   "outputs": [
    {
     "data": {
      "text/html": [
       "<div>\n",
       "<style scoped>\n",
       "    .dataframe tbody tr th:only-of-type {\n",
       "        vertical-align: middle;\n",
       "    }\n",
       "\n",
       "    .dataframe tbody tr th {\n",
       "        vertical-align: top;\n",
       "    }\n",
       "\n",
       "    .dataframe thead th {\n",
       "        text-align: right;\n",
       "    }\n",
       "</style>\n",
       "<table border=\"1\" class=\"dataframe\">\n",
       "  <thead>\n",
       "    <tr style=\"text-align: right;\">\n",
       "      <th></th>\n",
       "      <th>product_type</th>\n",
       "      <th>B</th>\n",
       "      <th>A1</th>\n",
       "      <th>A2</th>\n",
       "      <th>B_A2</th>\n",
       "      <th>B_A1</th>\n",
       "    </tr>\n",
       "  </thead>\n",
       "  <tbody>\n",
       "    <tr>\n",
       "      <th>0</th>\n",
       "      <td>coins</td>\n",
       "      <td>561067</td>\n",
       "      <td>781482.0</td>\n",
       "      <td>392821</td>\n",
       "      <td>168246</td>\n",
       "      <td>-220415.0</td>\n",
       "    </tr>\n",
       "    <tr>\n",
       "      <th>1</th>\n",
       "      <td>other_type</td>\n",
       "      <td>160251</td>\n",
       "      <td>161343.0</td>\n",
       "      <td>126386</td>\n",
       "      <td>33865</td>\n",
       "      <td>-1092.0</td>\n",
       "    </tr>\n",
       "    <tr>\n",
       "      <th>2</th>\n",
       "      <td>premium_no_trial</td>\n",
       "      <td>810706</td>\n",
       "      <td>779259.0</td>\n",
       "      <td>744809</td>\n",
       "      <td>65897</td>\n",
       "      <td>31447.0</td>\n",
       "    </tr>\n",
       "    <tr>\n",
       "      <th>3</th>\n",
       "      <td>trial_premium</td>\n",
       "      <td>800202</td>\n",
       "      <td>772720.0</td>\n",
       "      <td>643981</td>\n",
       "      <td>156221</td>\n",
       "      <td>27482.0</td>\n",
       "    </tr>\n",
       "  </tbody>\n",
       "</table>\n",
       "</div>"
      ],
      "text/plain": [
       "       product_type       B        A1      A2    B_A2      B_A1\n",
       "0             coins  561067  781482.0  392821  168246 -220415.0\n",
       "1        other_type  160251  161343.0  126386   33865   -1092.0\n",
       "2  premium_no_trial  810706  779259.0  744809   65897   31447.0\n",
       "3     trial_premium  800202  772720.0  643981  156221   27482.0"
      ]
     },
     "execution_count": 103,
     "metadata": {},
     "output_type": "execute_result"
    }
   ],
   "source": [
    "B_product_type = B_frame.groupby([\"product_type\"], as_index = False)  \\\n",
    "       .agg({'revenue' : 'sum'}).rename(columns={'revenue': 'B'})\n",
    "A1_product_type = A1_frame.groupby([\"product_type\"], as_index = False)  \\\n",
    "       .agg({'revenue' : 'sum'}).rename(columns={'revenue': 'A1'})\n",
    "A2_product_type = A2_frame.groupby([\"product_type\"], as_index = False)  \\\n",
    "       .agg({'revenue' : 'sum'}).rename(columns={'revenue': 'A2'})\n",
    "# обьеденим данные\n",
    "product_type = B_product_type.merge(A1_product_type, how ='left', on='product_type')\n",
    "product_type = product_type.merge(A2_product_type, how ='left', on='product_type')\n",
    "# посчитаем разницу между группами В и А1/А2\n",
    "product_type[\"B_A2\"] = product_type.B - product_type.A2\n",
    "product_type[\"B_A1\"] = product_type.B - product_type.A1\n",
    "product_type"
   ]
  },
  {
   "cell_type": "code",
   "execution_count": 104,
   "metadata": {},
   "outputs": [
    {
     "data": {
      "text/plain": [
       "[<matplotlib.lines.Line2D at 0x7f9d92314908>]"
      ]
     },
     "execution_count": 104,
     "metadata": {},
     "output_type": "execute_result"
    },
    {
     "data": {
      "image/png": "[encoded data removed]",
      "text/plain": [
       "<Figure size 1296x360 with 1 Axes>"
      ]
     },
     "metadata": {},
     "output_type": "display_data"
    }
   ],
   "source": [
    "# посмотрим, увеличилось ли число регистраций при внедрении новой фичи\n",
    "B_joined_at = B_frame.groupby([\"joined_at\"], as_index = False)  \\\n",
    "       .agg({'country_x' : 'count'}).rename(columns={'country_x': 'B'})\n",
    "A1_joined_at = A1_frame.groupby([\"joined_at\"], as_index = False)  \\\n",
    "       .agg({'country_x' : 'count'}).rename(columns={'country_x': 'A1'})\n",
    "A2_joined_at = A2_frame.groupby([\"joined_at\"], as_index = False)  \\\n",
    "       .agg({'country_x' : 'count'}).rename(columns={'country_x': 'A2'})\n",
    "# судя по графику явно есть проблема с временным диапазаоном у одной из групп, так как сравнение происходила попарное, то\n",
    "# на результатах это не отразится, но данная проблема была замечена и ранее\n",
    "plt.plot(B_joined_at.joined_at, B_joined_at.B)\n",
    "plt.plot(A1_joined_at.joined_at, A1_joined_at.A1)\n",
    "plt.plot(A2_joined_at.joined_at, A2_joined_at.A2)"
   ]
  },
  {
   "cell_type": "code",
   "execution_count": 105,
   "metadata": {},
   "outputs": [],
   "source": [
    "# посмотрим уже на нормальном графике - уберем с группы А1 лишние промежутки\n",
    "A1_joined_at[\"joined_at_new\"] = A1_joined_at.joined_at.dt.strftime('%Y-%m')\n",
    "A1_joined_at = A1_joined_at.query('joined_at > \"2017-01\"')"
   ]
  },
  {
   "cell_type": "code",
   "execution_count": 110,
   "metadata": {},
   "outputs": [
    {
     "data": {
      "text/plain": [
       "[<matplotlib.lines.Line2D at 0x7f9d921fc8d0>]"
      ]
     },
     "execution_count": 110,
     "metadata": {},
     "output_type": "execute_result"
    },
    {
     "data": {
      "image/png": "[encoded data removed]",
      "text/plain": [
       "<Figure size 1296x360 with 1 Axes>"
      ]
     },
     "metadata": {},
     "output_type": "display_data"
    }
   ],
   "source": [
    "# значимых изменений в приросте пользователей не было обнаружено за исследуемый промежуток\n",
    "plt.plot(B_joined_at.joined_at, B_joined_at.B,linestyle='-.')\n",
    "plt.plot(A1_joined_at.joined_at, A1_joined_at.A1, color='green')\n",
    "plt.plot(A2_joined_at.joined_at, A2_joined_at.A2, color='y')"
   ]
  },
  {
   "cell_type": "code",
   "execution_count": 120,
   "metadata": {},
   "outputs": [
    {
     "data": {
      "text/plain": [
       "coins               120\n",
       "premium_no_trial    107\n",
       "trial_premium        53\n",
       "other_type           43\n",
       "Name: product_type, dtype: int64"
      ]
     },
     "execution_count": 120,
     "metadata": {},
     "output_type": "execute_result"
    }
   ],
   "source": [
    "# посмотрим изменилось ли число транзакиий по продукту, может стали больше монет покупать? или подписок?\n",
    "A2_frame.product_type.value_counts()"
   ]
  },
  {
   "cell_type": "code",
   "execution_count": 119,
   "metadata": {},
   "outputs": [
    {
     "data": {
      "text/plain": [
       "coins               137\n",
       "premium_no_trial    106\n",
       "trial_premium        67\n",
       "other_type           46\n",
       "Name: product_type, dtype: int64"
      ]
     },
     "execution_count": 119,
     "metadata": {},
     "output_type": "execute_result"
    }
   ],
   "source": [
    "A1_frame.product_type.value_counts()"
   ]
  },
  {
   "cell_type": "code",
   "execution_count": 118,
   "metadata": {},
   "outputs": [
    {
     "data": {
      "text/plain": [
       "coins               101\n",
       "premium_no_trial     76\n",
       "trial_premium        62\n",
       "other_type           27\n",
       "Name: product_type, dtype: int64"
      ]
     },
     "execution_count": 118,
     "metadata": {},
     "output_type": "execute_result"
    }
   ],
   "source": [
    "# каких то значимых отличий не было обнаружено - значений мало - делать визуализацию нет смысла\n",
    "B_frame.product_type.value_counts()"
   ]
  },
  {
   "cell_type": "markdown",
   "metadata": {},
   "source": [
    "# Заключение\n",
    "\n",
    "В целом проведенный эксперимент можно считать успешным, но стоит внести ряд поправок, на тот счет, что данные были не совсем корректными. Главная проблема в данных - это разные страны, хотя это главная фича для раскатки, также размерность данных, группы получились хоть и сопоставимы, но вопросы по качеству эксперемента все таки остаеются. Различия между контрольными и тестовой группой иммеются, поэтому все цели, которые были поставлены является выполнены. Если рассматривать группы пользователей, по котором удалось провести поверхностный анализ, то получилась следующая картина:\n",
    "- Франция и ОАЭ является ключевыми странами где тестирование прошло успешно, также успешны оказались Испания и США, хотя в группах они не совпали, но их тоже можно посчитать. Объяснение этого простое - все страны за последние 20 лет активно развивались и в них есть большой спрос на технологические продукты(к примеру тот же Чили не попал в рейтинг)\n",
    "- В качестве возраста удалось выделить группу от 19 до 35 лет, в отличии от других групп у них уже есть финансовая независимость и им проще всего принять нововведения в отличии от более возрастной группы, где сделать это гораздо сложнее. Но третья группа также имеет смысл, для раскатки, но для этого нужно производить более детально демографическое исследования, так как группы могут разница от стране к стране.\n",
    "- В качестве пола будет выступать только гендер - 1, так как исходные данные содержать в большинстве случаев информацию только о данном поле. Возможно это направленность приложения такая или проблема в выборке пола, достоверно узнать невозможно, но преобладает по массе своей именно 1 гендер.\n",
    "- По типу подписки, также хотелось бы узнать, к какой группе обрезаться, но результаты показались различными и можно выделять только такие группы как: trial_premium, premium_no_trial (там в двух группах результаты получились положительные )\n",
    "\n",
    "Рекомендация: перепровести тест, основываясь на корретных данных. Так как глубокий анализ пользователей в данном случая, может трактоваться некоректно. Лучше сбалансировать группы по полу, странам и количеству и повторить эксперемент в одном временном диапазоне."
   ]
  }
 ],
 "metadata": {
  "kernelspec": {
   "display_name": "Python 3",
   "language": "python",
   "name": "python3"
  },
  "language_info": {
   "codemirror_mode": {
    "name": "ipython",
    "version": 3
   },
   "file_extension": ".py",
   "mimetype": "text/x-python",
   "name": "python",
   "nbconvert_exporter": "python",
   "pygments_lexer": "ipython3",
   "version": "3.7.3"
  }
 },
 "nbformat": 4,
 "nbformat_minor": 4
}
