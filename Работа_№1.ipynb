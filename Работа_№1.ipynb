{
  "nbformat": 4,
  "nbformat_minor": 0,
  "metadata": {
    "colab": {
      "provenance": [],
      "authorship_tag": "ABX9TyNI8r+VV8vvPKX3WR27uUjV",
      "include_colab_link": true
    },
    "kernelspec": {
      "name": "python3",
      "display_name": "Python 3"
    },
    "language_info": {
      "name": "python"
    }
  },
  "cells": [
    {
      "cell_type": "markdown",
      "metadata": {
        "id": "view-in-github",
        "colab_type": "text"
      },
      "source": [
        "<a href=\"https://colab.research.google.com/github/hawk20434/AAB-TEST-research-project/blob/main/%D0%A0%D0%B0%D0%B1%D0%BE%D1%82%D0%B0_%E2%84%961.ipynb\" target=\"_parent\"><img src=\"https://colab.research.google.com/assets/colab-badge.svg\" alt=\"Open In Colab\"/></a>"
      ]
    },
    {
      "cell_type": "markdown",
      "source": [
        "# Python и анализ данных\n",
        "\n",
        "*   Группа: БД-231м\n",
        "*   Студент: Лыгин М.В\n",
        "\n",
        "\n"
      ],
      "metadata": {
        "id": "8UVs4HUmJPKE"
      }
    },
    {
      "cell_type": "code",
      "source": [
        "# Задание - 1. Написать цикл для выведения на экран каждой буквы своего ФИО/\n",
        "fio = \"Лыгин Михаил Вадимович\"\n",
        "\n",
        "for letter in fio:\n",
        "  print(letter)"
      ],
      "metadata": {
        "id": "DMZEPJ7yCekb",
        "colab": {
          "base_uri": "https://localhost:8080/"
        },
        "outputId": "f587c409-b194-4e39-f6ce-f5f52c79d10e"
      },
      "execution_count": 7,
      "outputs": [
        {
          "output_type": "stream",
          "name": "stdout",
          "text": [
            "Л\n",
            "ы\n",
            "г\n",
            "и\n",
            "н\n",
            " \n",
            "М\n",
            "и\n",
            "х\n",
            "а\n",
            "и\n",
            "л\n",
            " \n",
            "В\n",
            "а\n",
            "д\n",
            "и\n",
            "м\n",
            "о\n",
            "в\n",
            "и\n",
            "ч\n"
          ]
        }
      ]
    },
    {
      "cell_type": "code",
      "source": [
        "# Задание - 2. Написать функцию для перевода рубля в йену c округлением до 2х знаков после запятой.\n",
        "\n",
        "def rubles_to_yen(amount_in_rubles):\n",
        "    exchange_rate = 1.55  # курс ены\n",
        "    amount_in_yen = amount_in_rubles * exchange_rate\n",
        "    return amount_in_yen\n",
        "\n",
        "rubles = 105  # Сумма в рублях\n",
        "yen = rubles_to_yen(rubles)\n",
        "print(f\"{rubles} рублей равно {round(yen,2)} йен\")"
      ],
      "metadata": {
        "colab": {
          "base_uri": "https://localhost:8080/"
        },
        "id": "qLrDER8jJisG",
        "outputId": "09726ccd-d4ef-4d8e-8dd4-11381fff388b"
      },
      "execution_count": 19,
      "outputs": [
        {
          "output_type": "stream",
          "name": "stdout",
          "text": [
            "105 рублей равно 162.75 йен\n"
          ]
        }
      ]
    }
  ]
}